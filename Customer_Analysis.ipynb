{
 "cells": [
  {
   "cell_type": "code",
   "execution_count": 1,
   "id": "0c666dd0",
   "metadata": {},
   "outputs": [],
   "source": [
    "import pandas as pd\n",
    "import numpy as np \n",
    "import plotly.express as px\n",
    "import seaborn as sns\n",
    "import matplotlib.pyplot as plt"
   ]
  },
  {
   "cell_type": "markdown",
   "id": "246a8791",
   "metadata": {},
   "source": [
    "Trx_Rank ===> El User dah ma3 el Merchant dah dee kant el transaction rakam kam benhom\n",
    "\n",
    "Trx_Vlu ===> El conversion from points to actual money after the multiplication of Points with redemtion factor\n",
    "\n",
    "Trx_Age ===> El Traansaction dee kan ba2alha kam youm ma ben el User dah wel merchant 3and el Trx_Rank rakm kaza\n",
    "\n",
    "Customer_Age ===> El User dah a5er mara shoftoh kan men youm kza (El User Momken yeb2a a5er youm shofto feeh kan men 4 ayam we 3andoo 2 transactions_age taree5 awel wa7da kant fee nafs el youm w 2 wa7da kant online youm 8 )"
   ]
  },
  {
   "cell_type": "code",
   "execution_count": 2,
   "id": "e41fe6d0",
   "metadata": {},
   "outputs": [
    {
     "data": {
      "text/html": [
       "<div>\n",
       "<style scoped>\n",
       "    .dataframe tbody tr th:only-of-type {\n",
       "        vertical-align: middle;\n",
       "    }\n",
       "\n",
       "    .dataframe tbody tr th {\n",
       "        vertical-align: top;\n",
       "    }\n",
       "\n",
       "    .dataframe thead th {\n",
       "        text-align: right;\n",
       "    }\n",
       "</style>\n",
       "<table border=\"1\" class=\"dataframe\">\n",
       "  <thead>\n",
       "    <tr style=\"text-align: right;\">\n",
       "      <th></th>\n",
       "      <th>Trx_Rank</th>\n",
       "      <th>Points</th>\n",
       "      <th>Trx_Vlu</th>\n",
       "      <th>Trx_Age</th>\n",
       "      <th>Customer_Age</th>\n",
       "      <th>Category In English</th>\n",
       "      <th>User_Id</th>\n",
       "      <th>Mer_Name</th>\n",
       "    </tr>\n",
       "  </thead>\n",
       "  <tbody>\n",
       "    <tr>\n",
       "      <th>0</th>\n",
       "      <td>1</td>\n",
       "      <td>20140</td>\n",
       "      <td>2014.0</td>\n",
       "      <td>362</td>\n",
       "      <td>362</td>\n",
       "      <td>Fashion</td>\n",
       "      <td>21053</td>\n",
       "      <td>Shankar Traders</td>\n",
       "    </tr>\n",
       "    <tr>\n",
       "      <th>1</th>\n",
       "      <td>1</td>\n",
       "      <td>11200</td>\n",
       "      <td>1120.0</td>\n",
       "      <td>371</td>\n",
       "      <td>368</td>\n",
       "      <td>Fashion</td>\n",
       "      <td>26472</td>\n",
       "      <td>Shankar Traders</td>\n",
       "    </tr>\n",
       "    <tr>\n",
       "      <th>2</th>\n",
       "      <td>2</td>\n",
       "      <td>8500</td>\n",
       "      <td>850.0</td>\n",
       "      <td>368</td>\n",
       "      <td>368</td>\n",
       "      <td>Fashion</td>\n",
       "      <td>26472</td>\n",
       "      <td>Shankar Traders</td>\n",
       "    </tr>\n",
       "    <tr>\n",
       "      <th>3</th>\n",
       "      <td>1</td>\n",
       "      <td>1980</td>\n",
       "      <td>198.0</td>\n",
       "      <td>558</td>\n",
       "      <td>34</td>\n",
       "      <td>Fashion</td>\n",
       "      <td>27075</td>\n",
       "      <td>Shankar Traders</td>\n",
       "    </tr>\n",
       "    <tr>\n",
       "      <th>4</th>\n",
       "      <td>1</td>\n",
       "      <td>2400</td>\n",
       "      <td>240.0</td>\n",
       "      <td>413</td>\n",
       "      <td>413</td>\n",
       "      <td>Fashion</td>\n",
       "      <td>27417</td>\n",
       "      <td>Shankar Traders</td>\n",
       "    </tr>\n",
       "    <tr>\n",
       "      <th>...</th>\n",
       "      <td>...</td>\n",
       "      <td>...</td>\n",
       "      <td>...</td>\n",
       "      <td>...</td>\n",
       "      <td>...</td>\n",
       "      <td>...</td>\n",
       "      <td>...</td>\n",
       "      <td>...</td>\n",
       "    </tr>\n",
       "    <tr>\n",
       "      <th>43667</th>\n",
       "      <td>1</td>\n",
       "      <td>3050</td>\n",
       "      <td>305.0</td>\n",
       "      <td>27</td>\n",
       "      <td>27</td>\n",
       "      <td>F&amp;B</td>\n",
       "      <td>26865</td>\n",
       "      <td>Cuttack Curtain Corner</td>\n",
       "    </tr>\n",
       "    <tr>\n",
       "      <th>43668</th>\n",
       "      <td>1</td>\n",
       "      <td>3120</td>\n",
       "      <td>312.0</td>\n",
       "      <td>31</td>\n",
       "      <td>31</td>\n",
       "      <td>F&amp;B</td>\n",
       "      <td>27128</td>\n",
       "      <td>Cuttack Curtain Corner</td>\n",
       "    </tr>\n",
       "    <tr>\n",
       "      <th>43669</th>\n",
       "      <td>1</td>\n",
       "      <td>1200</td>\n",
       "      <td>120.0</td>\n",
       "      <td>25</td>\n",
       "      <td>25</td>\n",
       "      <td>F&amp;B</td>\n",
       "      <td>28814</td>\n",
       "      <td>Cuttack Curtain Corner</td>\n",
       "    </tr>\n",
       "    <tr>\n",
       "      <th>43670</th>\n",
       "      <td>1</td>\n",
       "      <td>20</td>\n",
       "      <td>2.0</td>\n",
       "      <td>2</td>\n",
       "      <td>2</td>\n",
       "      <td>Other</td>\n",
       "      <td>29107</td>\n",
       "      <td>Rourkela Rice Retail</td>\n",
       "    </tr>\n",
       "    <tr>\n",
       "      <th>43671</th>\n",
       "      <td>2</td>\n",
       "      <td>20</td>\n",
       "      <td>2.0</td>\n",
       "      <td>2</td>\n",
       "      <td>2</td>\n",
       "      <td>Other</td>\n",
       "      <td>29107</td>\n",
       "      <td>Rourkela Rice Retail</td>\n",
       "    </tr>\n",
       "  </tbody>\n",
       "</table>\n",
       "<p>43672 rows × 8 columns</p>\n",
       "</div>"
      ],
      "text/plain": [
       "       Trx_Rank  Points  Trx_Vlu  Trx_Age  Customer_Age Category In English  \\\n",
       "0             1   20140   2014.0      362           362             Fashion   \n",
       "1             1   11200   1120.0      371           368             Fashion   \n",
       "2             2    8500    850.0      368           368             Fashion   \n",
       "3             1    1980    198.0      558            34             Fashion   \n",
       "4             1    2400    240.0      413           413             Fashion   \n",
       "...         ...     ...      ...      ...           ...                 ...   \n",
       "43667         1    3050    305.0       27            27                 F&B   \n",
       "43668         1    3120    312.0       31            31                 F&B   \n",
       "43669         1    1200    120.0       25            25                 F&B   \n",
       "43670         1      20      2.0        2             2               Other   \n",
       "43671         2      20      2.0        2             2               Other   \n",
       "\n",
       "       User_Id                Mer_Name  \n",
       "0        21053         Shankar Traders  \n",
       "1        26472         Shankar Traders  \n",
       "2        26472         Shankar Traders  \n",
       "3        27075         Shankar Traders  \n",
       "4        27417         Shankar Traders  \n",
       "...        ...                     ...  \n",
       "43667    26865  Cuttack Curtain Corner  \n",
       "43668    27128  Cuttack Curtain Corner  \n",
       "43669    28814  Cuttack Curtain Corner  \n",
       "43670    29107    Rourkela Rice Retail  \n",
       "43671    29107    Rourkela Rice Retail  \n",
       "\n",
       "[43672 rows x 8 columns]"
      ]
     },
     "execution_count": 2,
     "metadata": {},
     "output_type": "execute_result"
    }
   ],
   "source": [
    "df = pd.read_csv('Cleaned_Data_Merchant_Name.csv')\n",
    "df"
   ]
  },
  {
   "cell_type": "code",
   "execution_count": 4,
   "id": "183afa97",
   "metadata": {},
   "outputs": [
    {
     "data": {
      "text/html": [
       "<div>\n",
       "<style scoped>\n",
       "    .dataframe tbody tr th:only-of-type {\n",
       "        vertical-align: middle;\n",
       "    }\n",
       "\n",
       "    .dataframe tbody tr th {\n",
       "        vertical-align: top;\n",
       "    }\n",
       "\n",
       "    .dataframe thead th {\n",
       "        text-align: right;\n",
       "    }\n",
       "</style>\n",
       "<table border=\"1\" class=\"dataframe\">\n",
       "  <thead>\n",
       "    <tr style=\"text-align: right;\">\n",
       "      <th></th>\n",
       "      <th>Trx_Rank</th>\n",
       "      <th>Points</th>\n",
       "      <th>Trx_Vlu</th>\n",
       "      <th>Trx_Age</th>\n",
       "      <th>Customer_Age</th>\n",
       "      <th>Category In English</th>\n",
       "      <th>User_Id</th>\n",
       "      <th>Mer_Name</th>\n",
       "    </tr>\n",
       "  </thead>\n",
       "  <tbody>\n",
       "    <tr>\n",
       "      <th>10511</th>\n",
       "      <td>1</td>\n",
       "      <td>5200</td>\n",
       "      <td>520.0</td>\n",
       "      <td>161</td>\n",
       "      <td>72</td>\n",
       "      <td>Grocery</td>\n",
       "      <td>68</td>\n",
       "      <td>Rajasthan Handicrafts</td>\n",
       "    </tr>\n",
       "    <tr>\n",
       "      <th>10512</th>\n",
       "      <td>2</td>\n",
       "      <td>1360</td>\n",
       "      <td>136.0</td>\n",
       "      <td>72</td>\n",
       "      <td>72</td>\n",
       "      <td>Grocery</td>\n",
       "      <td>68</td>\n",
       "      <td>Rajasthan Handicrafts</td>\n",
       "    </tr>\n",
       "  </tbody>\n",
       "</table>\n",
       "</div>"
      ],
      "text/plain": [
       "       Trx_Rank  Points  Trx_Vlu  Trx_Age  Customer_Age Category In English  \\\n",
       "10511         1    5200    520.0      161            72             Grocery   \n",
       "10512         2    1360    136.0       72            72             Grocery   \n",
       "\n",
       "       User_Id               Mer_Name  \n",
       "10511       68  Rajasthan Handicrafts  \n",
       "10512       68  Rajasthan Handicrafts  "
      ]
     },
     "execution_count": 4,
     "metadata": {},
     "output_type": "execute_result"
    }
   ],
   "source": [
    "df[df['User_Id']==68]"
   ]
  },
  {
   "cell_type": "code",
   "execution_count": 3,
   "id": "6fdb322a",
   "metadata": {},
   "outputs": [
    {
     "data": {
      "text/plain": [
       "0"
      ]
     },
     "execution_count": 3,
     "metadata": {},
     "output_type": "execute_result"
    }
   ],
   "source": [
    "df.duplicated().sum()"
   ]
  },
  {
   "cell_type": "code",
   "execution_count": 4,
   "id": "91427dd1",
   "metadata": {},
   "outputs": [
    {
     "name": "stdout",
     "output_type": "stream",
     "text": [
      "<class 'pandas.core.frame.DataFrame'>\n",
      "RangeIndex: 43672 entries, 0 to 43671\n",
      "Data columns (total 8 columns):\n",
      " #   Column               Non-Null Count  Dtype  \n",
      "---  ------               --------------  -----  \n",
      " 0   Trx_Rank             43672 non-null  int64  \n",
      " 1   Points               43672 non-null  int64  \n",
      " 2   Trx_Vlu              43672 non-null  float64\n",
      " 3   Trx_Age              43672 non-null  int64  \n",
      " 4   Customer_Age         43672 non-null  int64  \n",
      " 5   Category In English  43672 non-null  object \n",
      " 6   User_Id              43672 non-null  int64  \n",
      " 7   Mer_Name             43672 non-null  object \n",
      "dtypes: float64(1), int64(5), object(2)\n",
      "memory usage: 2.7+ MB\n"
     ]
    }
   ],
   "source": [
    "df.info()"
   ]
  },
  {
   "cell_type": "code",
   "execution_count": 5,
   "id": "48744516",
   "metadata": {},
   "outputs": [
    {
     "data": {
      "text/html": [
       "<div>\n",
       "<style scoped>\n",
       "    .dataframe tbody tr th:only-of-type {\n",
       "        vertical-align: middle;\n",
       "    }\n",
       "\n",
       "    .dataframe tbody tr th {\n",
       "        vertical-align: top;\n",
       "    }\n",
       "\n",
       "    .dataframe thead th {\n",
       "        text-align: right;\n",
       "    }\n",
       "</style>\n",
       "<table border=\"1\" class=\"dataframe\">\n",
       "  <thead>\n",
       "    <tr style=\"text-align: right;\">\n",
       "      <th></th>\n",
       "      <th>Trx_Rank</th>\n",
       "      <th>Points</th>\n",
       "      <th>Trx_Vlu</th>\n",
       "      <th>Trx_Age</th>\n",
       "      <th>Customer_Age</th>\n",
       "      <th>User_Id</th>\n",
       "    </tr>\n",
       "  </thead>\n",
       "  <tbody>\n",
       "    <tr>\n",
       "      <th>count</th>\n",
       "      <td>43672.000000</td>\n",
       "      <td>43672.000000</td>\n",
       "      <td>43672.000000</td>\n",
       "      <td>43672.000000</td>\n",
       "      <td>43672.000000</td>\n",
       "      <td>43672.000000</td>\n",
       "    </tr>\n",
       "    <tr>\n",
       "      <th>mean</th>\n",
       "      <td>1.265227</td>\n",
       "      <td>3312.249748</td>\n",
       "      <td>331.224975</td>\n",
       "      <td>185.186664</td>\n",
       "      <td>144.027844</td>\n",
       "      <td>17173.411889</td>\n",
       "    </tr>\n",
       "    <tr>\n",
       "      <th>std</th>\n",
       "      <td>0.776549</td>\n",
       "      <td>5756.374137</td>\n",
       "      <td>575.637414</td>\n",
       "      <td>121.989540</td>\n",
       "      <td>114.764448</td>\n",
       "      <td>9665.399084</td>\n",
       "    </tr>\n",
       "    <tr>\n",
       "      <th>min</th>\n",
       "      <td>1.000000</td>\n",
       "      <td>20.000000</td>\n",
       "      <td>2.000000</td>\n",
       "      <td>1.000000</td>\n",
       "      <td>1.000000</td>\n",
       "      <td>0.000000</td>\n",
       "    </tr>\n",
       "    <tr>\n",
       "      <th>25%</th>\n",
       "      <td>1.000000</td>\n",
       "      <td>1220.000000</td>\n",
       "      <td>122.000000</td>\n",
       "      <td>62.000000</td>\n",
       "      <td>34.000000</td>\n",
       "      <td>8710.750000</td>\n",
       "    </tr>\n",
       "    <tr>\n",
       "      <th>50%</th>\n",
       "      <td>1.000000</td>\n",
       "      <td>1893.500000</td>\n",
       "      <td>189.350000</td>\n",
       "      <td>203.000000</td>\n",
       "      <td>115.000000</td>\n",
       "      <td>17561.000000</td>\n",
       "    </tr>\n",
       "    <tr>\n",
       "      <th>75%</th>\n",
       "      <td>1.000000</td>\n",
       "      <td>3100.000000</td>\n",
       "      <td>310.000000</td>\n",
       "      <td>271.000000</td>\n",
       "      <td>252.000000</td>\n",
       "      <td>25634.250000</td>\n",
       "    </tr>\n",
       "    <tr>\n",
       "      <th>max</th>\n",
       "      <td>17.000000</td>\n",
       "      <td>263800.000000</td>\n",
       "      <td>26380.000000</td>\n",
       "      <td>698.000000</td>\n",
       "      <td>682.000000</td>\n",
       "      <td>33518.000000</td>\n",
       "    </tr>\n",
       "  </tbody>\n",
       "</table>\n",
       "</div>"
      ],
      "text/plain": [
       "           Trx_Rank         Points       Trx_Vlu       Trx_Age  Customer_Age  \\\n",
       "count  43672.000000   43672.000000  43672.000000  43672.000000  43672.000000   \n",
       "mean       1.265227    3312.249748    331.224975    185.186664    144.027844   \n",
       "std        0.776549    5756.374137    575.637414    121.989540    114.764448   \n",
       "min        1.000000      20.000000      2.000000      1.000000      1.000000   \n",
       "25%        1.000000    1220.000000    122.000000     62.000000     34.000000   \n",
       "50%        1.000000    1893.500000    189.350000    203.000000    115.000000   \n",
       "75%        1.000000    3100.000000    310.000000    271.000000    252.000000   \n",
       "max       17.000000  263800.000000  26380.000000    698.000000    682.000000   \n",
       "\n",
       "            User_Id  \n",
       "count  43672.000000  \n",
       "mean   17173.411889  \n",
       "std     9665.399084  \n",
       "min        0.000000  \n",
       "25%     8710.750000  \n",
       "50%    17561.000000  \n",
       "75%    25634.250000  \n",
       "max    33518.000000  "
      ]
     },
     "execution_count": 5,
     "metadata": {},
     "output_type": "execute_result"
    }
   ],
   "source": [
    "df.describe()"
   ]
  },
  {
   "cell_type": "code",
   "execution_count": 6,
   "id": "46a46d2e",
   "metadata": {},
   "outputs": [
    {
     "data": {
      "text/html": [
       "<div>\n",
       "<style scoped>\n",
       "    .dataframe tbody tr th:only-of-type {\n",
       "        vertical-align: middle;\n",
       "    }\n",
       "\n",
       "    .dataframe tbody tr th {\n",
       "        vertical-align: top;\n",
       "    }\n",
       "\n",
       "    .dataframe thead th {\n",
       "        text-align: right;\n",
       "    }\n",
       "</style>\n",
       "<table border=\"1\" class=\"dataframe\">\n",
       "  <thead>\n",
       "    <tr style=\"text-align: right;\">\n",
       "      <th></th>\n",
       "      <th>Trx_Rank</th>\n",
       "      <th>Points</th>\n",
       "      <th>Trx_Vlu</th>\n",
       "      <th>Trx_Age</th>\n",
       "      <th>Customer_Age</th>\n",
       "      <th>Category In English</th>\n",
       "      <th>User_Id</th>\n",
       "      <th>Mer_Name</th>\n",
       "    </tr>\n",
       "  </thead>\n",
       "  <tbody>\n",
       "    <tr>\n",
       "      <th>11</th>\n",
       "      <td>1</td>\n",
       "      <td>20</td>\n",
       "      <td>2.0</td>\n",
       "      <td>39</td>\n",
       "      <td>1</td>\n",
       "      <td>F&amp;B</td>\n",
       "      <td>13519</td>\n",
       "      <td>Radha Emporium</td>\n",
       "    </tr>\n",
       "    <tr>\n",
       "      <th>24</th>\n",
       "      <td>1</td>\n",
       "      <td>20</td>\n",
       "      <td>2.0</td>\n",
       "      <td>356</td>\n",
       "      <td>27</td>\n",
       "      <td>Other</td>\n",
       "      <td>24999</td>\n",
       "      <td>Ganpati Enterprises</td>\n",
       "    </tr>\n",
       "    <tr>\n",
       "      <th>2046</th>\n",
       "      <td>1</td>\n",
       "      <td>20</td>\n",
       "      <td>2.0</td>\n",
       "      <td>164</td>\n",
       "      <td>67</td>\n",
       "      <td>Grocery</td>\n",
       "      <td>9834</td>\n",
       "      <td>Saraswati Fabrics</td>\n",
       "    </tr>\n",
       "    <tr>\n",
       "      <th>2409</th>\n",
       "      <td>2</td>\n",
       "      <td>20</td>\n",
       "      <td>2.0</td>\n",
       "      <td>15</td>\n",
       "      <td>1</td>\n",
       "      <td>Grocery</td>\n",
       "      <td>11414</td>\n",
       "      <td>Saraswati Fabrics</td>\n",
       "    </tr>\n",
       "    <tr>\n",
       "      <th>3730</th>\n",
       "      <td>1</td>\n",
       "      <td>20</td>\n",
       "      <td>2.0</td>\n",
       "      <td>347</td>\n",
       "      <td>303</td>\n",
       "      <td>Grocery</td>\n",
       "      <td>17844</td>\n",
       "      <td>Saraswati Fabrics</td>\n",
       "    </tr>\n",
       "    <tr>\n",
       "      <th>...</th>\n",
       "      <td>...</td>\n",
       "      <td>...</td>\n",
       "      <td>...</td>\n",
       "      <td>...</td>\n",
       "      <td>...</td>\n",
       "      <td>...</td>\n",
       "      <td>...</td>\n",
       "      <td>...</td>\n",
       "    </tr>\n",
       "    <tr>\n",
       "      <th>43651</th>\n",
       "      <td>1</td>\n",
       "      <td>20</td>\n",
       "      <td>2.0</td>\n",
       "      <td>67</td>\n",
       "      <td>67</td>\n",
       "      <td>F&amp;B</td>\n",
       "      <td>9834</td>\n",
       "      <td>Cuttack Curtain Corner</td>\n",
       "    </tr>\n",
       "    <tr>\n",
       "      <th>43656</th>\n",
       "      <td>2</td>\n",
       "      <td>20</td>\n",
       "      <td>2.0</td>\n",
       "      <td>56</td>\n",
       "      <td>1</td>\n",
       "      <td>F&amp;B</td>\n",
       "      <td>13519</td>\n",
       "      <td>Cuttack Curtain Corner</td>\n",
       "    </tr>\n",
       "    <tr>\n",
       "      <th>43657</th>\n",
       "      <td>4</td>\n",
       "      <td>20</td>\n",
       "      <td>2.0</td>\n",
       "      <td>56</td>\n",
       "      <td>1</td>\n",
       "      <td>F&amp;B</td>\n",
       "      <td>13519</td>\n",
       "      <td>Cuttack Curtain Corner</td>\n",
       "    </tr>\n",
       "    <tr>\n",
       "      <th>43670</th>\n",
       "      <td>1</td>\n",
       "      <td>20</td>\n",
       "      <td>2.0</td>\n",
       "      <td>2</td>\n",
       "      <td>2</td>\n",
       "      <td>Other</td>\n",
       "      <td>29107</td>\n",
       "      <td>Rourkela Rice Retail</td>\n",
       "    </tr>\n",
       "    <tr>\n",
       "      <th>43671</th>\n",
       "      <td>2</td>\n",
       "      <td>20</td>\n",
       "      <td>2.0</td>\n",
       "      <td>2</td>\n",
       "      <td>2</td>\n",
       "      <td>Other</td>\n",
       "      <td>29107</td>\n",
       "      <td>Rourkela Rice Retail</td>\n",
       "    </tr>\n",
       "  </tbody>\n",
       "</table>\n",
       "<p>67 rows × 8 columns</p>\n",
       "</div>"
      ],
      "text/plain": [
       "       Trx_Rank  Points  Trx_Vlu  Trx_Age  Customer_Age Category In English  \\\n",
       "11            1      20      2.0       39             1                 F&B   \n",
       "24            1      20      2.0      356            27               Other   \n",
       "2046          1      20      2.0      164            67             Grocery   \n",
       "2409          2      20      2.0       15             1             Grocery   \n",
       "3730          1      20      2.0      347           303             Grocery   \n",
       "...         ...     ...      ...      ...           ...                 ...   \n",
       "43651         1      20      2.0       67            67                 F&B   \n",
       "43656         2      20      2.0       56             1                 F&B   \n",
       "43657         4      20      2.0       56             1                 F&B   \n",
       "43670         1      20      2.0        2             2               Other   \n",
       "43671         2      20      2.0        2             2               Other   \n",
       "\n",
       "       User_Id                Mer_Name  \n",
       "11       13519          Radha Emporium  \n",
       "24       24999     Ganpati Enterprises  \n",
       "2046      9834       Saraswati Fabrics  \n",
       "2409     11414       Saraswati Fabrics  \n",
       "3730     17844       Saraswati Fabrics  \n",
       "...        ...                     ...  \n",
       "43651     9834  Cuttack Curtain Corner  \n",
       "43656    13519  Cuttack Curtain Corner  \n",
       "43657    13519  Cuttack Curtain Corner  \n",
       "43670    29107    Rourkela Rice Retail  \n",
       "43671    29107    Rourkela Rice Retail  \n",
       "\n",
       "[67 rows x 8 columns]"
      ]
     },
     "execution_count": 6,
     "metadata": {},
     "output_type": "execute_result"
    }
   ],
   "source": [
    "df[df['Points'] <= 20]"
   ]
  },
  {
   "cell_type": "code",
   "execution_count": 7,
   "id": "f5f983fe",
   "metadata": {},
   "outputs": [
    {
     "data": {
      "text/html": [
       "<div>\n",
       "<style scoped>\n",
       "    .dataframe tbody tr th:only-of-type {\n",
       "        vertical-align: middle;\n",
       "    }\n",
       "\n",
       "    .dataframe tbody tr th {\n",
       "        vertical-align: top;\n",
       "    }\n",
       "\n",
       "    .dataframe thead th {\n",
       "        text-align: right;\n",
       "    }\n",
       "</style>\n",
       "<table border=\"1\" class=\"dataframe\">\n",
       "  <thead>\n",
       "    <tr style=\"text-align: right;\">\n",
       "      <th></th>\n",
       "      <th>Trx_Rank</th>\n",
       "      <th>Points</th>\n",
       "      <th>Trx_Vlu</th>\n",
       "      <th>Trx_Age</th>\n",
       "      <th>Customer_Age</th>\n",
       "      <th>Category In English</th>\n",
       "      <th>User_Id</th>\n",
       "      <th>Mer_Name</th>\n",
       "    </tr>\n",
       "  </thead>\n",
       "  <tbody>\n",
       "    <tr>\n",
       "      <th>0</th>\n",
       "      <td>1</td>\n",
       "      <td>20140</td>\n",
       "      <td>2014.0</td>\n",
       "      <td>362</td>\n",
       "      <td>362</td>\n",
       "      <td>Fashion</td>\n",
       "      <td>21053</td>\n",
       "      <td>Shankar Traders</td>\n",
       "    </tr>\n",
       "    <tr>\n",
       "      <th>2</th>\n",
       "      <td>2</td>\n",
       "      <td>8500</td>\n",
       "      <td>850.0</td>\n",
       "      <td>368</td>\n",
       "      <td>368</td>\n",
       "      <td>Fashion</td>\n",
       "      <td>26472</td>\n",
       "      <td>Shankar Traders</td>\n",
       "    </tr>\n",
       "    <tr>\n",
       "      <th>4</th>\n",
       "      <td>1</td>\n",
       "      <td>2400</td>\n",
       "      <td>240.0</td>\n",
       "      <td>413</td>\n",
       "      <td>413</td>\n",
       "      <td>Fashion</td>\n",
       "      <td>27417</td>\n",
       "      <td>Shankar Traders</td>\n",
       "    </tr>\n",
       "    <tr>\n",
       "      <th>5</th>\n",
       "      <td>1</td>\n",
       "      <td>16740</td>\n",
       "      <td>1674.0</td>\n",
       "      <td>34</td>\n",
       "      <td>34</td>\n",
       "      <td>F&amp;B</td>\n",
       "      <td>1447</td>\n",
       "      <td>Radha Emporium</td>\n",
       "    </tr>\n",
       "    <tr>\n",
       "      <th>6</th>\n",
       "      <td>1</td>\n",
       "      <td>5820</td>\n",
       "      <td>582.0</td>\n",
       "      <td>33</td>\n",
       "      <td>33</td>\n",
       "      <td>F&amp;B</td>\n",
       "      <td>2709</td>\n",
       "      <td>Radha Emporium</td>\n",
       "    </tr>\n",
       "    <tr>\n",
       "      <th>...</th>\n",
       "      <td>...</td>\n",
       "      <td>...</td>\n",
       "      <td>...</td>\n",
       "      <td>...</td>\n",
       "      <td>...</td>\n",
       "      <td>...</td>\n",
       "      <td>...</td>\n",
       "      <td>...</td>\n",
       "    </tr>\n",
       "    <tr>\n",
       "      <th>43667</th>\n",
       "      <td>1</td>\n",
       "      <td>3050</td>\n",
       "      <td>305.0</td>\n",
       "      <td>27</td>\n",
       "      <td>27</td>\n",
       "      <td>F&amp;B</td>\n",
       "      <td>26865</td>\n",
       "      <td>Cuttack Curtain Corner</td>\n",
       "    </tr>\n",
       "    <tr>\n",
       "      <th>43668</th>\n",
       "      <td>1</td>\n",
       "      <td>3120</td>\n",
       "      <td>312.0</td>\n",
       "      <td>31</td>\n",
       "      <td>31</td>\n",
       "      <td>F&amp;B</td>\n",
       "      <td>27128</td>\n",
       "      <td>Cuttack Curtain Corner</td>\n",
       "    </tr>\n",
       "    <tr>\n",
       "      <th>43669</th>\n",
       "      <td>1</td>\n",
       "      <td>1200</td>\n",
       "      <td>120.0</td>\n",
       "      <td>25</td>\n",
       "      <td>25</td>\n",
       "      <td>F&amp;B</td>\n",
       "      <td>28814</td>\n",
       "      <td>Cuttack Curtain Corner</td>\n",
       "    </tr>\n",
       "    <tr>\n",
       "      <th>43670</th>\n",
       "      <td>1</td>\n",
       "      <td>20</td>\n",
       "      <td>2.0</td>\n",
       "      <td>2</td>\n",
       "      <td>2</td>\n",
       "      <td>Other</td>\n",
       "      <td>29107</td>\n",
       "      <td>Rourkela Rice Retail</td>\n",
       "    </tr>\n",
       "    <tr>\n",
       "      <th>43671</th>\n",
       "      <td>2</td>\n",
       "      <td>20</td>\n",
       "      <td>2.0</td>\n",
       "      <td>2</td>\n",
       "      <td>2</td>\n",
       "      <td>Other</td>\n",
       "      <td>29107</td>\n",
       "      <td>Rourkela Rice Retail</td>\n",
       "    </tr>\n",
       "  </tbody>\n",
       "</table>\n",
       "<p>33850 rows × 8 columns</p>\n",
       "</div>"
      ],
      "text/plain": [
       "       Trx_Rank  Points  Trx_Vlu  Trx_Age  Customer_Age Category In English  \\\n",
       "0             1   20140   2014.0      362           362             Fashion   \n",
       "2             2    8500    850.0      368           368             Fashion   \n",
       "4             1    2400    240.0      413           413             Fashion   \n",
       "5             1   16740   1674.0       34            34                 F&B   \n",
       "6             1    5820    582.0       33            33                 F&B   \n",
       "...         ...     ...      ...      ...           ...                 ...   \n",
       "43667         1    3050    305.0       27            27                 F&B   \n",
       "43668         1    3120    312.0       31            31                 F&B   \n",
       "43669         1    1200    120.0       25            25                 F&B   \n",
       "43670         1      20      2.0        2             2               Other   \n",
       "43671         2      20      2.0        2             2               Other   \n",
       "\n",
       "       User_Id                Mer_Name  \n",
       "0        21053         Shankar Traders  \n",
       "2        26472         Shankar Traders  \n",
       "4        27417         Shankar Traders  \n",
       "5         1447          Radha Emporium  \n",
       "6         2709          Radha Emporium  \n",
       "...        ...                     ...  \n",
       "43667    26865  Cuttack Curtain Corner  \n",
       "43668    27128  Cuttack Curtain Corner  \n",
       "43669    28814  Cuttack Curtain Corner  \n",
       "43670    29107    Rourkela Rice Retail  \n",
       "43671    29107    Rourkela Rice Retail  \n",
       "\n",
       "[33850 rows x 8 columns]"
      ]
     },
     "execution_count": 7,
     "metadata": {},
     "output_type": "execute_result"
    }
   ],
   "source": [
    "df[df['Trx_Age'] == df['Customer_Age']]"
   ]
  },
  {
   "cell_type": "markdown",
   "id": "15105c3c",
   "metadata": {},
   "source": [
    "Checking if Rank is equal to 1 when the Transaction age is equal to Customer age as when the transactions happens at the same time of the last day customer "
   ]
  },
  {
   "cell_type": "code",
   "execution_count": 8,
   "id": "67783abc",
   "metadata": {},
   "outputs": [
    {
     "data": {
      "text/plain": [
       "Jai Hind General Stores         3387\n",
       "Amritsar Auto Accessories       1302\n",
       "Gurgaon Gift Gallery            1012\n",
       "Mumbai Fashion Hub               907\n",
       "Pune Perfumes Paradise           553\n",
       "Varanasi Silk House              157\n",
       "Jodhpur Jewelry Junction         104\n",
       "Nashik Noodle Niche               88\n",
       "Bhubaneswar Baker's Boutique      47\n",
       "Cuttack Curtain Corner            41\n",
       "Jamshedpur Jeans Junction         38\n",
       "Punjabi Furniture Palace          35\n",
       "Jaipur Pottery Emporium           19\n",
       "Radha Emporium                    11\n",
       "Goa Grocery Galaxy                 6\n",
       "Udaipur Utensil Universe           4\n",
       "Kollam Kitchenware Kingdom         4\n",
       "Bangalore Book House               2\n",
       "Raipur Rice Retail                 2\n",
       "Chennai Gems and Jewels            1\n",
       "Name: Mer_Name, dtype: int64"
      ]
     },
     "execution_count": 8,
     "metadata": {},
     "output_type": "execute_result"
    }
   ],
   "source": [
    "df[df['Category In English'] == 'F&B']['Mer_Name'].value_counts()"
   ]
  },
  {
   "cell_type": "code",
   "execution_count": 9,
   "id": "3115fe5d",
   "metadata": {},
   "outputs": [
    {
     "data": {
      "text/plain": [
       "1     29210\n",
       "2      3449\n",
       "3       745\n",
       "4       267\n",
       "5        89\n",
       "6        40\n",
       "7        22\n",
       "8        11\n",
       "9         7\n",
       "12        4\n",
       "10        3\n",
       "11        2\n",
       "13        1\n",
       "Name: Trx_Rank, dtype: int64"
      ]
     },
     "execution_count": 9,
     "metadata": {},
     "output_type": "execute_result"
    }
   ],
   "source": [
    "df[df['Trx_Age'] == df['Customer_Age']]['Trx_Rank'].value_counts()"
   ]
  },
  {
   "cell_type": "code",
   "execution_count": 10,
   "id": "35cb1d64",
   "metadata": {},
   "outputs": [],
   "source": [
    "df['Trx_Rank'] = df.apply(lambda r: 1 if (r['Trx_Rank'] > 1) and (r['Trx_Age'] == r['Customer_Age']) else r['Trx_Rank'], axis=1)"
   ]
  },
  {
   "cell_type": "code",
   "execution_count": 11,
   "id": "73a92193",
   "metadata": {},
   "outputs": [
    {
     "data": {
      "text/html": [
       "<div>\n",
       "<style scoped>\n",
       "    .dataframe tbody tr th:only-of-type {\n",
       "        vertical-align: middle;\n",
       "    }\n",
       "\n",
       "    .dataframe tbody tr th {\n",
       "        vertical-align: top;\n",
       "    }\n",
       "\n",
       "    .dataframe thead th {\n",
       "        text-align: right;\n",
       "    }\n",
       "</style>\n",
       "<table border=\"1\" class=\"dataframe\">\n",
       "  <thead>\n",
       "    <tr style=\"text-align: right;\">\n",
       "      <th></th>\n",
       "      <th>Trx_Rank</th>\n",
       "      <th>Points</th>\n",
       "      <th>Trx_Vlu</th>\n",
       "      <th>Trx_Age</th>\n",
       "      <th>Customer_Age</th>\n",
       "      <th>Category In English</th>\n",
       "      <th>User_Id</th>\n",
       "      <th>Mer_Name</th>\n",
       "    </tr>\n",
       "  </thead>\n",
       "  <tbody>\n",
       "    <tr>\n",
       "      <th>0</th>\n",
       "      <td>1</td>\n",
       "      <td>20140</td>\n",
       "      <td>2014.0</td>\n",
       "      <td>362</td>\n",
       "      <td>362</td>\n",
       "      <td>Fashion</td>\n",
       "      <td>21053</td>\n",
       "      <td>Shankar Traders</td>\n",
       "    </tr>\n",
       "    <tr>\n",
       "      <th>2</th>\n",
       "      <td>1</td>\n",
       "      <td>8500</td>\n",
       "      <td>850.0</td>\n",
       "      <td>368</td>\n",
       "      <td>368</td>\n",
       "      <td>Fashion</td>\n",
       "      <td>26472</td>\n",
       "      <td>Shankar Traders</td>\n",
       "    </tr>\n",
       "    <tr>\n",
       "      <th>4</th>\n",
       "      <td>1</td>\n",
       "      <td>2400</td>\n",
       "      <td>240.0</td>\n",
       "      <td>413</td>\n",
       "      <td>413</td>\n",
       "      <td>Fashion</td>\n",
       "      <td>27417</td>\n",
       "      <td>Shankar Traders</td>\n",
       "    </tr>\n",
       "    <tr>\n",
       "      <th>5</th>\n",
       "      <td>1</td>\n",
       "      <td>16740</td>\n",
       "      <td>1674.0</td>\n",
       "      <td>34</td>\n",
       "      <td>34</td>\n",
       "      <td>F&amp;B</td>\n",
       "      <td>1447</td>\n",
       "      <td>Radha Emporium</td>\n",
       "    </tr>\n",
       "    <tr>\n",
       "      <th>6</th>\n",
       "      <td>1</td>\n",
       "      <td>5820</td>\n",
       "      <td>582.0</td>\n",
       "      <td>33</td>\n",
       "      <td>33</td>\n",
       "      <td>F&amp;B</td>\n",
       "      <td>2709</td>\n",
       "      <td>Radha Emporium</td>\n",
       "    </tr>\n",
       "    <tr>\n",
       "      <th>...</th>\n",
       "      <td>...</td>\n",
       "      <td>...</td>\n",
       "      <td>...</td>\n",
       "      <td>...</td>\n",
       "      <td>...</td>\n",
       "      <td>...</td>\n",
       "      <td>...</td>\n",
       "      <td>...</td>\n",
       "    </tr>\n",
       "    <tr>\n",
       "      <th>43667</th>\n",
       "      <td>1</td>\n",
       "      <td>3050</td>\n",
       "      <td>305.0</td>\n",
       "      <td>27</td>\n",
       "      <td>27</td>\n",
       "      <td>F&amp;B</td>\n",
       "      <td>26865</td>\n",
       "      <td>Cuttack Curtain Corner</td>\n",
       "    </tr>\n",
       "    <tr>\n",
       "      <th>43668</th>\n",
       "      <td>1</td>\n",
       "      <td>3120</td>\n",
       "      <td>312.0</td>\n",
       "      <td>31</td>\n",
       "      <td>31</td>\n",
       "      <td>F&amp;B</td>\n",
       "      <td>27128</td>\n",
       "      <td>Cuttack Curtain Corner</td>\n",
       "    </tr>\n",
       "    <tr>\n",
       "      <th>43669</th>\n",
       "      <td>1</td>\n",
       "      <td>1200</td>\n",
       "      <td>120.0</td>\n",
       "      <td>25</td>\n",
       "      <td>25</td>\n",
       "      <td>F&amp;B</td>\n",
       "      <td>28814</td>\n",
       "      <td>Cuttack Curtain Corner</td>\n",
       "    </tr>\n",
       "    <tr>\n",
       "      <th>43670</th>\n",
       "      <td>1</td>\n",
       "      <td>20</td>\n",
       "      <td>2.0</td>\n",
       "      <td>2</td>\n",
       "      <td>2</td>\n",
       "      <td>Other</td>\n",
       "      <td>29107</td>\n",
       "      <td>Rourkela Rice Retail</td>\n",
       "    </tr>\n",
       "    <tr>\n",
       "      <th>43671</th>\n",
       "      <td>1</td>\n",
       "      <td>20</td>\n",
       "      <td>2.0</td>\n",
       "      <td>2</td>\n",
       "      <td>2</td>\n",
       "      <td>Other</td>\n",
       "      <td>29107</td>\n",
       "      <td>Rourkela Rice Retail</td>\n",
       "    </tr>\n",
       "  </tbody>\n",
       "</table>\n",
       "<p>33850 rows × 8 columns</p>\n",
       "</div>"
      ],
      "text/plain": [
       "       Trx_Rank  Points  Trx_Vlu  Trx_Age  Customer_Age Category In English  \\\n",
       "0             1   20140   2014.0      362           362             Fashion   \n",
       "2             1    8500    850.0      368           368             Fashion   \n",
       "4             1    2400    240.0      413           413             Fashion   \n",
       "5             1   16740   1674.0       34            34                 F&B   \n",
       "6             1    5820    582.0       33            33                 F&B   \n",
       "...         ...     ...      ...      ...           ...                 ...   \n",
       "43667         1    3050    305.0       27            27                 F&B   \n",
       "43668         1    3120    312.0       31            31                 F&B   \n",
       "43669         1    1200    120.0       25            25                 F&B   \n",
       "43670         1      20      2.0        2             2               Other   \n",
       "43671         1      20      2.0        2             2               Other   \n",
       "\n",
       "       User_Id                Mer_Name  \n",
       "0        21053         Shankar Traders  \n",
       "2        26472         Shankar Traders  \n",
       "4        27417         Shankar Traders  \n",
       "5         1447          Radha Emporium  \n",
       "6         2709          Radha Emporium  \n",
       "...        ...                     ...  \n",
       "43667    26865  Cuttack Curtain Corner  \n",
       "43668    27128  Cuttack Curtain Corner  \n",
       "43669    28814  Cuttack Curtain Corner  \n",
       "43670    29107    Rourkela Rice Retail  \n",
       "43671    29107    Rourkela Rice Retail  \n",
       "\n",
       "[33850 rows x 8 columns]"
      ]
     },
     "execution_count": 11,
     "metadata": {},
     "output_type": "execute_result"
    }
   ],
   "source": [
    "df[df['Trx_Age'] == df['Customer_Age']]"
   ]
  },
  {
   "cell_type": "code",
   "execution_count": 12,
   "id": "e5de5b4f",
   "metadata": {},
   "outputs": [
    {
     "data": {
      "text/plain": [
       "1    33850\n",
       "Name: Trx_Rank, dtype: int64"
      ]
     },
     "execution_count": 12,
     "metadata": {},
     "output_type": "execute_result"
    }
   ],
   "source": [
    "df[df['Trx_Age'] == df['Customer_Age']]['Trx_Rank'].value_counts()"
   ]
  },
  {
   "cell_type": "code",
   "execution_count": 13,
   "id": "af000ef2",
   "metadata": {},
   "outputs": [
    {
     "data": {
      "text/plain": [
       "Grocery            30694\n",
       "F&B                 7720\n",
       "Fashion             3333\n",
       "Health & Beauty     1504\n",
       "Electronics          228\n",
       "Transportaion        146\n",
       "Other                 47\n",
       "Name: Category In English, dtype: int64"
      ]
     },
     "execution_count": 13,
     "metadata": {},
     "output_type": "execute_result"
    }
   ],
   "source": [
    "df['Category In English'].value_counts()"
   ]
  },
  {
   "cell_type": "markdown",
   "id": "ec28594e",
   "metadata": {},
   "source": [
    "# Feature Engineering"
   ]
  },
  {
   "cell_type": "code",
   "execution_count": 69,
   "id": "0c3d54a7",
   "metadata": {},
   "outputs": [
    {
     "data": {
      "text/plain": [
       "<matplotlib.axes._subplots.AxesSubplot at 0x199b6832c88>"
      ]
     },
     "execution_count": 69,
     "metadata": {},
     "output_type": "execute_result"
    },
    {
     "data": {
      "image/png": "[encoded data removed]",
      "text/plain": [
       "<Figure size 432x288 with 1 Axes>"
      ]
     },
     "metadata": {
      "needs_background": "light"
     },
     "output_type": "display_data"
    }
   ],
   "source": [
    "sns.barplot(x = df['Trx_Age'], y=df['Category In English'])"
   ]
  },
  {
   "cell_type": "code",
   "execution_count": 70,
   "id": "ed098da6",
   "metadata": {},
   "outputs": [
    {
     "data": {
      "text/plain": [
       "<matplotlib.axes._subplots.AxesSubplot at 0x199b6bb3cc8>"
      ]
     },
     "execution_count": 70,
     "metadata": {},
     "output_type": "execute_result"
    },
    {
     "data": {
      "image/png": "[encoded data removed]",
      "text/plain": [
       "<Figure size 432x288 with 1 Axes>"
      ]
     },
     "metadata": {
      "needs_background": "light"
     },
     "output_type": "display_data"
    }
   ],
   "source": [
    "sns.barplot(x = df['Customer_Age'], y=df['Category In English'])"
   ]
  },
  {
   "cell_type": "markdown",
   "id": "b9ccfb6f",
   "metadata": {},
   "source": [
    "# Recency, Frequency, MonetaryValue (RFM)"
   ]
  },
  {
   "cell_type": "code",
   "execution_count": 14,
   "id": "034e5e73",
   "metadata": {},
   "outputs": [],
   "source": [
    "# Assuming 'Trx_Age' is the number of days\n",
    "reference_date = pd.to_datetime('2022-01-01')  # Choose a suitable reference date\n",
    "\n",
    "# Convert 'Trx_Age' to datetime format by adding it to the reference date\n",
    "df['Trx_Age'] = reference_date + pd.to_timedelta(df['Trx_Age'], unit='D')"
   ]
  },
  {
   "cell_type": "code",
   "execution_count": 15,
   "id": "4927a947",
   "metadata": {},
   "outputs": [],
   "source": [
    "import datetime as dt\n",
    "snapshot_date = max(df.Trx_Age) + dt.timedelta(days=1)"
   ]
  },
  {
   "cell_type": "code",
   "execution_count": 16,
   "id": "37fad2d5",
   "metadata": {},
   "outputs": [],
   "source": [
    "# RFM table\n",
    "# Aggregate data by each customer\n",
    "rfm = df.groupby('User_Id').agg({'Trx_Age': lambda x: (snapshot_date - x.max()).days, 'Trx_Rank': lambda x: len(x), 'Trx_Vlu': lambda x: x.sum()}).reset_index()\n",
    "rfm['Trx_Age'] = rfm['Trx_Age'].astype(int)\n",
    "\n",
    "# Rename columns\n",
    "rfm.rename(columns={'Trx_Age': 'Recency', \n",
    "                         'Trx_Rank': 'Frequency', \n",
    "                         'Trx_Vlu': 'MonetaryValue'}, inplace=True)"
   ]
  },
  {
   "cell_type": "code",
   "execution_count": 18,
   "id": "a6838773",
   "metadata": {},
   "outputs": [
    {
     "name": "stderr",
     "output_type": "stream",
     "text": [
      "C:\\Users\\Seif\\anaconda3\\lib\\site-packages\\ipykernel_launcher.py:4: UserWarning: \n",
      "\n",
      "`distplot` is a deprecated function and will be removed in seaborn v0.14.0.\n",
      "\n",
      "Please adapt your code to use either `displot` (a figure-level function with\n",
      "similar flexibility) or `histplot` (an axes-level function for histograms).\n",
      "\n",
      "For a guide to updating your code to use the new functions, please see\n",
      "https://gist.github.com/mwaskom/de44147ed2974457ad6372750bbe5751\n",
      "\n",
      "  after removing the cwd from sys.path.\n",
      "C:\\Users\\Seif\\anaconda3\\lib\\site-packages\\ipykernel_launcher.py:7: UserWarning: \n",
      "\n",
      "`distplot` is a deprecated function and will be removed in seaborn v0.14.0.\n",
      "\n",
      "Please adapt your code to use either `displot` (a figure-level function with\n",
      "similar flexibility) or `histplot` (an axes-level function for histograms).\n",
      "\n",
      "For a guide to updating your code to use the new functions, please see\n",
      "https://gist.github.com/mwaskom/de44147ed2974457ad6372750bbe5751\n",
      "\n",
      "  import sys\n",
      "C:\\Users\\Seif\\anaconda3\\lib\\site-packages\\ipykernel_launcher.py:10: UserWarning: \n",
      "\n",
      "`distplot` is a deprecated function and will be removed in seaborn v0.14.0.\n",
      "\n",
      "Please adapt your code to use either `displot` (a figure-level function with\n",
      "similar flexibility) or `histplot` (an axes-level function for histograms).\n",
      "\n",
      "For a guide to updating your code to use the new functions, please see\n",
      "https://gist.github.com/mwaskom/de44147ed2974457ad6372750bbe5751\n",
      "\n",
      "  # Remove the CWD from sys.path while we load stuff.\n"
     ]
    },
    {
     "data": {
      "image/png": "[encoded data removed]",
      "text/plain": [
       "<Figure size 864x720 with 3 Axes>"
      ]
     },
     "metadata": {
      "needs_background": "light"
     },
     "output_type": "display_data"
    }
   ],
   "source": [
    "plt.figure(figsize=(12,10))\n",
    "\n",
    "# Plot recency distribution\n",
    "plt.subplot(3, 1, 1); sns.distplot(rfm['Recency'])\n",
    "\n",
    "# Plot frequency distribution\n",
    "plt.subplot(3, 1, 2); sns.distplot(rfm['Frequency'])\n",
    "\n",
    "# Plot monetary value distribution\n",
    "plt.subplot(3, 1, 3); sns.distplot(rfm['MonetaryValue'])\n",
    "\n",
    "# Show the plot\n",
    "plt.show()"
   ]
  },
  {
   "cell_type": "code",
   "execution_count": 17,
   "id": "30b1ffe1",
   "metadata": {},
   "outputs": [
    {
     "data": {
      "text/html": [
       "<div>\n",
       "<style scoped>\n",
       "    .dataframe tbody tr th:only-of-type {\n",
       "        vertical-align: middle;\n",
       "    }\n",
       "\n",
       "    .dataframe tbody tr th {\n",
       "        vertical-align: top;\n",
       "    }\n",
       "\n",
       "    .dataframe thead th {\n",
       "        text-align: right;\n",
       "    }\n",
       "</style>\n",
       "<table border=\"1\" class=\"dataframe\">\n",
       "  <thead>\n",
       "    <tr style=\"text-align: right;\">\n",
       "      <th></th>\n",
       "      <th>Recency</th>\n",
       "      <th>Frequency</th>\n",
       "      <th>MonetaryValue</th>\n",
       "    </tr>\n",
       "  </thead>\n",
       "  <tbody>\n",
       "    <tr>\n",
       "      <th>33452</th>\n",
       "      <td>306.059802</td>\n",
       "      <td>0.179544</td>\n",
       "      <td>8.406118</td>\n",
       "    </tr>\n",
       "    <tr>\n",
       "      <th>33453</th>\n",
       "      <td>321.981083</td>\n",
       "      <td>0.000000</td>\n",
       "      <td>3.634241</td>\n",
       "    </tr>\n",
       "    <tr>\n",
       "      <th>33454</th>\n",
       "      <td>314.027705</td>\n",
       "      <td>0.000000</td>\n",
       "      <td>5.091643</td>\n",
       "    </tr>\n",
       "    <tr>\n",
       "      <th>33455</th>\n",
       "      <td>472.708543</td>\n",
       "      <td>0.000000</td>\n",
       "      <td>5.943922</td>\n",
       "    </tr>\n",
       "    <tr>\n",
       "      <th>33456</th>\n",
       "      <td>183.734936</td>\n",
       "      <td>0.179544</td>\n",
       "      <td>8.281635</td>\n",
       "    </tr>\n",
       "  </tbody>\n",
       "</table>\n",
       "</div>"
      ],
      "text/plain": [
       "          Recency  Frequency  MonetaryValue\n",
       "33452  306.059802   0.179544       8.406118\n",
       "33453  321.981083   0.000000       3.634241\n",
       "33454  314.027705   0.000000       5.091643\n",
       "33455  472.708543   0.000000       5.943922\n",
       "33456  183.734936   0.179544       8.281635"
      ]
     },
     "execution_count": 17,
     "metadata": {},
     "output_type": "execute_result"
    }
   ],
   "source": [
    "# Set the Numbers\n",
    "from scipy import stats\n",
    "customers_fix = pd.DataFrame()\n",
    "customers_fix[\"Recency\"] = stats.boxcox(rfm['Recency'])[0]\n",
    "customers_fix[\"Frequency\"] = stats.boxcox(rfm['Frequency'])[0]\n",
    "customers_fix[\"MonetaryValue\"] = pd.Series(np.cbrt(rfm['MonetaryValue'])).values\n",
    "customers_fix.tail()"
   ]
  },
  {
   "cell_type": "code",
   "execution_count": 18,
   "id": "fe735c20",
   "metadata": {},
   "outputs": [
    {
     "name": "stdout",
     "output_type": "stream",
     "text": [
      "[-0. -0.  0.]\n",
      "[1. 1. 1.]\n"
     ]
    }
   ],
   "source": [
    "# Import library\n",
    "from sklearn.preprocessing import StandardScaler\n",
    "# Initialize the Object\n",
    "scaler = StandardScaler()\n",
    "# Fit and Transform The Data\n",
    "scaler.fit(customers_fix)\n",
    "customers_normalized = scaler.transform(customers_fix)\n",
    "# Assert that it has mean 0 and variance 1\n",
    "print(customers_normalized.mean(axis = 0).round(2)) \n",
    "print(customers_normalized.std(axis = 0).round(2))"
   ]
  },
  {
   "cell_type": "code",
   "execution_count": 19,
   "id": "bae4d5eb",
   "metadata": {},
   "outputs": [
    {
     "data": {
      "text/html": [
       "<div>\n",
       "<style scoped>\n",
       "    .dataframe tbody tr th:only-of-type {\n",
       "        vertical-align: middle;\n",
       "    }\n",
       "\n",
       "    .dataframe tbody tr th {\n",
       "        vertical-align: top;\n",
       "    }\n",
       "\n",
       "    .dataframe thead th {\n",
       "        text-align: right;\n",
       "    }\n",
       "</style>\n",
       "<table border=\"1\" class=\"dataframe\">\n",
       "  <thead>\n",
       "    <tr style=\"text-align: right;\">\n",
       "      <th></th>\n",
       "      <th>Recency</th>\n",
       "      <th>Frequency</th>\n",
       "      <th>MonetaryValue</th>\n",
       "    </tr>\n",
       "  </thead>\n",
       "  <tbody>\n",
       "    <tr>\n",
       "      <th>0</th>\n",
       "      <td>0.999672</td>\n",
       "      <td>0.000000</td>\n",
       "      <td>0.025618</td>\n",
       "    </tr>\n",
       "    <tr>\n",
       "      <th>1</th>\n",
       "      <td>0.999906</td>\n",
       "      <td>0.000000</td>\n",
       "      <td>0.013700</td>\n",
       "    </tr>\n",
       "    <tr>\n",
       "      <th>2</th>\n",
       "      <td>0.999791</td>\n",
       "      <td>0.000000</td>\n",
       "      <td>0.020450</td>\n",
       "    </tr>\n",
       "    <tr>\n",
       "      <th>3</th>\n",
       "      <td>0.999798</td>\n",
       "      <td>0.000000</td>\n",
       "      <td>0.020085</td>\n",
       "    </tr>\n",
       "    <tr>\n",
       "      <th>4</th>\n",
       "      <td>0.999812</td>\n",
       "      <td>0.000000</td>\n",
       "      <td>0.019387</td>\n",
       "    </tr>\n",
       "    <tr>\n",
       "      <th>...</th>\n",
       "      <td>...</td>\n",
       "      <td>...</td>\n",
       "      <td>...</td>\n",
       "    </tr>\n",
       "    <tr>\n",
       "      <th>33452</th>\n",
       "      <td>0.999623</td>\n",
       "      <td>0.000586</td>\n",
       "      <td>0.027455</td>\n",
       "    </tr>\n",
       "    <tr>\n",
       "      <th>33453</th>\n",
       "      <td>0.999936</td>\n",
       "      <td>0.000000</td>\n",
       "      <td>0.011286</td>\n",
       "    </tr>\n",
       "    <tr>\n",
       "      <th>33454</th>\n",
       "      <td>0.999869</td>\n",
       "      <td>0.000000</td>\n",
       "      <td>0.016212</td>\n",
       "    </tr>\n",
       "    <tr>\n",
       "      <th>33455</th>\n",
       "      <td>0.999921</td>\n",
       "      <td>0.000000</td>\n",
       "      <td>0.012573</td>\n",
       "    </tr>\n",
       "    <tr>\n",
       "      <th>33456</th>\n",
       "      <td>0.998985</td>\n",
       "      <td>0.000976</td>\n",
       "      <td>0.045028</td>\n",
       "    </tr>\n",
       "  </tbody>\n",
       "</table>\n",
       "<p>33457 rows × 3 columns</p>\n",
       "</div>"
      ],
      "text/plain": [
       "        Recency  Frequency  MonetaryValue\n",
       "0      0.999672   0.000000       0.025618\n",
       "1      0.999906   0.000000       0.013700\n",
       "2      0.999791   0.000000       0.020450\n",
       "3      0.999798   0.000000       0.020085\n",
       "4      0.999812   0.000000       0.019387\n",
       "...         ...        ...            ...\n",
       "33452  0.999623   0.000586       0.027455\n",
       "33453  0.999936   0.000000       0.011286\n",
       "33454  0.999869   0.000000       0.016212\n",
       "33455  0.999921   0.000000       0.012573\n",
       "33456  0.998985   0.000976       0.045028\n",
       "\n",
       "[33457 rows x 3 columns]"
      ]
     },
     "execution_count": 19,
     "metadata": {},
     "output_type": "execute_result"
    }
   ],
   "source": [
    "from sklearn.preprocessing import normalize\n",
    "data_scaled = normalize(customers_fix)\n",
    "data_scaled = pd.DataFrame(data_scaled, columns=customers_fix.columns)\n",
    "data_scaled"
   ]
  },
  {
   "cell_type": "code",
   "execution_count": 20,
   "id": "be3ec725",
   "metadata": {},
   "outputs": [
    {
     "data": {
      "image/png": "[encoded data removed]",
      "text/plain": [
       "<Figure size 864x576 with 1 Axes>"
      ]
     },
     "metadata": {
      "needs_background": "light"
     },
     "output_type": "display_data"
    }
   ],
   "source": [
    "plt.figure(figsize=(12,8))\n",
    "\n",
    "from sklearn.cluster import KMeans\n",
    "from scipy.spatial.distance import cdist\n",
    "K = range(1, 20)\n",
    "\n",
    "distortions = []\n",
    "inertias = []\n",
    "mapping1 = {}\n",
    "sse = {}\n",
    "for k in K:\n",
    "    kmeans = KMeans(n_clusters=k, random_state=42)\n",
    "    kmeans.fit(customers_normalized)\n",
    "    \n",
    "    distortions.append(sum(np.min(cdist(customers_normalized, kmeans.cluster_centers_,\n",
    "                                        'euclidean'), axis=1)) / customers_normalized.shape[0])\n",
    "    inertias.append(kmeans.inertia_)\n",
    " \n",
    "    mapping1[k] = sum(np.min(cdist(customers_normalized, kmeans.cluster_centers_,\n",
    "                                   'euclidean'), axis=1)) / customers_normalized.shape[0]\n",
    "    \n",
    "    sse[k] = kmeans.inertia_ # SSE to closest cluster centroid\n",
    "\n",
    "plt.title('The Elbow Method')\n",
    "plt.xlabel('k')\n",
    "plt.ylabel('SSE')\n",
    "sns.pointplot(x=list(sse.keys()), y=list(sse.values()))\n",
    "plt.show()"
   ]
  },
  {
   "cell_type": "code",
   "execution_count": 103,
   "id": "577fedf4",
   "metadata": {},
   "outputs": [
    {
     "name": "stdout",
     "output_type": "stream",
     "text": [
      "1 : 1.517431427663327\n",
      "2 : 1.1252730966535456\n",
      "3 : 0.8100418615567169\n",
      "4 : 0.7017433883039199\n",
      "5 : 0.6489406700154231\n",
      "6 : 0.6016504588530409\n",
      "7 : 0.5629382676557038\n",
      "8 : 0.5379156800982009\n",
      "9 : 0.5082464815091505\n",
      "10 : 0.46817105073128\n",
      "11 : 0.4616813772450259\n",
      "12 : 0.44426969185508675\n",
      "13 : 0.4292596742983511\n",
      "14 : 0.4139027637467678\n",
      "15 : 0.40042629809157293\n",
      "16 : 0.3929301181069057\n",
      "17 : 0.3802471532439485\n",
      "18 : 0.3668998253339932\n",
      "19 : 0.3620700331239057\n"
     ]
    }
   ],
   "source": [
    "for key, val in mapping1.items():\n",
    "    print(f'{key} : {val}')"
   ]
  },
  {
   "cell_type": "code",
   "execution_count": 21,
   "id": "09e5e91e",
   "metadata": {},
   "outputs": [
    {
     "data": {
      "text/html": [
       "<div>\n",
       "<style scoped>\n",
       "    .dataframe tbody tr th:only-of-type {\n",
       "        vertical-align: middle;\n",
       "    }\n",
       "\n",
       "    .dataframe tbody tr th {\n",
       "        vertical-align: top;\n",
       "    }\n",
       "\n",
       "    .dataframe thead th {\n",
       "        text-align: right;\n",
       "    }\n",
       "</style>\n",
       "<table border=\"1\" class=\"dataframe\">\n",
       "  <thead>\n",
       "    <tr style=\"text-align: right;\">\n",
       "      <th></th>\n",
       "      <th>Recency</th>\n",
       "      <th>Frequency</th>\n",
       "      <th>MonetaryValue</th>\n",
       "    </tr>\n",
       "  </thead>\n",
       "  <tbody>\n",
       "    <tr>\n",
       "      <th>0</th>\n",
       "      <td>0.999672</td>\n",
       "      <td>0.000000</td>\n",
       "      <td>0.025618</td>\n",
       "    </tr>\n",
       "    <tr>\n",
       "      <th>1</th>\n",
       "      <td>0.999906</td>\n",
       "      <td>0.000000</td>\n",
       "      <td>0.013700</td>\n",
       "    </tr>\n",
       "    <tr>\n",
       "      <th>2</th>\n",
       "      <td>0.999791</td>\n",
       "      <td>0.000000</td>\n",
       "      <td>0.020450</td>\n",
       "    </tr>\n",
       "    <tr>\n",
       "      <th>3</th>\n",
       "      <td>0.999798</td>\n",
       "      <td>0.000000</td>\n",
       "      <td>0.020085</td>\n",
       "    </tr>\n",
       "    <tr>\n",
       "      <th>4</th>\n",
       "      <td>0.999812</td>\n",
       "      <td>0.000000</td>\n",
       "      <td>0.019387</td>\n",
       "    </tr>\n",
       "    <tr>\n",
       "      <th>...</th>\n",
       "      <td>...</td>\n",
       "      <td>...</td>\n",
       "      <td>...</td>\n",
       "    </tr>\n",
       "    <tr>\n",
       "      <th>33452</th>\n",
       "      <td>0.999623</td>\n",
       "      <td>0.000586</td>\n",
       "      <td>0.027455</td>\n",
       "    </tr>\n",
       "    <tr>\n",
       "      <th>33453</th>\n",
       "      <td>0.999936</td>\n",
       "      <td>0.000000</td>\n",
       "      <td>0.011286</td>\n",
       "    </tr>\n",
       "    <tr>\n",
       "      <th>33454</th>\n",
       "      <td>0.999869</td>\n",
       "      <td>0.000000</td>\n",
       "      <td>0.016212</td>\n",
       "    </tr>\n",
       "    <tr>\n",
       "      <th>33455</th>\n",
       "      <td>0.999921</td>\n",
       "      <td>0.000000</td>\n",
       "      <td>0.012573</td>\n",
       "    </tr>\n",
       "    <tr>\n",
       "      <th>33456</th>\n",
       "      <td>0.998985</td>\n",
       "      <td>0.000976</td>\n",
       "      <td>0.045028</td>\n",
       "    </tr>\n",
       "  </tbody>\n",
       "</table>\n",
       "<p>33457 rows × 3 columns</p>\n",
       "</div>"
      ],
      "text/plain": [
       "        Recency  Frequency  MonetaryValue\n",
       "0      0.999672   0.000000       0.025618\n",
       "1      0.999906   0.000000       0.013700\n",
       "2      0.999791   0.000000       0.020450\n",
       "3      0.999798   0.000000       0.020085\n",
       "4      0.999812   0.000000       0.019387\n",
       "...         ...        ...            ...\n",
       "33452  0.999623   0.000586       0.027455\n",
       "33453  0.999936   0.000000       0.011286\n",
       "33454  0.999869   0.000000       0.016212\n",
       "33455  0.999921   0.000000       0.012573\n",
       "33456  0.998985   0.000976       0.045028\n",
       "\n",
       "[33457 rows x 3 columns]"
      ]
     },
     "execution_count": 21,
     "metadata": {},
     "output_type": "execute_result"
    }
   ],
   "source": [
    "from sklearn.preprocessing import normalize\n",
    "data_scaled = normalize(customers_fix)\n",
    "data_scaled = pd.DataFrame(data_scaled, columns=customers_fix.columns)\n",
    "data_scaled"
   ]
  },
  {
   "cell_type": "code",
   "execution_count": 22,
   "id": "1a51a658",
   "metadata": {},
   "outputs": [
    {
     "data": {
      "text/plain": [
       "(33457,)"
      ]
     },
     "execution_count": 22,
     "metadata": {},
     "output_type": "execute_result"
    }
   ],
   "source": [
    "model = KMeans(n_clusters=4, random_state=42)\n",
    "model.fit(customers_normalized)\n",
    "model.labels_.shape"
   ]
  },
  {
   "cell_type": "code",
   "execution_count": 23,
   "id": "96586e24",
   "metadata": {},
   "outputs": [
    {
     "name": "stdout",
     "output_type": "stream",
     "text": [
      "Inertia = 6421.591220347176\n",
      "Cluster centers are: [[ 0.73998932  2.0440514   0.06170286]\n",
      " [-0.38442588 -0.48674791 -0.34715167]\n",
      " [ 1.25195511 -0.48674791 -0.80299401]\n",
      " [ 1.07043641 -0.48674791  2.42538854]\n",
      " [-1.87917295  2.05922473  0.18847313]\n",
      " [-1.13682417  2.06793529  2.74293781]\n",
      " [ 1.1734138  -0.48674791  0.64130112]\n",
      " [-0.86985354 -0.48674791  2.73308923]\n",
      " [-1.86343133 -0.48674791 -0.61392695]\n",
      " [ 0.44228636 -0.48674791 -0.33953213]\n",
      " [-1.24669331  2.08997944  9.97133463]\n",
      " [-0.66104402  2.04645331 -0.21927802]\n",
      " [-0.47597586 -0.48674791 -0.92436339]\n",
      " [-0.68015772  2.05448386  0.85356057]\n",
      " [-0.96782992  2.05896211  4.47853808]\n",
      " [-0.97310648 -0.48674791 -0.46404579]\n",
      " [ 1.31121085 -0.48674791 -0.19116505]\n",
      " [ 0.64620631  2.05294533  2.29134937]\n",
      " [-0.3991967  -0.48674791  0.48527566]]\n",
      "The number of iterations until convergence is 30 iterations\n"
     ]
    }
   ],
   "source": [
    "# The lowest SSE value\n",
    "print(f\"Inertia = {kmeans.inertia_}\")\n",
    "\n",
    "# Final locations of the centroid\n",
    "print(f\"Cluster centers are: {kmeans.cluster_centers_}\")\n",
    "\n",
    "# The number of iterations required to converge\n",
    "print(f\"The number of iterations until convergence is {kmeans.n_iter_} iterations\")"
   ]
  },
  {
   "cell_type": "code",
   "execution_count": 170,
   "id": "87c301ca",
   "metadata": {},
   "outputs": [
    {
     "data": {
      "text/plain": [
       "71.03075355230537"
      ]
     },
     "execution_count": 170,
     "metadata": {},
     "output_type": "execute_result"
    }
   ],
   "source": [
    "456130.4633861282/6421.591220347177"
   ]
  },
  {
   "cell_type": "code",
   "execution_count": 152,
   "id": "1fdae50e",
   "metadata": {},
   "outputs": [
    {
     "data": {
      "text/plain": [
       "(33457, 4)"
      ]
     },
     "execution_count": 152,
     "metadata": {},
     "output_type": "execute_result"
    }
   ],
   "source": [
    "rfm.shape"
   ]
  },
  {
   "cell_type": "code",
   "execution_count": 24,
   "id": "d1e7c7ff",
   "metadata": {},
   "outputs": [
    {
     "data": {
      "text/html": [
       "<div>\n",
       "<style scoped>\n",
       "    .dataframe tbody tr th:only-of-type {\n",
       "        vertical-align: middle;\n",
       "    }\n",
       "\n",
       "    .dataframe tbody tr th {\n",
       "        vertical-align: top;\n",
       "    }\n",
       "\n",
       "    .dataframe thead th {\n",
       "        text-align: right;\n",
       "    }\n",
       "</style>\n",
       "<table border=\"1\" class=\"dataframe\">\n",
       "  <thead>\n",
       "    <tr style=\"text-align: right;\">\n",
       "      <th></th>\n",
       "      <th>User_Id</th>\n",
       "      <th>Recency</th>\n",
       "      <th>Frequency</th>\n",
       "      <th>MonetaryValue</th>\n",
       "      <th>Cluster</th>\n",
       "    </tr>\n",
       "  </thead>\n",
       "  <tbody>\n",
       "    <tr>\n",
       "      <th>0</th>\n",
       "      <td>0</td>\n",
       "      <td>418</td>\n",
       "      <td>1</td>\n",
       "      <td>442.7</td>\n",
       "      <td>2</td>\n",
       "    </tr>\n",
       "    <tr>\n",
       "      <th>1</th>\n",
       "      <td>1</td>\n",
       "      <td>665</td>\n",
       "      <td>1</td>\n",
       "      <td>249.0</td>\n",
       "      <td>0</td>\n",
       "    </tr>\n",
       "    <tr>\n",
       "      <th>2</th>\n",
       "      <td>2</td>\n",
       "      <td>463</td>\n",
       "      <td>1</td>\n",
       "      <td>300.0</td>\n",
       "      <td>2</td>\n",
       "    </tr>\n",
       "    <tr>\n",
       "      <th>3</th>\n",
       "      <td>3</td>\n",
       "      <td>379</td>\n",
       "      <td>1</td>\n",
       "      <td>162.0</td>\n",
       "      <td>2</td>\n",
       "    </tr>\n",
       "    <tr>\n",
       "      <th>4</th>\n",
       "      <td>4</td>\n",
       "      <td>292</td>\n",
       "      <td>1</td>\n",
       "      <td>70.0</td>\n",
       "      <td>2</td>\n",
       "    </tr>\n",
       "  </tbody>\n",
       "</table>\n",
       "</div>"
      ],
      "text/plain": [
       "   User_Id  Recency  Frequency  MonetaryValue  Cluster\n",
       "0        0      418          1          442.7        2\n",
       "1        1      665          1          249.0        0\n",
       "2        2      463          1          300.0        2\n",
       "3        3      379          1          162.0        2\n",
       "4        4      292          1           70.0        2"
      ]
     },
     "execution_count": 24,
     "metadata": {},
     "output_type": "execute_result"
    }
   ],
   "source": [
    "rfm[\"Cluster\"] = model.labels_\n",
    "rfm.head()"
   ]
  },
  {
   "cell_type": "code",
   "execution_count": 25,
   "id": "ebb61b1c",
   "metadata": {},
   "outputs": [
    {
     "data": {
      "text/html": [
       "<div>\n",
       "<style scoped>\n",
       "    .dataframe tbody tr th:only-of-type {\n",
       "        vertical-align: middle;\n",
       "    }\n",
       "\n",
       "    .dataframe tbody tr th {\n",
       "        vertical-align: top;\n",
       "    }\n",
       "\n",
       "    .dataframe thead tr th {\n",
       "        text-align: left;\n",
       "    }\n",
       "\n",
       "    .dataframe thead tr:last-of-type th {\n",
       "        text-align: right;\n",
       "    }\n",
       "</style>\n",
       "<table border=\"1\" class=\"dataframe\">\n",
       "  <thead>\n",
       "    <tr>\n",
       "      <th></th>\n",
       "      <th>Recency</th>\n",
       "      <th>Frequency</th>\n",
       "      <th colspan=\"2\" halign=\"left\">MonetaryValue</th>\n",
       "    </tr>\n",
       "    <tr>\n",
       "      <th></th>\n",
       "      <th>mean</th>\n",
       "      <th>mean</th>\n",
       "      <th>mean</th>\n",
       "      <th>count</th>\n",
       "    </tr>\n",
       "    <tr>\n",
       "      <th>Cluster</th>\n",
       "      <th></th>\n",
       "      <th></th>\n",
       "      <th></th>\n",
       "      <th></th>\n",
       "    </tr>\n",
       "  </thead>\n",
       "  <tbody>\n",
       "    <tr>\n",
       "      <th>0</th>\n",
       "      <td>633.7</td>\n",
       "      <td>1.0</td>\n",
       "      <td>287.2</td>\n",
       "      <td>12203</td>\n",
       "    </tr>\n",
       "    <tr>\n",
       "      <th>1</th>\n",
       "      <td>408.8</td>\n",
       "      <td>2.4</td>\n",
       "      <td>401.5</td>\n",
       "      <td>5153</td>\n",
       "    </tr>\n",
       "    <tr>\n",
       "      <th>2</th>\n",
       "      <td>431.2</td>\n",
       "      <td>1.0</td>\n",
       "      <td>201.0</td>\n",
       "      <td>13888</td>\n",
       "    </tr>\n",
       "    <tr>\n",
       "      <th>3</th>\n",
       "      <td>426.3</td>\n",
       "      <td>2.3</td>\n",
       "      <td>2756.3</td>\n",
       "      <td>2213</td>\n",
       "    </tr>\n",
       "  </tbody>\n",
       "</table>\n",
       "</div>"
      ],
      "text/plain": [
       "        Recency Frequency MonetaryValue       \n",
       "           mean      mean          mean  count\n",
       "Cluster                                       \n",
       "0         633.7       1.0         287.2  12203\n",
       "1         408.8       2.4         401.5   5153\n",
       "2         431.2       1.0         201.0  13888\n",
       "3         426.3       2.3        2756.3   2213"
      ]
     },
     "execution_count": 25,
     "metadata": {},
     "output_type": "execute_result"
    }
   ],
   "source": [
    "rfm.groupby('Cluster').agg({\n",
    "    'Recency':'mean',\n",
    "    'Frequency':'mean',\n",
    "    'MonetaryValue':['mean', 'count']}).round(1)"
   ]
  },
  {
   "cell_type": "code",
   "execution_count": 26,
   "id": "a068a293",
   "metadata": {},
   "outputs": [
    {
     "data": {
      "text/html": [
       "<div>\n",
       "<style scoped>\n",
       "    .dataframe tbody tr th:only-of-type {\n",
       "        vertical-align: middle;\n",
       "    }\n",
       "\n",
       "    .dataframe tbody tr th {\n",
       "        vertical-align: top;\n",
       "    }\n",
       "\n",
       "    .dataframe thead tr th {\n",
       "        text-align: left;\n",
       "    }\n",
       "\n",
       "    .dataframe thead tr:last-of-type th {\n",
       "        text-align: right;\n",
       "    }\n",
       "</style>\n",
       "<table border=\"1\" class=\"dataframe\">\n",
       "  <thead>\n",
       "    <tr>\n",
       "      <th></th>\n",
       "      <th>Recency</th>\n",
       "      <th>Frequency</th>\n",
       "      <th colspan=\"2\" halign=\"left\">MonetaryValue</th>\n",
       "    </tr>\n",
       "    <tr>\n",
       "      <th></th>\n",
       "      <th>mean</th>\n",
       "      <th>mean</th>\n",
       "      <th>mean</th>\n",
       "      <th>count</th>\n",
       "    </tr>\n",
       "    <tr>\n",
       "      <th>Cluster</th>\n",
       "      <th></th>\n",
       "      <th></th>\n",
       "      <th></th>\n",
       "      <th></th>\n",
       "    </tr>\n",
       "  </thead>\n",
       "  <tbody>\n",
       "    <tr>\n",
       "      <th>0</th>\n",
       "      <td>633.7</td>\n",
       "      <td>1.0</td>\n",
       "      <td>287.2</td>\n",
       "      <td>12203</td>\n",
       "    </tr>\n",
       "    <tr>\n",
       "      <th>1</th>\n",
       "      <td>408.8</td>\n",
       "      <td>2.4</td>\n",
       "      <td>401.5</td>\n",
       "      <td>5153</td>\n",
       "    </tr>\n",
       "    <tr>\n",
       "      <th>2</th>\n",
       "      <td>431.2</td>\n",
       "      <td>1.0</td>\n",
       "      <td>201.0</td>\n",
       "      <td>13888</td>\n",
       "    </tr>\n",
       "    <tr>\n",
       "      <th>3</th>\n",
       "      <td>426.3</td>\n",
       "      <td>2.3</td>\n",
       "      <td>2756.3</td>\n",
       "      <td>2213</td>\n",
       "    </tr>\n",
       "  </tbody>\n",
       "</table>\n",
       "</div>"
      ],
      "text/plain": [
       "        Recency Frequency MonetaryValue       \n",
       "           mean      mean          mean  count\n",
       "Cluster                                       \n",
       "0         633.7       1.0         287.2  12203\n",
       "1         408.8       2.4         401.5   5153\n",
       "2         431.2       1.0         201.0  13888\n",
       "3         426.3       2.3        2756.3   2213"
      ]
     },
     "execution_count": 26,
     "metadata": {},
     "output_type": "execute_result"
    }
   ],
   "source": [
    "model = KMeans(n_clusters=4, random_state=42)\n",
    "model.fit(customers_normalized)\n",
    "model.labels_.shape\n",
    "\n",
    "rfm[\"Cluster\"] = model.labels_\n",
    "rfm.head()\n",
    "rfm.groupby('Cluster').agg({\n",
    "    'Recency':'mean',\n",
    "    'Frequency':'mean',\n",
    "    'MonetaryValue':['mean', 'count']}).round(1)"
   ]
  },
  {
   "cell_type": "code",
   "execution_count": 27,
   "id": "ebcc9e7e",
   "metadata": {},
   "outputs": [
    {
     "data": {
      "text/html": [
       "<div>\n",
       "<style scoped>\n",
       "    .dataframe tbody tr th:only-of-type {\n",
       "        vertical-align: middle;\n",
       "    }\n",
       "\n",
       "    .dataframe tbody tr th {\n",
       "        vertical-align: top;\n",
       "    }\n",
       "\n",
       "    .dataframe thead th {\n",
       "        text-align: right;\n",
       "    }\n",
       "</style>\n",
       "<table border=\"1\" class=\"dataframe\">\n",
       "  <thead>\n",
       "    <tr style=\"text-align: right;\">\n",
       "      <th></th>\n",
       "      <th>User_Id</th>\n",
       "      <th>Recency</th>\n",
       "      <th>Frequency</th>\n",
       "      <th>MonetaryValue</th>\n",
       "      <th>Cluster</th>\n",
       "    </tr>\n",
       "  </thead>\n",
       "  <tbody>\n",
       "    <tr>\n",
       "      <th>0</th>\n",
       "      <td>0</td>\n",
       "      <td>418</td>\n",
       "      <td>1</td>\n",
       "      <td>442.7</td>\n",
       "      <td>2</td>\n",
       "    </tr>\n",
       "    <tr>\n",
       "      <th>1</th>\n",
       "      <td>1</td>\n",
       "      <td>665</td>\n",
       "      <td>1</td>\n",
       "      <td>249.0</td>\n",
       "      <td>0</td>\n",
       "    </tr>\n",
       "    <tr>\n",
       "      <th>2</th>\n",
       "      <td>2</td>\n",
       "      <td>463</td>\n",
       "      <td>1</td>\n",
       "      <td>300.0</td>\n",
       "      <td>2</td>\n",
       "    </tr>\n",
       "    <tr>\n",
       "      <th>3</th>\n",
       "      <td>3</td>\n",
       "      <td>379</td>\n",
       "      <td>1</td>\n",
       "      <td>162.0</td>\n",
       "      <td>2</td>\n",
       "    </tr>\n",
       "    <tr>\n",
       "      <th>4</th>\n",
       "      <td>4</td>\n",
       "      <td>292</td>\n",
       "      <td>1</td>\n",
       "      <td>70.0</td>\n",
       "      <td>2</td>\n",
       "    </tr>\n",
       "    <tr>\n",
       "      <th>...</th>\n",
       "      <td>...</td>\n",
       "      <td>...</td>\n",
       "      <td>...</td>\n",
       "      <td>...</td>\n",
       "      <td>...</td>\n",
       "    </tr>\n",
       "    <tr>\n",
       "      <th>33452</th>\n",
       "      <td>33514</td>\n",
       "      <td>431</td>\n",
       "      <td>3</td>\n",
       "      <td>594.0</td>\n",
       "      <td>1</td>\n",
       "    </tr>\n",
       "    <tr>\n",
       "      <th>33453</th>\n",
       "      <td>33515</td>\n",
       "      <td>455</td>\n",
       "      <td>1</td>\n",
       "      <td>48.0</td>\n",
       "      <td>2</td>\n",
       "    </tr>\n",
       "    <tr>\n",
       "      <th>33454</th>\n",
       "      <td>33516</td>\n",
       "      <td>443</td>\n",
       "      <td>1</td>\n",
       "      <td>132.0</td>\n",
       "      <td>2</td>\n",
       "    </tr>\n",
       "    <tr>\n",
       "      <th>33455</th>\n",
       "      <td>33517</td>\n",
       "      <td>686</td>\n",
       "      <td>1</td>\n",
       "      <td>210.0</td>\n",
       "      <td>0</td>\n",
       "    </tr>\n",
       "    <tr>\n",
       "      <th>33456</th>\n",
       "      <td>33518</td>\n",
       "      <td>250</td>\n",
       "      <td>3</td>\n",
       "      <td>568.0</td>\n",
       "      <td>1</td>\n",
       "    </tr>\n",
       "  </tbody>\n",
       "</table>\n",
       "<p>33457 rows × 5 columns</p>\n",
       "</div>"
      ],
      "text/plain": [
       "       User_Id  Recency  Frequency  MonetaryValue  Cluster\n",
       "0            0      418          1          442.7        2\n",
       "1            1      665          1          249.0        0\n",
       "2            2      463          1          300.0        2\n",
       "3            3      379          1          162.0        2\n",
       "4            4      292          1           70.0        2\n",
       "...        ...      ...        ...            ...      ...\n",
       "33452    33514      431          3          594.0        1\n",
       "33453    33515      455          1           48.0        2\n",
       "33454    33516      443          1          132.0        2\n",
       "33455    33517      686          1          210.0        0\n",
       "33456    33518      250          3          568.0        1\n",
       "\n",
       "[33457 rows x 5 columns]"
      ]
     },
     "execution_count": 27,
     "metadata": {},
     "output_type": "execute_result"
    }
   ],
   "source": [
    "rfm"
   ]
  },
  {
   "cell_type": "code",
   "execution_count": 28,
   "id": "02ac068e",
   "metadata": {},
   "outputs": [
    {
     "data": {
      "text/html": [
       "<div>\n",
       "<style scoped>\n",
       "    .dataframe tbody tr th:only-of-type {\n",
       "        vertical-align: middle;\n",
       "    }\n",
       "\n",
       "    .dataframe tbody tr th {\n",
       "        vertical-align: top;\n",
       "    }\n",
       "\n",
       "    .dataframe thead th {\n",
       "        text-align: right;\n",
       "    }\n",
       "</style>\n",
       "<table border=\"1\" class=\"dataframe\">\n",
       "  <thead>\n",
       "    <tr style=\"text-align: right;\">\n",
       "      <th></th>\n",
       "      <th>Recency</th>\n",
       "      <th>Frequency</th>\n",
       "      <th>MonetaryValue</th>\n",
       "      <th>ID</th>\n",
       "      <th>Cluster</th>\n",
       "    </tr>\n",
       "  </thead>\n",
       "  <tbody>\n",
       "    <tr>\n",
       "      <th>0</th>\n",
       "      <td>-0.683050</td>\n",
       "      <td>-0.486748</td>\n",
       "      <td>0.427948</td>\n",
       "      <td>0</td>\n",
       "      <td>2</td>\n",
       "    </tr>\n",
       "    <tr>\n",
       "      <th>1</th>\n",
       "      <td>1.345509</td>\n",
       "      <td>-0.486748</td>\n",
       "      <td>-0.142321</td>\n",
       "      <td>1</td>\n",
       "      <td>0</td>\n",
       "    </tr>\n",
       "    <tr>\n",
       "      <th>2</th>\n",
       "      <td>-0.308526</td>\n",
       "      <td>-0.486748</td>\n",
       "      <td>0.030502</td>\n",
       "      <td>2</td>\n",
       "      <td>2</td>\n",
       "    </tr>\n",
       "    <tr>\n",
       "      <th>3</th>\n",
       "      <td>-1.009835</td>\n",
       "      <td>-0.486748</td>\n",
       "      <td>-0.502355</td>\n",
       "      <td>3</td>\n",
       "      <td>2</td>\n",
       "    </tr>\n",
       "    <tr>\n",
       "      <th>4</th>\n",
       "      <td>-1.747442</td>\n",
       "      <td>-0.486748</td>\n",
       "      <td>-1.072556</td>\n",
       "      <td>4</td>\n",
       "      <td>2</td>\n",
       "    </tr>\n",
       "  </tbody>\n",
       "</table>\n",
       "</div>"
      ],
      "text/plain": [
       "    Recency  Frequency  MonetaryValue  ID  Cluster\n",
       "0 -0.683050  -0.486748       0.427948   0        2\n",
       "1  1.345509  -0.486748      -0.142321   1        0\n",
       "2 -0.308526  -0.486748       0.030502   2        2\n",
       "3 -1.009835  -0.486748      -0.502355   3        2\n",
       "4 -1.747442  -0.486748      -1.072556   4        2"
      ]
     },
     "execution_count": 28,
     "metadata": {},
     "output_type": "execute_result"
    }
   ],
   "source": [
    "# Create the dataframe\n",
    "df_normalized = pd.DataFrame(customers_normalized, columns=['Recency', 'Frequency', 'MonetaryValue'])\n",
    "df_normalized['ID'] = rfm.index\n",
    "df_normalized['Cluster'] = model.labels_\n",
    "df_normalized.head()"
   ]
  },
  {
   "cell_type": "code",
   "execution_count": 29,
   "id": "11766f55",
   "metadata": {},
   "outputs": [
    {
     "data": {
      "text/html": [
       "<div>\n",
       "<style scoped>\n",
       "    .dataframe tbody tr th:only-of-type {\n",
       "        vertical-align: middle;\n",
       "    }\n",
       "\n",
       "    .dataframe tbody tr th {\n",
       "        vertical-align: top;\n",
       "    }\n",
       "\n",
       "    .dataframe thead th {\n",
       "        text-align: right;\n",
       "    }\n",
       "</style>\n",
       "<table border=\"1\" class=\"dataframe\">\n",
       "  <thead>\n",
       "    <tr style=\"text-align: right;\">\n",
       "      <th></th>\n",
       "      <th>ID</th>\n",
       "      <th>Cluster</th>\n",
       "      <th>Attribute</th>\n",
       "      <th>Value</th>\n",
       "    </tr>\n",
       "  </thead>\n",
       "  <tbody>\n",
       "    <tr>\n",
       "      <th>0</th>\n",
       "      <td>0</td>\n",
       "      <td>2</td>\n",
       "      <td>Recency</td>\n",
       "      <td>-0.683050</td>\n",
       "    </tr>\n",
       "    <tr>\n",
       "      <th>1</th>\n",
       "      <td>1</td>\n",
       "      <td>0</td>\n",
       "      <td>Recency</td>\n",
       "      <td>1.345509</td>\n",
       "    </tr>\n",
       "    <tr>\n",
       "      <th>2</th>\n",
       "      <td>2</td>\n",
       "      <td>2</td>\n",
       "      <td>Recency</td>\n",
       "      <td>-0.308526</td>\n",
       "    </tr>\n",
       "    <tr>\n",
       "      <th>3</th>\n",
       "      <td>3</td>\n",
       "      <td>2</td>\n",
       "      <td>Recency</td>\n",
       "      <td>-1.009835</td>\n",
       "    </tr>\n",
       "    <tr>\n",
       "      <th>4</th>\n",
       "      <td>4</td>\n",
       "      <td>2</td>\n",
       "      <td>Recency</td>\n",
       "      <td>-1.747442</td>\n",
       "    </tr>\n",
       "  </tbody>\n",
       "</table>\n",
       "</div>"
      ],
      "text/plain": [
       "   ID  Cluster Attribute     Value\n",
       "0   0        2   Recency -0.683050\n",
       "1   1        0   Recency  1.345509\n",
       "2   2        2   Recency -0.308526\n",
       "3   3        2   Recency -1.009835\n",
       "4   4        2   Recency -1.747442"
      ]
     },
     "execution_count": 29,
     "metadata": {},
     "output_type": "execute_result"
    }
   ],
   "source": [
    "# Melt The Data\n",
    "df_nor_melt = pd.melt(df_normalized.reset_index(),\n",
    "                      id_vars=['ID', 'Cluster'],\n",
    "                      value_vars=['Recency','Frequency','MonetaryValue'],\n",
    "                      var_name='Attribute',\n",
    "                      value_name='Value')\n",
    "df_nor_melt.head()"
   ]
  },
  {
   "cell_type": "code",
   "execution_count": 30,
   "id": "584cf2a1",
   "metadata": {},
   "outputs": [
    {
     "name": "stdout",
     "output_type": "stream",
     "text": [
      "<class 'pandas.core.frame.DataFrame'>\n",
      "RangeIndex: 100371 entries, 0 to 100370\n",
      "Data columns (total 4 columns):\n",
      " #   Column     Non-Null Count   Dtype  \n",
      "---  ------     --------------   -----  \n",
      " 0   ID         100371 non-null  int64  \n",
      " 1   Cluster    100371 non-null  int32  \n",
      " 2   Attribute  100371 non-null  object \n",
      " 3   Value      100371 non-null  float64\n",
      "dtypes: float64(1), int32(1), int64(1), object(1)\n",
      "memory usage: 2.7+ MB\n"
     ]
    }
   ],
   "source": [
    "df_nor_melt.info()"
   ]
  },
  {
   "cell_type": "code",
   "execution_count": 31,
   "id": "44f19b3b",
   "metadata": {},
   "outputs": [
    {
     "data": {
      "text/html": [
       "<div>\n",
       "<style scoped>\n",
       "    .dataframe tbody tr th:only-of-type {\n",
       "        vertical-align: middle;\n",
       "    }\n",
       "\n",
       "    .dataframe tbody tr th {\n",
       "        vertical-align: top;\n",
       "    }\n",
       "\n",
       "    .dataframe thead th {\n",
       "        text-align: right;\n",
       "    }\n",
       "</style>\n",
       "<table border=\"1\" class=\"dataframe\">\n",
       "  <thead>\n",
       "    <tr style=\"text-align: right;\">\n",
       "      <th></th>\n",
       "      <th>Cluster</th>\n",
       "      <th>Count</th>\n",
       "      <th>percent</th>\n",
       "    </tr>\n",
       "  </thead>\n",
       "  <tbody>\n",
       "    <tr>\n",
       "      <th>0</th>\n",
       "      <td>0</td>\n",
       "      <td>36609</td>\n",
       "      <td>36.5</td>\n",
       "    </tr>\n",
       "    <tr>\n",
       "      <th>1</th>\n",
       "      <td>1</td>\n",
       "      <td>15459</td>\n",
       "      <td>15.4</td>\n",
       "    </tr>\n",
       "    <tr>\n",
       "      <th>2</th>\n",
       "      <td>2</td>\n",
       "      <td>41664</td>\n",
       "      <td>41.5</td>\n",
       "    </tr>\n",
       "    <tr>\n",
       "      <th>3</th>\n",
       "      <td>3</td>\n",
       "      <td>6639</td>\n",
       "      <td>6.6</td>\n",
       "    </tr>\n",
       "  </tbody>\n",
       "</table>\n",
       "</div>"
      ],
      "text/plain": [
       "   Cluster  Count  percent\n",
       "0        0  36609     36.5\n",
       "1        1  15459     15.4\n",
       "2        2  41664     41.5\n",
       "3        3   6639      6.6"
      ]
     },
     "execution_count": 31,
     "metadata": {},
     "output_type": "execute_result"
    }
   ],
   "source": [
    "# Aggregate data by each customer\n",
    "fig3 = df_nor_melt.groupby('Cluster').agg({'ID': lambda x: len(x)}).reset_index()\n",
    "\n",
    "\n",
    "# Rename columns\n",
    "fig3.rename(columns={'ID': 'Count'}, inplace=True)\n",
    "fig3['percent'] = (fig3['Count'] / fig3['Count'].sum()) * 100\n",
    "fig3['percent'] = fig3['percent'].round(1)\n",
    "\n",
    "fig3.head()"
   ]
  },
  {
   "cell_type": "code",
   "execution_count": 278,
   "id": "0a9c80d9",
   "metadata": {},
   "outputs": [
    {
     "data": {
      "application/vnd.plotly.v1+json": {
       "config": {
        "plotlyServerURL": "https://plot.ly"
       },
       "data": [
        {
         "branchvalues": "total",
         "domain": {
          "x": [
           0,
           1
          ],
          "y": [
           0,
           1
          ]
         },
         "hovertemplate": "labels=%{label}<br>Count=%{value}<br>parent=%{parent}<br>id=%{id}<extra></extra>",
         "ids": [
          "0",
          "1",
          "2",
          "3"
         ],
         "labels": [
          "0",
          "1",
          "2",
          "3"
         ],
         "name": "",
         "parents": [
          "",
          "",
          "",
          ""
         ],
         "textinfo": "label+text+value+percent root",
         "type": "treemap",
         "values": [
          36609,
          15459,
          41664,
          6639
         ]
        }
       ],
       "layout": {
        "height": 400,
        "legend": {
         "tracegroupgap": 0
        },
        "margin": {
         "b": 25,
         "l": 25,
         "r": 25,
         "t": 50
        },
        "template": {
         "data": {
          "bar": [
           {
            "error_x": {
             "color": "#2a3f5f"
            },
            "error_y": {
             "color": "#2a3f5f"
            },
            "marker": {
             "line": {
              "color": "#E5ECF6",
              "width": 0.5
             },
             "pattern": {
              "fillmode": "overlay",
              "size": 10,
              "solidity": 0.2
             }
            },
            "type": "bar"
           }
          ],
          "barpolar": [
           {
            "marker": {
             "line": {
              "color": "#E5ECF6",
              "width": 0.5
             },
             "pattern": {
              "fillmode": "overlay",
              "size": 10,
              "solidity": 0.2
             }
            },
            "type": "barpolar"
           }
          ],
          "carpet": [
           {
            "aaxis": {
             "endlinecolor": "#2a3f5f",
             "gridcolor": "white",
             "linecolor": "white",
             "minorgridcolor": "white",
             "startlinecolor": "#2a3f5f"
            },
            "baxis": {
             "endlinecolor": "#2a3f5f",
             "gridcolor": "white",
             "linecolor": "white",
             "minorgridcolor": "white",
             "startlinecolor": "#2a3f5f"
            },
            "type": "carpet"
           }
          ],
          "choropleth": [
           {
            "colorbar": {
             "outlinewidth": 0,
             "ticks": ""
            },
            "type": "choropleth"
           }
          ],
          "contour": [
           {
            "colorbar": {
             "outlinewidth": 0,
             "ticks": ""
            },
            "colorscale": [
             [
              0,
              "#0d0887"
             ],
             [
              0.1111111111111111,
              "#46039f"
             ],
             [
              0.2222222222222222,
              "#7201a8"
             ],
             [
              0.3333333333333333,
              "#9c179e"
             ],
             [
              0.4444444444444444,
              "#bd3786"
             ],
             [
              0.5555555555555556,
              "#d8576b"
             ],
             [
              0.6666666666666666,
              "#ed7953"
             ],
             [
              0.7777777777777778,
              "#fb9f3a"
             ],
             [
              0.8888888888888888,
              "#fdca26"
             ],
             [
              1,
              "#f0f921"
             ]
            ],
            "type": "contour"
           }
          ],
          "contourcarpet": [
           {
            "colorbar": {
             "outlinewidth": 0,
             "ticks": ""
            },
            "type": "contourcarpet"
           }
          ],
          "heatmap": [
           {
            "colorbar": {
             "outlinewidth": 0,
             "ticks": ""
            },
            "colorscale": [
             [
              0,
              "#0d0887"
             ],
             [
              0.1111111111111111,
              "#46039f"
             ],
             [
              0.2222222222222222,
              "#7201a8"
             ],
             [
              0.3333333333333333,
              "#9c179e"
             ],
             [
              0.4444444444444444,
              "#bd3786"
             ],
             [
              0.5555555555555556,
              "#d8576b"
             ],
             [
              0.6666666666666666,
              "#ed7953"
             ],
             [
              0.7777777777777778,
              "#fb9f3a"
             ],
             [
              0.8888888888888888,
              "#fdca26"
             ],
             [
              1,
              "#f0f921"
             ]
            ],
            "type": "heatmap"
           }
          ],
          "heatmapgl": [
           {
            "colorbar": {
             "outlinewidth": 0,
             "ticks": ""
            },
            "colorscale": [
             [
              0,
              "#0d0887"
             ],
             [
              0.1111111111111111,
              "#46039f"
             ],
             [
              0.2222222222222222,
              "#7201a8"
             ],
             [
              0.3333333333333333,
              "#9c179e"
             ],
             [
              0.4444444444444444,
              "#bd3786"
             ],
             [
              0.5555555555555556,
              "#d8576b"
             ],
             [
              0.6666666666666666,
              "#ed7953"
             ],
             [
              0.7777777777777778,
              "#fb9f3a"
             ],
             [
              0.8888888888888888,
              "#fdca26"
             ],
             [
              1,
              "#f0f921"
             ]
            ],
            "type": "heatmapgl"
           }
          ],
          "histogram": [
           {
            "marker": {
             "pattern": {
              "fillmode": "overlay",
              "size": 10,
              "solidity": 0.2
             }
            },
            "type": "histogram"
           }
          ],
          "histogram2d": [
           {
            "colorbar": {
             "outlinewidth": 0,
             "ticks": ""
            },
            "colorscale": [
             [
              0,
              "#0d0887"
             ],
             [
              0.1111111111111111,
              "#46039f"
             ],
             [
              0.2222222222222222,
              "#7201a8"
             ],
             [
              0.3333333333333333,
              "#9c179e"
             ],
             [
              0.4444444444444444,
              "#bd3786"
             ],
             [
              0.5555555555555556,
              "#d8576b"
             ],
             [
              0.6666666666666666,
              "#ed7953"
             ],
             [
              0.7777777777777778,
              "#fb9f3a"
             ],
             [
              0.8888888888888888,
              "#fdca26"
             ],
             [
              1,
              "#f0f921"
             ]
            ],
            "type": "histogram2d"
           }
          ],
          "histogram2dcontour": [
           {
            "colorbar": {
             "outlinewidth": 0,
             "ticks": ""
            },
            "colorscale": [
             [
              0,
              "#0d0887"
             ],
             [
              0.1111111111111111,
              "#46039f"
             ],
             [
              0.2222222222222222,
              "#7201a8"
             ],
             [
              0.3333333333333333,
              "#9c179e"
             ],
             [
              0.4444444444444444,
              "#bd3786"
             ],
             [
              0.5555555555555556,
              "#d8576b"
             ],
             [
              0.6666666666666666,
              "#ed7953"
             ],
             [
              0.7777777777777778,
              "#fb9f3a"
             ],
             [
              0.8888888888888888,
              "#fdca26"
             ],
             [
              1,
              "#f0f921"
             ]
            ],
            "type": "histogram2dcontour"
           }
          ],
          "mesh3d": [
           {
            "colorbar": {
             "outlinewidth": 0,
             "ticks": ""
            },
            "type": "mesh3d"
           }
          ],
          "parcoords": [
           {
            "line": {
             "colorbar": {
              "outlinewidth": 0,
              "ticks": ""
             }
            },
            "type": "parcoords"
           }
          ],
          "pie": [
           {
            "automargin": true,
            "type": "pie"
           }
          ],
          "scatter": [
           {
            "fillpattern": {
             "fillmode": "overlay",
             "size": 10,
             "solidity": 0.2
            },
            "type": "scatter"
           }
          ],
          "scatter3d": [
           {
            "line": {
             "colorbar": {
              "outlinewidth": 0,
              "ticks": ""
             }
            },
            "marker": {
             "colorbar": {
              "outlinewidth": 0,
              "ticks": ""
             }
            },
            "type": "scatter3d"
           }
          ],
          "scattercarpet": [
           {
            "marker": {
             "colorbar": {
              "outlinewidth": 0,
              "ticks": ""
             }
            },
            "type": "scattercarpet"
           }
          ],
          "scattergeo": [
           {
            "marker": {
             "colorbar": {
              "outlinewidth": 0,
              "ticks": ""
             }
            },
            "type": "scattergeo"
           }
          ],
          "scattergl": [
           {
            "marker": {
             "colorbar": {
              "outlinewidth": 0,
              "ticks": ""
             }
            },
            "type": "scattergl"
           }
          ],
          "scattermapbox": [
           {
            "marker": {
             "colorbar": {
              "outlinewidth": 0,
              "ticks": ""
             }
            },
            "type": "scattermapbox"
           }
          ],
          "scatterpolar": [
           {
            "marker": {
             "colorbar": {
              "outlinewidth": 0,
              "ticks": ""
             }
            },
            "type": "scatterpolar"
           }
          ],
          "scatterpolargl": [
           {
            "marker": {
             "colorbar": {
              "outlinewidth": 0,
              "ticks": ""
             }
            },
            "type": "scatterpolargl"
           }
          ],
          "scatterternary": [
           {
            "marker": {
             "colorbar": {
              "outlinewidth": 0,
              "ticks": ""
             }
            },
            "type": "scatterternary"
           }
          ],
          "surface": [
           {
            "colorbar": {
             "outlinewidth": 0,
             "ticks": ""
            },
            "colorscale": [
             [
              0,
              "#0d0887"
             ],
             [
              0.1111111111111111,
              "#46039f"
             ],
             [
              0.2222222222222222,
              "#7201a8"
             ],
             [
              0.3333333333333333,
              "#9c179e"
             ],
             [
              0.4444444444444444,
              "#bd3786"
             ],
             [
              0.5555555555555556,
              "#d8576b"
             ],
             [
              0.6666666666666666,
              "#ed7953"
             ],
             [
              0.7777777777777778,
              "#fb9f3a"
             ],
             [
              0.8888888888888888,
              "#fdca26"
             ],
             [
              1,
              "#f0f921"
             ]
            ],
            "type": "surface"
           }
          ],
          "table": [
           {
            "cells": {
             "fill": {
              "color": "#EBF0F8"
             },
             "line": {
              "color": "white"
             }
            },
            "header": {
             "fill": {
              "color": "#C8D4E3"
             },
             "line": {
              "color": "white"
             }
            },
            "type": "table"
           }
          ]
         },
         "layout": {
          "annotationdefaults": {
           "arrowcolor": "#2a3f5f",
           "arrowhead": 0,
           "arrowwidth": 1
          },
          "autotypenumbers": "strict",
          "coloraxis": {
           "colorbar": {
            "outlinewidth": 0,
            "ticks": ""
           }
          },
          "colorscale": {
           "diverging": [
            [
             0,
             "#8e0152"
            ],
            [
             0.1,
             "#c51b7d"
            ],
            [
             0.2,
             "#de77ae"
            ],
            [
             0.3,
             "#f1b6da"
            ],
            [
             0.4,
             "#fde0ef"
            ],
            [
             0.5,
             "#f7f7f7"
            ],
            [
             0.6,
             "#e6f5d0"
            ],
            [
             0.7,
             "#b8e186"
            ],
            [
             0.8,
             "#7fbc41"
            ],
            [
             0.9,
             "#4d9221"
            ],
            [
             1,
             "#276419"
            ]
           ],
           "sequential": [
            [
             0,
             "#0d0887"
            ],
            [
             0.1111111111111111,
             "#46039f"
            ],
            [
             0.2222222222222222,
             "#7201a8"
            ],
            [
             0.3333333333333333,
             "#9c179e"
            ],
            [
             0.4444444444444444,
             "#bd3786"
            ],
            [
             0.5555555555555556,
             "#d8576b"
            ],
            [
             0.6666666666666666,
             "#ed7953"
            ],
            [
             0.7777777777777778,
             "#fb9f3a"
            ],
            [
             0.8888888888888888,
             "#fdca26"
            ],
            [
             1,
             "#f0f921"
            ]
           ],
           "sequentialminus": [
            [
             0,
             "#0d0887"
            ],
            [
             0.1111111111111111,
             "#46039f"
            ],
            [
             0.2222222222222222,
             "#7201a8"
            ],
            [
             0.3333333333333333,
             "#9c179e"
            ],
            [
             0.4444444444444444,
             "#bd3786"
            ],
            [
             0.5555555555555556,
             "#d8576b"
            ],
            [
             0.6666666666666666,
             "#ed7953"
            ],
            [
             0.7777777777777778,
             "#fb9f3a"
            ],
            [
             0.8888888888888888,
             "#fdca26"
            ],
            [
             1,
             "#f0f921"
            ]
           ]
          },
          "colorway": [
           "#636efa",
           "#EF553B",
           "#00cc96",
           "#ab63fa",
           "#FFA15A",
           "#19d3f3",
           "#FF6692",
           "#B6E880",
           "#FF97FF",
           "#FECB52"
          ],
          "font": {
           "color": "#2a3f5f"
          },
          "geo": {
           "bgcolor": "white",
           "lakecolor": "white",
           "landcolor": "#E5ECF6",
           "showlakes": true,
           "showland": true,
           "subunitcolor": "white"
          },
          "hoverlabel": {
           "align": "left"
          },
          "hovermode": "closest",
          "mapbox": {
           "style": "light"
          },
          "paper_bgcolor": "white",
          "plot_bgcolor": "#E5ECF6",
          "polar": {
           "angularaxis": {
            "gridcolor": "white",
            "linecolor": "white",
            "ticks": ""
           },
           "bgcolor": "#E5ECF6",
           "radialaxis": {
            "gridcolor": "white",
            "linecolor": "white",
            "ticks": ""
           }
          },
          "scene": {
           "xaxis": {
            "backgroundcolor": "#E5ECF6",
            "gridcolor": "white",
            "gridwidth": 2,
            "linecolor": "white",
            "showbackground": true,
            "ticks": "",
            "zerolinecolor": "white"
           },
           "yaxis": {
            "backgroundcolor": "#E5ECF6",
            "gridcolor": "white",
            "gridwidth": 2,
            "linecolor": "white",
            "showbackground": true,
            "ticks": "",
            "zerolinecolor": "white"
           },
           "zaxis": {
            "backgroundcolor": "#E5ECF6",
            "gridcolor": "white",
            "gridwidth": 2,
            "linecolor": "white",
            "showbackground": true,
            "ticks": "",
            "zerolinecolor": "white"
           }
          },
          "shapedefaults": {
           "line": {
            "color": "#2a3f5f"
           }
          },
          "ternary": {
           "aaxis": {
            "gridcolor": "white",
            "linecolor": "white",
            "ticks": ""
           },
           "baxis": {
            "gridcolor": "white",
            "linecolor": "white",
            "ticks": ""
           },
           "bgcolor": "#E5ECF6",
           "caxis": {
            "gridcolor": "white",
            "linecolor": "white",
            "ticks": ""
           }
          },
          "title": {
           "x": 0.05
          },
          "xaxis": {
           "automargin": true,
           "gridcolor": "white",
           "linecolor": "white",
           "ticks": "",
           "title": {
            "standoff": 15
           },
           "zerolinecolor": "white",
           "zerolinewidth": 2
          },
          "yaxis": {
           "automargin": true,
           "gridcolor": "white",
           "linecolor": "white",
           "ticks": "",
           "title": {
            "standoff": 15
           },
           "zerolinecolor": "white",
           "zerolinewidth": 2
          }
         }
        },
        "title": {
         "text": "Distribution of Cluster"
        },
        "treemapcolorway": [
         "#bad0af",
         "#d5e0cf",
         "#f1f1f1",
         "#f1d4d4"
        ],
        "width": 800
       }
      },
      "text/html": [
       "<div>                            <div id=\"8eff9a3d-3b05-4310-b923-7a92bf508025\" class=\"plotly-graph-div\" style=\"height:400px; width:800px;\"></div>            <script type=\"text/javascript\">                require([\"plotly\"], function(Plotly) {                    window.PLOTLYENV=window.PLOTLYENV || {};                                    if (document.getElementById(\"8eff9a3d-3b05-4310-b923-7a92bf508025\")) {                    Plotly.newPlot(                        \"8eff9a3d-3b05-4310-b923-7a92bf508025\",                        [{\"branchvalues\":\"total\",\"domain\":{\"x\":[0.0,1.0],\"y\":[0.0,1.0]},\"hovertemplate\":\"labels=%{label}<br>Count=%{value}<br>parent=%{parent}<br>id=%{id}<extra></extra>\",\"ids\":[\"0\",\"1\",\"2\",\"3\"],\"labels\":[\"0\",\"1\",\"2\",\"3\"],\"name\":\"\",\"parents\":[\"\",\"\",\"\",\"\"],\"values\":[36609,15459,41664,6639],\"type\":\"treemap\",\"textinfo\":\"label+text+value+percent root\"}],                        {\"template\":{\"data\":{\"histogram2dcontour\":[{\"type\":\"histogram2dcontour\",\"colorbar\":{\"outlinewidth\":0,\"ticks\":\"\"},\"colorscale\":[[0.0,\"#0d0887\"],[0.1111111111111111,\"#46039f\"],[0.2222222222222222,\"#7201a8\"],[0.3333333333333333,\"#9c179e\"],[0.4444444444444444,\"#bd3786\"],[0.5555555555555556,\"#d8576b\"],[0.6666666666666666,\"#ed7953\"],[0.7777777777777778,\"#fb9f3a\"],[0.8888888888888888,\"#fdca26\"],[1.0,\"#f0f921\"]]}],\"choropleth\":[{\"type\":\"choropleth\",\"colorbar\":{\"outlinewidth\":0,\"ticks\":\"\"}}],\"histogram2d\":[{\"type\":\"histogram2d\",\"colorbar\":{\"outlinewidth\":0,\"ticks\":\"\"},\"colorscale\":[[0.0,\"#0d0887\"],[0.1111111111111111,\"#46039f\"],[0.2222222222222222,\"#7201a8\"],[0.3333333333333333,\"#9c179e\"],[0.4444444444444444,\"#bd3786\"],[0.5555555555555556,\"#d8576b\"],[0.6666666666666666,\"#ed7953\"],[0.7777777777777778,\"#fb9f3a\"],[0.8888888888888888,\"#fdca26\"],[1.0,\"#f0f921\"]]}],\"heatmap\":[{\"type\":\"heatmap\",\"colorbar\":{\"outlinewidth\":0,\"ticks\":\"\"},\"colorscale\":[[0.0,\"#0d0887\"],[0.1111111111111111,\"#46039f\"],[0.2222222222222222,\"#7201a8\"],[0.3333333333333333,\"#9c179e\"],[0.4444444444444444,\"#bd3786\"],[0.5555555555555556,\"#d8576b\"],[0.6666666666666666,\"#ed7953\"],[0.7777777777777778,\"#fb9f3a\"],[0.8888888888888888,\"#fdca26\"],[1.0,\"#f0f921\"]]}],\"heatmapgl\":[{\"type\":\"heatmapgl\",\"colorbar\":{\"outlinewidth\":0,\"ticks\":\"\"},\"colorscale\":[[0.0,\"#0d0887\"],[0.1111111111111111,\"#46039f\"],[0.2222222222222222,\"#7201a8\"],[0.3333333333333333,\"#9c179e\"],[0.4444444444444444,\"#bd3786\"],[0.5555555555555556,\"#d8576b\"],[0.6666666666666666,\"#ed7953\"],[0.7777777777777778,\"#fb9f3a\"],[0.8888888888888888,\"#fdca26\"],[1.0,\"#f0f921\"]]}],\"contourcarpet\":[{\"type\":\"contourcarpet\",\"colorbar\":{\"outlinewidth\":0,\"ticks\":\"\"}}],\"contour\":[{\"type\":\"contour\",\"colorbar\":{\"outlinewidth\":0,\"ticks\":\"\"},\"colorscale\":[[0.0,\"#0d0887\"],[0.1111111111111111,\"#46039f\"],[0.2222222222222222,\"#7201a8\"],[0.3333333333333333,\"#9c179e\"],[0.4444444444444444,\"#bd3786\"],[0.5555555555555556,\"#d8576b\"],[0.6666666666666666,\"#ed7953\"],[0.7777777777777778,\"#fb9f3a\"],[0.8888888888888888,\"#fdca26\"],[1.0,\"#f0f921\"]]}],\"surface\":[{\"type\":\"surface\",\"colorbar\":{\"outlinewidth\":0,\"ticks\":\"\"},\"colorscale\":[[0.0,\"#0d0887\"],[0.1111111111111111,\"#46039f\"],[0.2222222222222222,\"#7201a8\"],[0.3333333333333333,\"#9c179e\"],[0.4444444444444444,\"#bd3786\"],[0.5555555555555556,\"#d8576b\"],[0.6666666666666666,\"#ed7953\"],[0.7777777777777778,\"#fb9f3a\"],[0.8888888888888888,\"#fdca26\"],[1.0,\"#f0f921\"]]}],\"mesh3d\":[{\"type\":\"mesh3d\",\"colorbar\":{\"outlinewidth\":0,\"ticks\":\"\"}}],\"scatter\":[{\"fillpattern\":{\"fillmode\":\"overlay\",\"size\":10,\"solidity\":0.2},\"type\":\"scatter\"}],\"parcoords\":[{\"type\":\"parcoords\",\"line\":{\"colorbar\":{\"outlinewidth\":0,\"ticks\":\"\"}}}],\"scatterpolargl\":[{\"type\":\"scatterpolargl\",\"marker\":{\"colorbar\":{\"outlinewidth\":0,\"ticks\":\"\"}}}],\"bar\":[{\"error_x\":{\"color\":\"#2a3f5f\"},\"error_y\":{\"color\":\"#2a3f5f\"},\"marker\":{\"line\":{\"color\":\"#E5ECF6\",\"width\":0.5},\"pattern\":{\"fillmode\":\"overlay\",\"size\":10,\"solidity\":0.2}},\"type\":\"bar\"}],\"scattergeo\":[{\"type\":\"scattergeo\",\"marker\":{\"colorbar\":{\"outlinewidth\":0,\"ticks\":\"\"}}}],\"scatterpolar\":[{\"type\":\"scatterpolar\",\"marker\":{\"colorbar\":{\"outlinewidth\":0,\"ticks\":\"\"}}}],\"histogram\":[{\"marker\":{\"pattern\":{\"fillmode\":\"overlay\",\"size\":10,\"solidity\":0.2}},\"type\":\"histogram\"}],\"scattergl\":[{\"type\":\"scattergl\",\"marker\":{\"colorbar\":{\"outlinewidth\":0,\"ticks\":\"\"}}}],\"scatter3d\":[{\"type\":\"scatter3d\",\"line\":{\"colorbar\":{\"outlinewidth\":0,\"ticks\":\"\"}},\"marker\":{\"colorbar\":{\"outlinewidth\":0,\"ticks\":\"\"}}}],\"scattermapbox\":[{\"type\":\"scattermapbox\",\"marker\":{\"colorbar\":{\"outlinewidth\":0,\"ticks\":\"\"}}}],\"scatterternary\":[{\"type\":\"scatterternary\",\"marker\":{\"colorbar\":{\"outlinewidth\":0,\"ticks\":\"\"}}}],\"scattercarpet\":[{\"type\":\"scattercarpet\",\"marker\":{\"colorbar\":{\"outlinewidth\":0,\"ticks\":\"\"}}}],\"carpet\":[{\"aaxis\":{\"endlinecolor\":\"#2a3f5f\",\"gridcolor\":\"white\",\"linecolor\":\"white\",\"minorgridcolor\":\"white\",\"startlinecolor\":\"#2a3f5f\"},\"baxis\":{\"endlinecolor\":\"#2a3f5f\",\"gridcolor\":\"white\",\"linecolor\":\"white\",\"minorgridcolor\":\"white\",\"startlinecolor\":\"#2a3f5f\"},\"type\":\"carpet\"}],\"table\":[{\"cells\":{\"fill\":{\"color\":\"#EBF0F8\"},\"line\":{\"color\":\"white\"}},\"header\":{\"fill\":{\"color\":\"#C8D4E3\"},\"line\":{\"color\":\"white\"}},\"type\":\"table\"}],\"barpolar\":[{\"marker\":{\"line\":{\"color\":\"#E5ECF6\",\"width\":0.5},\"pattern\":{\"fillmode\":\"overlay\",\"size\":10,\"solidity\":0.2}},\"type\":\"barpolar\"}],\"pie\":[{\"automargin\":true,\"type\":\"pie\"}]},\"layout\":{\"autotypenumbers\":\"strict\",\"colorway\":[\"#636efa\",\"#EF553B\",\"#00cc96\",\"#ab63fa\",\"#FFA15A\",\"#19d3f3\",\"#FF6692\",\"#B6E880\",\"#FF97FF\",\"#FECB52\"],\"font\":{\"color\":\"#2a3f5f\"},\"hovermode\":\"closest\",\"hoverlabel\":{\"align\":\"left\"},\"paper_bgcolor\":\"white\",\"plot_bgcolor\":\"#E5ECF6\",\"polar\":{\"bgcolor\":\"#E5ECF6\",\"angularaxis\":{\"gridcolor\":\"white\",\"linecolor\":\"white\",\"ticks\":\"\"},\"radialaxis\":{\"gridcolor\":\"white\",\"linecolor\":\"white\",\"ticks\":\"\"}},\"ternary\":{\"bgcolor\":\"#E5ECF6\",\"aaxis\":{\"gridcolor\":\"white\",\"linecolor\":\"white\",\"ticks\":\"\"},\"baxis\":{\"gridcolor\":\"white\",\"linecolor\":\"white\",\"ticks\":\"\"},\"caxis\":{\"gridcolor\":\"white\",\"linecolor\":\"white\",\"ticks\":\"\"}},\"coloraxis\":{\"colorbar\":{\"outlinewidth\":0,\"ticks\":\"\"}},\"colorscale\":{\"sequential\":[[0.0,\"#0d0887\"],[0.1111111111111111,\"#46039f\"],[0.2222222222222222,\"#7201a8\"],[0.3333333333333333,\"#9c179e\"],[0.4444444444444444,\"#bd3786\"],[0.5555555555555556,\"#d8576b\"],[0.6666666666666666,\"#ed7953\"],[0.7777777777777778,\"#fb9f3a\"],[0.8888888888888888,\"#fdca26\"],[1.0,\"#f0f921\"]],\"sequentialminus\":[[0.0,\"#0d0887\"],[0.1111111111111111,\"#46039f\"],[0.2222222222222222,\"#7201a8\"],[0.3333333333333333,\"#9c179e\"],[0.4444444444444444,\"#bd3786\"],[0.5555555555555556,\"#d8576b\"],[0.6666666666666666,\"#ed7953\"],[0.7777777777777778,\"#fb9f3a\"],[0.8888888888888888,\"#fdca26\"],[1.0,\"#f0f921\"]],\"diverging\":[[0,\"#8e0152\"],[0.1,\"#c51b7d\"],[0.2,\"#de77ae\"],[0.3,\"#f1b6da\"],[0.4,\"#fde0ef\"],[0.5,\"#f7f7f7\"],[0.6,\"#e6f5d0\"],[0.7,\"#b8e186\"],[0.8,\"#7fbc41\"],[0.9,\"#4d9221\"],[1,\"#276419\"]]},\"xaxis\":{\"gridcolor\":\"white\",\"linecolor\":\"white\",\"ticks\":\"\",\"title\":{\"standoff\":15},\"zerolinecolor\":\"white\",\"automargin\":true,\"zerolinewidth\":2},\"yaxis\":{\"gridcolor\":\"white\",\"linecolor\":\"white\",\"ticks\":\"\",\"title\":{\"standoff\":15},\"zerolinecolor\":\"white\",\"automargin\":true,\"zerolinewidth\":2},\"scene\":{\"xaxis\":{\"backgroundcolor\":\"#E5ECF6\",\"gridcolor\":\"white\",\"linecolor\":\"white\",\"showbackground\":true,\"ticks\":\"\",\"zerolinecolor\":\"white\",\"gridwidth\":2},\"yaxis\":{\"backgroundcolor\":\"#E5ECF6\",\"gridcolor\":\"white\",\"linecolor\":\"white\",\"showbackground\":true,\"ticks\":\"\",\"zerolinecolor\":\"white\",\"gridwidth\":2},\"zaxis\":{\"backgroundcolor\":\"#E5ECF6\",\"gridcolor\":\"white\",\"linecolor\":\"white\",\"showbackground\":true,\"ticks\":\"\",\"zerolinecolor\":\"white\",\"gridwidth\":2}},\"shapedefaults\":{\"line\":{\"color\":\"#2a3f5f\"}},\"annotationdefaults\":{\"arrowcolor\":\"#2a3f5f\",\"arrowhead\":0,\"arrowwidth\":1},\"geo\":{\"bgcolor\":\"white\",\"landcolor\":\"#E5ECF6\",\"subunitcolor\":\"white\",\"showland\":true,\"showlakes\":true,\"lakecolor\":\"white\"},\"title\":{\"x\":0.05},\"mapbox\":{\"style\":\"light\"}}},\"legend\":{\"tracegroupgap\":0},\"title\":{\"text\":\"Distribution of Cluster\"},\"height\":400,\"width\":800,\"margin\":{\"t\":50,\"l\":25,\"r\":25,\"b\":25},\"treemapcolorway\":[\"#bad0af\",\"#d5e0cf\",\"#f1f1f1\",\"#f1d4d4\"]},                        {\"responsive\": true}                    ).then(function(){\n",
       "                            \n",
       "var gd = document.getElementById('8eff9a3d-3b05-4310-b923-7a92bf508025');\n",
       "var x = new MutationObserver(function (mutations, observer) {{\n",
       "        var display = window.getComputedStyle(gd).display;\n",
       "        if (!display || display === 'none') {{\n",
       "            console.log([gd, 'removed!']);\n",
       "            Plotly.purge(gd);\n",
       "            observer.disconnect();\n",
       "        }}\n",
       "}});\n",
       "\n",
       "// Listen for the removal of the full notebook cells\n",
       "var notebookContainer = gd.closest('#notebook-container');\n",
       "if (notebookContainer) {{\n",
       "    x.observe(notebookContainer, {childList: true});\n",
       "}}\n",
       "\n",
       "// Listen for the clearing of the current output cell\n",
       "var outputEl = gd.closest('.output');\n",
       "if (outputEl) {{\n",
       "    x.observe(outputEl, {childList: true});\n",
       "}}\n",
       "\n",
       "                        })                };                });            </script>        </div>"
      ]
     },
     "metadata": {},
     "output_type": "display_data"
    }
   ],
   "source": [
    "#Creating a Treemap with Plotly Express\n",
    "# colors=['#fae588','#f79d65','#f9dc5c','#e8ac65','#e76f51','#ef233c','#b7094c'] #color palette\n",
    "colors=['#bad0af','#d5e0cf','#f1f1f1','#f1d4d4'] #color palette\n",
    "import plotly.express as px\n",
    "\n",
    "fig = px.treemap(fig3, path=['Cluster'],values='Count'\n",
    "                 , width=800, height=400\n",
    "                 ,title=\"Distribution of Cluster\")\n",
    "\n",
    "fig.update_layout(\n",
    "    treemapcolorway = colors, #defines the colors in the treemap\n",
    "    margin = dict(t=50, l=25, r=25, b=25))\n",
    "\n",
    "fig.data[0].textinfo = 'label+text+value+percent root'\n",
    "fig.show()"
   ]
  },
  {
   "cell_type": "code",
   "execution_count": 32,
   "id": "87864445",
   "metadata": {},
   "outputs": [
    {
     "data": {
      "text/html": [
       "<div>\n",
       "<style scoped>\n",
       "    .dataframe tbody tr th:only-of-type {\n",
       "        vertical-align: middle;\n",
       "    }\n",
       "\n",
       "    .dataframe tbody tr th {\n",
       "        vertical-align: top;\n",
       "    }\n",
       "\n",
       "    .dataframe thead th {\n",
       "        text-align: right;\n",
       "    }\n",
       "</style>\n",
       "<table border=\"1\" class=\"dataframe\">\n",
       "  <thead>\n",
       "    <tr style=\"text-align: right;\">\n",
       "      <th></th>\n",
       "      <th>ID</th>\n",
       "      <th>Cluster</th>\n",
       "      <th>Attribute</th>\n",
       "      <th>Value</th>\n",
       "    </tr>\n",
       "  </thead>\n",
       "  <tbody>\n",
       "    <tr>\n",
       "      <th>0</th>\n",
       "      <td>0</td>\n",
       "      <td>2</td>\n",
       "      <td>Recency</td>\n",
       "      <td>-0.683050</td>\n",
       "    </tr>\n",
       "    <tr>\n",
       "      <th>1</th>\n",
       "      <td>1</td>\n",
       "      <td>0</td>\n",
       "      <td>Recency</td>\n",
       "      <td>1.345509</td>\n",
       "    </tr>\n",
       "    <tr>\n",
       "      <th>2</th>\n",
       "      <td>2</td>\n",
       "      <td>2</td>\n",
       "      <td>Recency</td>\n",
       "      <td>-0.308526</td>\n",
       "    </tr>\n",
       "    <tr>\n",
       "      <th>3</th>\n",
       "      <td>3</td>\n",
       "      <td>2</td>\n",
       "      <td>Recency</td>\n",
       "      <td>-1.009835</td>\n",
       "    </tr>\n",
       "    <tr>\n",
       "      <th>4</th>\n",
       "      <td>4</td>\n",
       "      <td>2</td>\n",
       "      <td>Recency</td>\n",
       "      <td>-1.747442</td>\n",
       "    </tr>\n",
       "    <tr>\n",
       "      <th>...</th>\n",
       "      <td>...</td>\n",
       "      <td>...</td>\n",
       "      <td>...</td>\n",
       "      <td>...</td>\n",
       "    </tr>\n",
       "    <tr>\n",
       "      <th>100366</th>\n",
       "      <td>33452</td>\n",
       "      <td>1</td>\n",
       "      <td>MonetaryValue</td>\n",
       "      <td>0.764342</td>\n",
       "    </tr>\n",
       "    <tr>\n",
       "      <th>100367</th>\n",
       "      <td>33453</td>\n",
       "      <td>2</td>\n",
       "      <td>MonetaryValue</td>\n",
       "      <td>-1.281350</td>\n",
       "    </tr>\n",
       "    <tr>\n",
       "      <th>100368</th>\n",
       "      <td>33454</td>\n",
       "      <td>2</td>\n",
       "      <td>MonetaryValue</td>\n",
       "      <td>-0.656566</td>\n",
       "    </tr>\n",
       "    <tr>\n",
       "      <th>100369</th>\n",
       "      <td>33455</td>\n",
       "      <td>0</td>\n",
       "      <td>MonetaryValue</td>\n",
       "      <td>-0.291196</td>\n",
       "    </tr>\n",
       "    <tr>\n",
       "      <th>100370</th>\n",
       "      <td>33456</td>\n",
       "      <td>1</td>\n",
       "      <td>MonetaryValue</td>\n",
       "      <td>0.710976</td>\n",
       "    </tr>\n",
       "  </tbody>\n",
       "</table>\n",
       "<p>100371 rows × 4 columns</p>\n",
       "</div>"
      ],
      "text/plain": [
       "           ID  Cluster      Attribute     Value\n",
       "0           0        2        Recency -0.683050\n",
       "1           1        0        Recency  1.345509\n",
       "2           2        2        Recency -0.308526\n",
       "3           3        2        Recency -1.009835\n",
       "4           4        2        Recency -1.747442\n",
       "...       ...      ...            ...       ...\n",
       "100366  33452        1  MonetaryValue  0.764342\n",
       "100367  33453        2  MonetaryValue -1.281350\n",
       "100368  33454        2  MonetaryValue -0.656566\n",
       "100369  33455        0  MonetaryValue -0.291196\n",
       "100370  33456        1  MonetaryValue  0.710976\n",
       "\n",
       "[100371 rows x 4 columns]"
      ]
     },
     "execution_count": 32,
     "metadata": {},
     "output_type": "execute_result"
    }
   ],
   "source": [
    "df_nor_melt"
   ]
  },
  {
   "cell_type": "code",
   "execution_count": 290,
   "id": "35c01ce4",
   "metadata": {},
   "outputs": [
    {
     "data": {
      "image/png": "[encoded data removed]",
      "text/plain": [
       "<Figure size 1080x576 with 1 Axes>"
      ]
     },
     "metadata": {
      "needs_background": "light"
     },
     "output_type": "display_data"
    }
   ],
   "source": [
    "import seaborn as sns\n",
    "import matplotlib.pyplot as plt\n",
    "\n",
    "# Assuming df_nor_melt has columns 'Attribute,' 'Value,' and 'Cluster.'\n",
    "\n",
    "# Set the figure size\n",
    "plt.figure(figsize=(15, 8))\n",
    "\n",
    "# Seaborn line plot with increased size\n",
    "sns.lineplot(x='Attribute', y='Value', hue='Cluster', data=df_nor_melt, palette='viridis')\n",
    "\n",
    "# Show the plot\n",
    "plt.show()\n"
   ]
  },
  {
   "cell_type": "code",
   "execution_count": 118,
   "id": "2593eda8",
   "metadata": {
    "jupyter": {
     "source_hidden": true
    }
   },
   "outputs": [
    {
     "data": {
      "text/html": [
       "<style type=\"text/css\">\n",
       "#T_075aa_row0_col0, #T_075aa_row0_col1, #T_075aa_row0_col2, #T_075aa_row0_col3, #T_075aa_row1_col0, #T_075aa_row1_col1, #T_075aa_row1_col2, #T_075aa_row1_col3, #T_075aa_row2_col0, #T_075aa_row2_col1, #T_075aa_row2_col2, #T_075aa_row2_col3, #T_075aa_row3_col0, #T_075aa_row3_col1, #T_075aa_row3_col2, #T_075aa_row3_col3 {\n",
       "  font-size: 10pt;\n",
       "}\n",
       "</style>\n",
       "<table id=\"T_075aa_\">\n",
       "  <thead>\n",
       "    <tr>\n",
       "      <th class=\"blank level0\" >&nbsp;</th>\n",
       "      <th class=\"col_heading level0 col0\" >Cluster</th>\n",
       "      <th class=\"col_heading level0 col1\" >Type of customers</th>\n",
       "      <th class=\"col_heading level0 col2\" >%</th>\n",
       "      <th class=\"col_heading level0 col3\" >RFM Interpretation</th>\n",
       "    </tr>\n",
       "  </thead>\n",
       "  <tbody>\n",
       "    <tr>\n",
       "      <th id=\"T_075aa_level0_row0\" class=\"row_heading level0 row0\" >0</th>\n",
       "      <td id=\"T_075aa_row0_col0\" class=\"data row0 col0\" >0</td>\n",
       "      <td id=\"T_075aa_row0_col1\" class=\"data row0 col1\" >Lost customers/churned customers</td>\n",
       "      <td id=\"T_075aa_row0_col2\" class=\"data row0 col2\" >36</td>\n",
       "      <td id=\"T_075aa_row0_col3\" class=\"data row0 col3\" >Customers who made their last transaction a long time ago,and who have made few purchases. Therefore, it could be thecluster of Lost customer/churned customers.</td>\n",
       "    </tr>\n",
       "    <tr>\n",
       "      <th id=\"T_075aa_level0_row1\" class=\"row_heading level0 row1\" >1</th>\n",
       "      <td id=\"T_075aa_row1_col0\" class=\"data row1 col0\" >1</td>\n",
       "      <td id=\"T_075aa_row1_col1\" class=\"data row1 col1\" >New customers</td>\n",
       "      <td id=\"T_075aa_row1_col2\" class=\"data row1 col2\" >15</td>\n",
       "      <td id=\"T_075aa_row1_col3\" class=\"data row1 col3\" >Customers who transacted recently and have a lower purchase frequency, with a low amount of monetary spending.</td>\n",
       "    </tr>\n",
       "    <tr>\n",
       "      <th id=\"T_075aa_level0_row2\" class=\"row_heading level0 row2\" >2</th>\n",
       "      <td id=\"T_075aa_row2_col0\" class=\"data row2 col0\" >2</td>\n",
       "      <td id=\"T_075aa_row2_col1\" class=\"data row2 col1\" >At risk customers</td>\n",
       "      <td id=\"T_075aa_row2_col2\" class=\"data row2 col2\" >41</td>\n",
       "      <td id=\"T_075aa_row2_col3\" class=\"data row2 col3\" >Customer who made their last transaction a while ago and who made frequent and large purchases in the past.</td>\n",
       "    </tr>\n",
       "    <tr>\n",
       "      <th id=\"T_075aa_level0_row3\" class=\"row_heading level0 row3\" >3</th>\n",
       "      <td id=\"T_075aa_row3_col0\" class=\"data row3 col0\" >3</td>\n",
       "      <td id=\"T_075aa_row3_col1\" class=\"data row3 col1\" >Loyal customers</td>\n",
       "      <td id=\"T_075aa_row3_col2\" class=\"data row3 col2\" >6</td>\n",
       "      <td id=\"T_075aa_row3_col3\" class=\"data row3 col3\" >Most frequent customers with the highest monetary spending amount and transact most recently</td>\n",
       "    </tr>\n",
       "  </tbody>\n",
       "</table>\n"
      ],
      "text/plain": [
       "<pandas.io.formats.style.Styler at 0x161dddd27c8>"
      ]
     },
     "execution_count": 118,
     "metadata": {},
     "output_type": "execute_result"
    }
   ],
   "source": [
    "import pandas as pd\n",
    "from tabulate import tabulate\n",
    "\n",
    "# Assuming you have a DataFrame named 'cluster_summary' with the required information\n",
    "cluster_summary = pd.DataFrame({\n",
    "    'Cluster': [0, 1, 2, 3],\n",
    "    'Type of customers': ['Lost customers/churned customers', 'New customers', 'At risk customers', 'Loyal customers'],\n",
    "    '%': [36, 15, 41, 6],\n",
    "    'RFM Interpretation': [\n",
    "        'Customers who made their last transaction a long time ago,'\n",
    "        'and who have made few purchases. Therefore, it could be the'\n",
    "        'cluster of Lost customer/churned customers.',\n",
    "        \"Customers who transacted recently and have a lower purchase frequency, with a low amount of monetary spending.\",\n",
    "        \"Customer who made their last transaction a while ago and who made frequent and large purchases in the past.\",\n",
    "        \"Most frequent customers with the highest monetary spending amount and transact most recently\"\n",
    "    ]\n",
    "})\n",
    "# Display the DataFrame with increased font size\n",
    "cluster_summary.style.set_properties(**{'font-size': '10pt'})"
   ]
  },
  {
   "cell_type": "code",
   "execution_count": 33,
   "id": "68def1aa",
   "metadata": {},
   "outputs": [
    {
     "data": {
      "text/html": [
       "<div>\n",
       "<style scoped>\n",
       "    .dataframe tbody tr th:only-of-type {\n",
       "        vertical-align: middle;\n",
       "    }\n",
       "\n",
       "    .dataframe tbody tr th {\n",
       "        vertical-align: top;\n",
       "    }\n",
       "\n",
       "    .dataframe thead tr th {\n",
       "        text-align: left;\n",
       "    }\n",
       "\n",
       "    .dataframe thead tr:last-of-type th {\n",
       "        text-align: right;\n",
       "    }\n",
       "</style>\n",
       "<table border=\"1\" class=\"dataframe\">\n",
       "  <thead>\n",
       "    <tr>\n",
       "      <th></th>\n",
       "      <th>Recency</th>\n",
       "      <th>Frequency</th>\n",
       "      <th colspan=\"2\" halign=\"left\">MonetaryValue</th>\n",
       "    </tr>\n",
       "    <tr>\n",
       "      <th></th>\n",
       "      <th>mean</th>\n",
       "      <th>mean</th>\n",
       "      <th>mean</th>\n",
       "      <th>count</th>\n",
       "    </tr>\n",
       "    <tr>\n",
       "      <th>Cluster</th>\n",
       "      <th></th>\n",
       "      <th></th>\n",
       "      <th></th>\n",
       "      <th></th>\n",
       "    </tr>\n",
       "  </thead>\n",
       "  <tbody>\n",
       "    <tr>\n",
       "      <th>0</th>\n",
       "      <td>633.7</td>\n",
       "      <td>1.0</td>\n",
       "      <td>287.2</td>\n",
       "      <td>12203</td>\n",
       "    </tr>\n",
       "    <tr>\n",
       "      <th>1</th>\n",
       "      <td>408.8</td>\n",
       "      <td>2.4</td>\n",
       "      <td>401.5</td>\n",
       "      <td>5153</td>\n",
       "    </tr>\n",
       "    <tr>\n",
       "      <th>2</th>\n",
       "      <td>431.2</td>\n",
       "      <td>1.0</td>\n",
       "      <td>201.0</td>\n",
       "      <td>13888</td>\n",
       "    </tr>\n",
       "    <tr>\n",
       "      <th>3</th>\n",
       "      <td>426.3</td>\n",
       "      <td>2.3</td>\n",
       "      <td>2756.3</td>\n",
       "      <td>2213</td>\n",
       "    </tr>\n",
       "  </tbody>\n",
       "</table>\n",
       "</div>"
      ],
      "text/plain": [
       "        Recency Frequency MonetaryValue       \n",
       "           mean      mean          mean  count\n",
       "Cluster                                       \n",
       "0         633.7       1.0         287.2  12203\n",
       "1         408.8       2.4         401.5   5153\n",
       "2         431.2       1.0         201.0  13888\n",
       "3         426.3       2.3        2756.3   2213"
      ]
     },
     "execution_count": 33,
     "metadata": {},
     "output_type": "execute_result"
    }
   ],
   "source": [
    "rfm.groupby('Cluster').agg({\n",
    "    'Recency':'mean',\n",
    "    'Frequency':'mean',\n",
    "    'MonetaryValue':['mean', 'count']}).round(1)"
   ]
  },
  {
   "cell_type": "code",
   "execution_count": 34,
   "id": "148c3b77",
   "metadata": {},
   "outputs": [
    {
     "data": {
      "text/html": [
       "<div>\n",
       "<style scoped>\n",
       "    .dataframe tbody tr th:only-of-type {\n",
       "        vertical-align: middle;\n",
       "    }\n",
       "\n",
       "    .dataframe tbody tr th {\n",
       "        vertical-align: top;\n",
       "    }\n",
       "\n",
       "    .dataframe thead th {\n",
       "        text-align: right;\n",
       "    }\n",
       "</style>\n",
       "<table border=\"1\" class=\"dataframe\">\n",
       "  <thead>\n",
       "    <tr style=\"text-align: right;\">\n",
       "      <th></th>\n",
       "      <th>Cluster</th>\n",
       "      <th>Frequency</th>\n",
       "      <th>MonetaryValue</th>\n",
       "      <th>Recency</th>\n",
       "      <th>User_Id</th>\n",
       "    </tr>\n",
       "    <tr>\n",
       "      <th>Cluster</th>\n",
       "      <th></th>\n",
       "      <th></th>\n",
       "      <th></th>\n",
       "      <th></th>\n",
       "      <th></th>\n",
       "    </tr>\n",
       "  </thead>\n",
       "  <tbody>\n",
       "    <tr>\n",
       "      <th>0</th>\n",
       "      <td>NaN</td>\n",
       "      <td>-0.233840</td>\n",
       "      <td>-0.335633</td>\n",
       "      <td>0.264178</td>\n",
       "      <td>-0.068074</td>\n",
       "    </tr>\n",
       "    <tr>\n",
       "      <th>1</th>\n",
       "      <td>NaN</td>\n",
       "      <td>0.849605</td>\n",
       "      <td>-0.071404</td>\n",
       "      <td>-0.184593</td>\n",
       "      <td>0.115825</td>\n",
       "    </tr>\n",
       "    <tr>\n",
       "      <th>2</th>\n",
       "      <td>NaN</td>\n",
       "      <td>-0.233903</td>\n",
       "      <td>-0.535101</td>\n",
       "      <td>-0.139778</td>\n",
       "      <td>-0.012480</td>\n",
       "    </tr>\n",
       "    <tr>\n",
       "      <th>3</th>\n",
       "      <td>NaN</td>\n",
       "      <td>0.779021</td>\n",
       "      <td>5.375125</td>\n",
       "      <td>-0.149715</td>\n",
       "      <td>0.183997</td>\n",
       "    </tr>\n",
       "  </tbody>\n",
       "</table>\n",
       "</div>"
      ],
      "text/plain": [
       "         Cluster  Frequency  MonetaryValue   Recency   User_Id\n",
       "Cluster                                                       \n",
       "0            NaN  -0.233840      -0.335633  0.264178 -0.068074\n",
       "1            NaN   0.849605      -0.071404 -0.184593  0.115825\n",
       "2            NaN  -0.233903      -0.535101 -0.139778 -0.012480\n",
       "3            NaN   0.779021       5.375125 -0.149715  0.183997"
      ]
     },
     "execution_count": 34,
     "metadata": {},
     "output_type": "execute_result"
    }
   ],
   "source": [
    "cluster_avg = rfm.groupby('Cluster').mean()\n",
    "population_avg = rfm.mean()\n",
    "relative_imp = cluster_avg / population_avg - 1\n",
    "relative_imp"
   ]
  },
  {
   "cell_type": "code",
   "execution_count": 35,
   "id": "234a5416",
   "metadata": {},
   "outputs": [
    {
     "name": "stdout",
     "output_type": "stream",
     "text": [
      "32637/33457 data points remain.\n",
      "29412/32637 data points remain.\n",
      "26526/29412 data points remain.\n"
     ]
    }
   ],
   "source": [
    "rfm_fig = rfm.copy()\n",
    "\n",
    "#Remove the outlier for visualization\n",
    "y1 = rfm_fig['Frequency']\n",
    "size = rfm_fig.shape[0]\n",
    "removed_outliers = y1.between(y1.quantile(.05), y1.quantile(.95))\n",
    "print(str(y1[removed_outliers].size) + \"/\" + str(size) + \" data points remain.\") \n",
    "index_names = rfm_fig[~removed_outliers].index \n",
    "rfm_fig.drop(index_names, inplace=True)\n",
    "\n",
    "#Remove the outlier for visualization\n",
    "y2 = rfm_fig['Recency']\n",
    "size = rfm_fig.shape[0]\n",
    "removed_outliers = y2.between(y2.quantile(.05), y2.quantile(.95))\n",
    "print(str(y2[removed_outliers].size) + \"/\" + str(size) + \" data points remain.\") \n",
    "index_names = rfm_fig[~removed_outliers].index \n",
    "rfm_fig.drop(index_names, inplace=True)\n",
    "\n",
    "#Remove the outlier for visualization\n",
    "y3 = rfm_fig['MonetaryValue']\n",
    "size = rfm_fig.shape[0]\n",
    "removed_outliers = y3.between(y3.quantile(.05), y3.quantile(.95))\n",
    "print(str(y3[removed_outliers].size) + \"/\" + str(size) + \" data points remain.\") \n",
    "index_names = rfm_fig[~removed_outliers].index \n",
    "rfm_fig.drop(index_names, inplace=True)"
   ]
  },
  {
   "cell_type": "markdown",
   "id": "4f0cb79c",
   "metadata": {},
   "source": [
    "# Merging RFM with the Data Frame"
   ]
  },
  {
   "cell_type": "code",
   "execution_count": 37,
   "id": "54ba1139",
   "metadata": {},
   "outputs": [
    {
     "data": {
      "text/plain": [
       "0        1\n",
       "22340    1\n",
       "22338    1\n",
       "22337    1\n",
       "22336    1\n",
       "        ..\n",
       "11156    1\n",
       "11155    1\n",
       "11154    1\n",
       "11153    1\n",
       "33518    1\n",
       "Name: User_Id, Length: 33457, dtype: int64"
      ]
     },
     "execution_count": 37,
     "metadata": {},
     "output_type": "execute_result"
    }
   ],
   "source": [
    "rfm['User_Id'].value_counts()"
   ]
  },
  {
   "cell_type": "code",
   "execution_count": 38,
   "id": "62c80aed",
   "metadata": {},
   "outputs": [
    {
     "data": {
      "text/html": [
       "<div>\n",
       "<style scoped>\n",
       "    .dataframe tbody tr th:only-of-type {\n",
       "        vertical-align: middle;\n",
       "    }\n",
       "\n",
       "    .dataframe tbody tr th {\n",
       "        vertical-align: top;\n",
       "    }\n",
       "\n",
       "    .dataframe thead th {\n",
       "        text-align: right;\n",
       "    }\n",
       "</style>\n",
       "<table border=\"1\" class=\"dataframe\">\n",
       "  <thead>\n",
       "    <tr style=\"text-align: right;\">\n",
       "      <th></th>\n",
       "      <th>Trx_Rank</th>\n",
       "      <th>Points</th>\n",
       "      <th>Trx_Vlu</th>\n",
       "      <th>Trx_Age</th>\n",
       "      <th>Customer_Age</th>\n",
       "      <th>Category In English</th>\n",
       "      <th>User_Id</th>\n",
       "      <th>Mer_Name</th>\n",
       "      <th>Recency</th>\n",
       "      <th>Frequency</th>\n",
       "      <th>MonetaryValue</th>\n",
       "      <th>Cluster</th>\n",
       "    </tr>\n",
       "  </thead>\n",
       "  <tbody>\n",
       "    <tr>\n",
       "      <th>0</th>\n",
       "      <td>1</td>\n",
       "      <td>20140</td>\n",
       "      <td>2014.0</td>\n",
       "      <td>2022-12-29</td>\n",
       "      <td>362</td>\n",
       "      <td>Fashion</td>\n",
       "      <td>21053</td>\n",
       "      <td>Shankar Traders</td>\n",
       "      <td>337</td>\n",
       "      <td>1</td>\n",
       "      <td>2014.0</td>\n",
       "      <td>3</td>\n",
       "    </tr>\n",
       "    <tr>\n",
       "      <th>1</th>\n",
       "      <td>1</td>\n",
       "      <td>11200</td>\n",
       "      <td>1120.0</td>\n",
       "      <td>2023-01-07</td>\n",
       "      <td>368</td>\n",
       "      <td>Fashion</td>\n",
       "      <td>26472</td>\n",
       "      <td>Shankar Traders</td>\n",
       "      <td>328</td>\n",
       "      <td>2</td>\n",
       "      <td>1970.0</td>\n",
       "      <td>3</td>\n",
       "    </tr>\n",
       "    <tr>\n",
       "      <th>2</th>\n",
       "      <td>1</td>\n",
       "      <td>8500</td>\n",
       "      <td>850.0</td>\n",
       "      <td>2023-01-04</td>\n",
       "      <td>368</td>\n",
       "      <td>Fashion</td>\n",
       "      <td>26472</td>\n",
       "      <td>Shankar Traders</td>\n",
       "      <td>328</td>\n",
       "      <td>2</td>\n",
       "      <td>1970.0</td>\n",
       "      <td>3</td>\n",
       "    </tr>\n",
       "    <tr>\n",
       "      <th>3</th>\n",
       "      <td>1</td>\n",
       "      <td>1980</td>\n",
       "      <td>198.0</td>\n",
       "      <td>2023-07-13</td>\n",
       "      <td>34</td>\n",
       "      <td>Fashion</td>\n",
       "      <td>27075</td>\n",
       "      <td>Shankar Traders</td>\n",
       "      <td>141</td>\n",
       "      <td>3</td>\n",
       "      <td>900.0</td>\n",
       "      <td>1</td>\n",
       "    </tr>\n",
       "    <tr>\n",
       "      <th>4</th>\n",
       "      <td>1</td>\n",
       "      <td>2860</td>\n",
       "      <td>286.0</td>\n",
       "      <td>2022-11-24</td>\n",
       "      <td>34</td>\n",
       "      <td>Fashion</td>\n",
       "      <td>27075</td>\n",
       "      <td>Agra Appliance Arena</td>\n",
       "      <td>141</td>\n",
       "      <td>3</td>\n",
       "      <td>900.0</td>\n",
       "      <td>1</td>\n",
       "    </tr>\n",
       "    <tr>\n",
       "      <th>...</th>\n",
       "      <td>...</td>\n",
       "      <td>...</td>\n",
       "      <td>...</td>\n",
       "      <td>...</td>\n",
       "      <td>...</td>\n",
       "      <td>...</td>\n",
       "      <td>...</td>\n",
       "      <td>...</td>\n",
       "      <td>...</td>\n",
       "      <td>...</td>\n",
       "      <td>...</td>\n",
       "      <td>...</td>\n",
       "    </tr>\n",
       "    <tr>\n",
       "      <th>43667</th>\n",
       "      <td>1</td>\n",
       "      <td>1130</td>\n",
       "      <td>113.0</td>\n",
       "      <td>2022-01-21</td>\n",
       "      <td>20</td>\n",
       "      <td>F&amp;B</td>\n",
       "      <td>20060</td>\n",
       "      <td>Cuttack Curtain Corner</td>\n",
       "      <td>679</td>\n",
       "      <td>1</td>\n",
       "      <td>113.0</td>\n",
       "      <td>0</td>\n",
       "    </tr>\n",
       "    <tr>\n",
       "      <th>43668</th>\n",
       "      <td>1</td>\n",
       "      <td>3120</td>\n",
       "      <td>312.0</td>\n",
       "      <td>2022-02-01</td>\n",
       "      <td>31</td>\n",
       "      <td>F&amp;B</td>\n",
       "      <td>27128</td>\n",
       "      <td>Cuttack Curtain Corner</td>\n",
       "      <td>668</td>\n",
       "      <td>1</td>\n",
       "      <td>312.0</td>\n",
       "      <td>0</td>\n",
       "    </tr>\n",
       "    <tr>\n",
       "      <th>43669</th>\n",
       "      <td>1</td>\n",
       "      <td>1200</td>\n",
       "      <td>120.0</td>\n",
       "      <td>2022-01-26</td>\n",
       "      <td>25</td>\n",
       "      <td>F&amp;B</td>\n",
       "      <td>28814</td>\n",
       "      <td>Cuttack Curtain Corner</td>\n",
       "      <td>674</td>\n",
       "      <td>1</td>\n",
       "      <td>120.0</td>\n",
       "      <td>0</td>\n",
       "    </tr>\n",
       "    <tr>\n",
       "      <th>43670</th>\n",
       "      <td>1</td>\n",
       "      <td>20</td>\n",
       "      <td>2.0</td>\n",
       "      <td>2022-01-03</td>\n",
       "      <td>2</td>\n",
       "      <td>Other</td>\n",
       "      <td>29107</td>\n",
       "      <td>Rourkela Rice Retail</td>\n",
       "      <td>697</td>\n",
       "      <td>2</td>\n",
       "      <td>4.0</td>\n",
       "      <td>0</td>\n",
       "    </tr>\n",
       "    <tr>\n",
       "      <th>43671</th>\n",
       "      <td>1</td>\n",
       "      <td>20</td>\n",
       "      <td>2.0</td>\n",
       "      <td>2022-01-03</td>\n",
       "      <td>2</td>\n",
       "      <td>Other</td>\n",
       "      <td>29107</td>\n",
       "      <td>Rourkela Rice Retail</td>\n",
       "      <td>697</td>\n",
       "      <td>2</td>\n",
       "      <td>4.0</td>\n",
       "      <td>0</td>\n",
       "    </tr>\n",
       "  </tbody>\n",
       "</table>\n",
       "<p>43672 rows × 12 columns</p>\n",
       "</div>"
      ],
      "text/plain": [
       "       Trx_Rank  Points  Trx_Vlu    Trx_Age  Customer_Age Category In English  \\\n",
       "0             1   20140   2014.0 2022-12-29           362             Fashion   \n",
       "1             1   11200   1120.0 2023-01-07           368             Fashion   \n",
       "2             1    8500    850.0 2023-01-04           368             Fashion   \n",
       "3             1    1980    198.0 2023-07-13            34             Fashion   \n",
       "4             1    2860    286.0 2022-11-24            34             Fashion   \n",
       "...         ...     ...      ...        ...           ...                 ...   \n",
       "43667         1    1130    113.0 2022-01-21            20                 F&B   \n",
       "43668         1    3120    312.0 2022-02-01            31                 F&B   \n",
       "43669         1    1200    120.0 2022-01-26            25                 F&B   \n",
       "43670         1      20      2.0 2022-01-03             2               Other   \n",
       "43671         1      20      2.0 2022-01-03             2               Other   \n",
       "\n",
       "       User_Id                Mer_Name  Recency  Frequency  MonetaryValue  \\\n",
       "0        21053         Shankar Traders      337          1         2014.0   \n",
       "1        26472         Shankar Traders      328          2         1970.0   \n",
       "2        26472         Shankar Traders      328          2         1970.0   \n",
       "3        27075         Shankar Traders      141          3          900.0   \n",
       "4        27075    Agra Appliance Arena      141          3          900.0   \n",
       "...        ...                     ...      ...        ...            ...   \n",
       "43667    20060  Cuttack Curtain Corner      679          1          113.0   \n",
       "43668    27128  Cuttack Curtain Corner      668          1          312.0   \n",
       "43669    28814  Cuttack Curtain Corner      674          1          120.0   \n",
       "43670    29107    Rourkela Rice Retail      697          2            4.0   \n",
       "43671    29107    Rourkela Rice Retail      697          2            4.0   \n",
       "\n",
       "       Cluster  \n",
       "0            3  \n",
       "1            3  \n",
       "2            3  \n",
       "3            1  \n",
       "4            1  \n",
       "...        ...  \n",
       "43667        0  \n",
       "43668        0  \n",
       "43669        0  \n",
       "43670        0  \n",
       "43671        0  \n",
       "\n",
       "[43672 rows x 12 columns]"
      ]
     },
     "execution_count": 38,
     "metadata": {},
     "output_type": "execute_result"
    }
   ],
   "source": [
    "import pandas as pd\n",
    "\n",
    "# Assuming 'rfm' and 'df' are your DataFrames\n",
    "\n",
    "# Merge the DataFrames based on 'User_Id'\n",
    "df = pd.merge(df, rfm, on='User_Id', how='inner', suffixes=('_df', '_rfm'))\n",
    "\n",
    "# Display the resulting merged DataFrame\n",
    "df\n"
   ]
  },
  {
   "cell_type": "code",
   "execution_count": 39,
   "id": "1bbbf358",
   "metadata": {},
   "outputs": [
    {
     "data": {
      "text/plain": [
       "Rajasthan Handicrafts      1881\n",
       "Madurai Music Mania         675\n",
       "Jai Hind General Stores     546\n",
       "Name: Mer_Name, dtype: int64"
      ]
     },
     "execution_count": 39,
     "metadata": {},
     "output_type": "execute_result"
    }
   ],
   "source": [
    "df[df['Cluster'] == 3]['Mer_Name'].value_counts().head(3)"
   ]
  },
  {
   "cell_type": "code",
   "execution_count": 147,
   "id": "93a3c230",
   "metadata": {},
   "outputs": [
    {
     "data": {
      "text/plain": [
       "Rajasthan Handicrafts      4994\n",
       "Saraswati Fabrics          3429\n",
       "Jai Hind General Stores    1201\n",
       "Name: Mer_Name, dtype: int64"
      ]
     },
     "execution_count": 147,
     "metadata": {},
     "output_type": "execute_result"
    }
   ],
   "source": [
    "df[df['Cluster'] == 2]['Mer_Name'].value_counts().head(3)"
   ]
  },
  {
   "cell_type": "code",
   "execution_count": 148,
   "id": "787dcefb",
   "metadata": {},
   "outputs": [
    {
     "data": {
      "text/plain": [
       "Rajasthan Handicrafts    5649\n",
       "Madurai Music Mania      1599\n",
       "Saraswati Fabrics        1425\n",
       "Name: Mer_Name, dtype: int64"
      ]
     },
     "execution_count": 148,
     "metadata": {},
     "output_type": "execute_result"
    }
   ],
   "source": [
    "df[df['Cluster'] == 1]['Mer_Name'].value_counts().head(3)"
   ]
  },
  {
   "cell_type": "code",
   "execution_count": 149,
   "id": "cefd7927",
   "metadata": {},
   "outputs": [
    {
     "data": {
      "text/plain": [
       "Rajasthan Handicrafts    6837\n",
       "Saraswati Fabrics        1532\n",
       "Madurai Music Mania       838\n",
       "Name: Mer_Name, dtype: int64"
      ]
     },
     "execution_count": 149,
     "metadata": {},
     "output_type": "execute_result"
    }
   ],
   "source": [
    "df[df['Cluster'] == 0]['Mer_Name'].value_counts().head(3)"
   ]
  },
  {
   "cell_type": "code",
   "execution_count": 151,
   "id": "e3006a5f",
   "metadata": {},
   "outputs": [
    {
     "data": {
      "text/plain": [
       "29107    2\n",
       "28123    1\n",
       "28057    1\n",
       "28066    1\n",
       "28076    1\n",
       "        ..\n",
       "8416     1\n",
       "8419     1\n",
       "8440     1\n",
       "8441     1\n",
       "16976    1\n",
       "Name: User_Id, Length: 12203, dtype: int64"
      ]
     },
     "execution_count": 151,
     "metadata": {},
     "output_type": "execute_result"
    }
   ],
   "source": [
    "df[df['Cluster'] == 0]['User_Id'].value_counts()"
   ]
  },
  {
   "cell_type": "code",
   "execution_count": 152,
   "id": "0bc4b964",
   "metadata": {},
   "outputs": [],
   "source": [
    "cluster_0 = df[df['Cluster'] == 0]['User_Id'].value_counts()"
   ]
  },
  {
   "cell_type": "code",
   "execution_count": 153,
   "id": "ddf3fe86",
   "metadata": {},
   "outputs": [],
   "source": [
    "cluster_1 = df[df['Cluster'] == 1]['User_Id'].value_counts()"
   ]
  },
  {
   "cell_type": "code",
   "execution_count": 154,
   "id": "a20cd912",
   "metadata": {},
   "outputs": [],
   "source": [
    "cluster_2 = df[df['Cluster'] == 2]['User_Id'].value_counts()"
   ]
  },
  {
   "cell_type": "code",
   "execution_count": 155,
   "id": "481f5408",
   "metadata": {},
   "outputs": [],
   "source": [
    "cluster_3 = df[df['Cluster'] == 3]['User_Id'].value_counts()"
   ]
  },
  {
   "cell_type": "code",
   "execution_count": 182,
   "id": "05f5f732",
   "metadata": {},
   "outputs": [
    {
     "data": {
      "text/plain": [
       "Int64Index([29107, 28123, 28057, 28066, 28076, 28090, 28091, 28096, 28102,\n",
       "            28108,\n",
       "            ...\n",
       "             8390,  8392,  8398,  8405,  8406,  8416,  8419,  8440,  8441,\n",
       "            16976],\n",
       "           dtype='int64', length=12203)"
      ]
     },
     "execution_count": 182,
     "metadata": {},
     "output_type": "execute_result"
    }
   ],
   "source": [
    "cluster_0.index"
   ]
  },
  {
   "cell_type": "code",
   "execution_count": 223,
   "id": "7bd52328",
   "metadata": {},
   "outputs": [
    {
     "data": {
      "text/plain": [
       "13768    0\n",
       "Name: Cluster, dtype: int32"
      ]
     },
     "execution_count": 223,
     "metadata": {},
     "output_type": "execute_result"
    }
   ],
   "source": [
    "df[df['User_Id'] == 2258]['Cluster']"
   ]
  },
  {
   "cell_type": "code",
   "execution_count": 215,
   "id": "7523f0da",
   "metadata": {},
   "outputs": [
    {
     "name": "stdin",
     "output_type": "stream",
     "text": [
      "User_ID =  7\n"
     ]
    },
    {
     "name": "stdout",
     "output_type": "stream",
     "text": [
      "User: 7 is Bad\n"
     ]
    }
   ],
   "source": [
    "# Assuming 'df' has a column 'Cluster' representing the cluster assignment\n",
    "cluster_0 = df[df['Cluster'] == 0]['User_Id'].value_counts()\n",
    "cluster_1 = df[df['Cluster'] == 1]['User_Id'].value_counts()\n",
    "cluster_2 = df[df['Cluster'] == 2]['User_Id'].value_counts()\n",
    "cluster_3 = df[df['Cluster'] == 3]['User_Id'].value_counts()\n",
    "# Sample user ID to check\n",
    "User_Id = int(input('User_ID = '))\n",
    "\n",
    "# Check if the user ID is in Cluster 0\n",
    "if User_Id in cluster_0.index:\n",
    "    print(f'User: {User_Id} is Good')\n",
    "elif User_Id in cluster_1.index:\n",
    "    print(f'User: {User_Id} is Not Loyal')\n",
    "elif User_Id in cluster_2.index:\n",
    "    print(f'User: {User_Id} is Bad')\n",
    "elif User_Id in cluster_3.index:\n",
    "    print(f'User: {User_Id} is ay kalam')\n",
    "else:\n",
    "    print(f'User: {User_Id} does not belong to any cluster')\n"
   ]
  },
  {
   "cell_type": "code",
   "execution_count": 249,
   "id": "ef2ac488",
   "metadata": {},
   "outputs": [
    {
     "data": {
      "text/plain": [
       "Grocery    3068\n",
       "F&B        1256\n",
       "Fashion     585\n",
       "Name: Category In English, dtype: int64"
      ]
     },
     "execution_count": 249,
     "metadata": {},
     "output_type": "execute_result"
    }
   ],
   "source": [
    "df[df['Cluster'] == 3]['Category In English'].value_counts().head(3)"
   ]
  },
  {
   "cell_type": "code",
   "execution_count": 248,
   "id": "51c517dc",
   "metadata": {},
   "outputs": [
    {
     "data": {
      "text/plain": [
       "Grocery    8744\n",
       "F&B        2254\n",
       "Fashion     710\n",
       "Name: Category In English, dtype: int64"
      ]
     },
     "execution_count": 248,
     "metadata": {},
     "output_type": "execute_result"
    }
   ],
   "source": [
    "df[df['Cluster'] == 1]['Category In English'].value_counts().head(3)"
   ]
  },
  {
   "cell_type": "code",
   "execution_count": 247,
   "id": "859bfcf9",
   "metadata": {},
   "outputs": [
    {
     "data": {
      "text/plain": [
       "Grocery    9637\n",
       "F&B        2719\n",
       "Fashion     960\n",
       "Name: Category In English, dtype: int64"
      ]
     },
     "execution_count": 247,
     "metadata": {},
     "output_type": "execute_result"
    }
   ],
   "source": [
    "df[df['Cluster'] == 2]['Category In English'].value_counts().head(3)"
   ]
  },
  {
   "cell_type": "code",
   "execution_count": 246,
   "id": "72bcc1fb",
   "metadata": {},
   "outputs": [
    {
     "data": {
      "text/plain": [
       "Grocery    9245\n",
       "F&B        1491\n",
       "Fashion    1078\n",
       "Name: Category In English, dtype: int64"
      ]
     },
     "execution_count": 246,
     "metadata": {},
     "output_type": "execute_result"
    }
   ],
   "source": [
    "df[df['Cluster'] == 0]['Category In English'].value_counts().head(3)"
   ]
  },
  {
   "cell_type": "code",
   "execution_count": 242,
   "id": "a9dff225",
   "metadata": {},
   "outputs": [
    {
     "name": "stdout",
     "output_type": "stream",
     "text": [
      "1. Rajasthan Handicrafts\n",
      "2. Madurai Music Mania\n",
      "3. Jai Hind General Stores\n"
     ]
    }
   ],
   "source": [
    "# Assuming 'mer_0' is a Pandas Series or DataFrame\n",
    "\n",
    "# Access the index (names)\n",
    "names = mer_3.index\n",
    "\n",
    "# Save the numbered names to a list\n",
    "numbered_names = [f\"{i}. {name}\" for i, name in enumerate(names, start=1)]\n",
    "\n",
    "# Print the numbered names under each other\n",
    "mer_3 ='\\n'.join(numbered_names)\n",
    "print(mer_3)\n"
   ]
  },
  {
   "cell_type": "code",
   "execution_count": null,
   "id": "d8cbde2f",
   "metadata": {},
   "outputs": [],
   "source": [
    "# Assuming 'df' has a column 'Cluster' representing the cluster assignment\n",
    "cluster_0 = df[df['Cluster'] == 0]['User_Id'].value_counts()\n",
    "cluster_1 = df[df['Cluster'] == 1]['User_Id'].value_counts()\n",
    "cluster_2 = df[df['Cluster'] == 2]['User_Id'].value_counts()\n",
    "cluster_3 = df[df['Cluster'] == 3]['User_Id'].value_counts()"
   ]
  },
  {
   "cell_type": "code",
   "execution_count": 217,
   "id": "a967f1c7",
   "metadata": {},
   "outputs": [
    {
     "data": {
      "text/plain": [
       "['cluster_3.pkl']"
      ]
     },
     "execution_count": 217,
     "metadata": {},
     "output_type": "execute_result"
    }
   ],
   "source": [
    "import joblib\n",
    "joblib.dump(cluster_0 , \"cluster_0.pkl\")\n",
    "joblib.dump(cluster_1 , \"cluster_1.pkl\")\n",
    "joblib.dump(cluster_2 , \"cluster_2.pkl\")\n",
    "joblib.dump(cluster_3 , \"cluster_3.pkl\")"
   ]
  },
  {
   "cell_type": "code",
   "execution_count": 243,
   "id": "057f9788",
   "metadata": {},
   "outputs": [
    {
     "data": {
      "text/plain": [
       "['mer_3.pkl']"
      ]
     },
     "execution_count": 243,
     "metadata": {},
     "output_type": "execute_result"
    }
   ],
   "source": [
    "joblib.dump(mer_0 , \"mer_0.pkl\")\n",
    "joblib.dump(mer_1 , \"mer_1.pkl\")\n",
    "joblib.dump(mer_2 , \"mer_2.pkl\")\n",
    "joblib.dump(mer_3 , \"mer_3.pkl\")"
   ]
  },
  {
   "cell_type": "code",
   "execution_count": 227,
   "id": "e7f2ec28",
   "metadata": {},
   "outputs": [],
   "source": [
    "mer_0 = df[df['Cluster'] == 0]['Mer_Name'].value_counts().head(3)\n",
    "mer_1 = df[df['Cluster'] == 1]['Mer_Name'].value_counts().head(3)\n",
    "mer_2 = df[df['Cluster'] == 2]['Mer_Name'].value_counts().head(3)\n",
    "mer_3 = df[df['Cluster'] == 3]['Mer_Name'].value_counts().head(3)"
   ]
  },
  {
   "cell_type": "code",
   "execution_count": 221,
   "id": "d7a45304",
   "metadata": {},
   "outputs": [
    {
     "data": {
      "text/plain": [
       "array(['Shankar Traders', 'Agra Appliance Arena', 'Radha Emporium',\n",
       "       'Mohan Brothers Mart', 'Jai Hind General Stores',\n",
       "       'Rajasthan Handicrafts', 'Lucknow Leather World',\n",
       "       'Pune Perfumes Paradise', 'Ranchi Rug Retail',\n",
       "       'Faridabad Footwear Fair', 'Cuttack Curtain Corner',\n",
       "       'Ganpati Enterprises', 'Gurgaon Gift Gallery',\n",
       "       'Varanasi Silk House', 'Saraswati Fabrics',\n",
       "       'Amritsar Auto Accessories', 'Vadodara Vegetables Villa',\n",
       "       'Indore Instrument Inn', 'Madurai Music Mania',\n",
       "       'Gwalior Garden Gear', 'Mumbai Fashion Hub',\n",
       "       'Kanpur Kitchen Appliances', 'Thiruvananthapuram Toy Town',\n",
       "       'Nashik Noodle Niche', 'Jamshedpur Jeans Junction',\n",
       "       'Kochi Kitchenware Kingdom', \"Bhubaneswar Baker's Boutique\",\n",
       "       'Delhi Electronics', 'Jodhpur Jewelry Junction',\n",
       "       'Jaipur Pottery Emporium', 'Goa Grocery Galaxy',\n",
       "       'Dehradun Dairy Delight', 'Krishna Textiles',\n",
       "       'Ahmedabad Sweet Mart', 'Vijayawada Vegetable Village',\n",
       "       'Gupta Saree Center', 'Bangalore Book House',\n",
       "       'Nagpur Novelty Nook', 'Thane Tea Traders',\n",
       "       'Guwahati Grocery Galleria', 'Punjabi Furniture Palace',\n",
       "       'Mysuru Mobile Mart', 'Kolkata Carpets Corner',\n",
       "       'Patna Paints Palace', 'Surat Stationery Studio',\n",
       "       'Hyderabad Spices Bazaar', 'Udaipur Utensil Universe',\n",
       "       'Coimbatore Cosmetics Castle', 'Chennai Gems and Jewels',\n",
       "       'Bhopal Bedding Boutique', 'Shimla Shoe Shoppe',\n",
       "       'Noida Novelty Nook', 'Raipur Rice Retail',\n",
       "       'Trichy Tailoring Trends', 'Kollam Kitchenware Kingdom',\n",
       "       'Rourkela Rice Retail'], dtype=object)"
      ]
     },
     "execution_count": 221,
     "metadata": {},
     "output_type": "execute_result"
    }
   ],
   "source": [
    "df['Mer_Name'].unique()"
   ]
  },
  {
   "cell_type": "code",
   "execution_count": 43,
   "id": "d21b2aca",
   "metadata": {},
   "outputs": [],
   "source": [
    "ID = df['User_Id']"
   ]
  },
  {
   "cell_type": "code",
   "execution_count": 44,
   "id": "89e07ce3",
   "metadata": {},
   "outputs": [
    {
     "data": {
      "text/plain": [
       "['ID.pkl']"
      ]
     },
     "execution_count": 44,
     "metadata": {},
     "output_type": "execute_result"
    }
   ],
   "source": [
    "import joblib\n",
    "joblib.dump(ID , \"ID.pkl\")"
   ]
  },
  {
   "cell_type": "code",
   "execution_count": 45,
   "id": "589f25a7",
   "metadata": {},
   "outputs": [],
   "source": [
    "data = df"
   ]
  },
  {
   "cell_type": "code",
   "execution_count": 47,
   "id": "8ad954f5",
   "metadata": {},
   "outputs": [
    {
     "data": {
      "text/plain": [
       "['data.pkl']"
      ]
     },
     "execution_count": 47,
     "metadata": {},
     "output_type": "execute_result"
    }
   ],
   "source": [
    "import joblib\n",
    "joblib.dump(data , \"data.pkl\")"
   ]
  },
  {
   "cell_type": "code",
   "execution_count": 59,
   "id": "06b9c058",
   "metadata": {},
   "outputs": [],
   "source": [
    "import pandas as pd\n",
    "from datetime import datetime\n",
    "\n",
    "# Assuming you have a DataFrame named 'df' with columns like ['Trx_Rank', 'Points', 'Trx_Vlu', 'Trx_Age', 'Customer_Age', 'Category In English', 'User_Id', 'Mer_Name']\n",
    "\n",
    "# Step 1: Convert 'Trx_Age' to datetime if it's not already\n",
    "df['Trx_Age'] = pd.to_datetime(df['Trx_Age'])\n",
    "\n",
    "# Step 2: Calculate Recency, Frequency, and Monetary values for each user\n",
    "current_date = max(df['Trx_Age'])  # Use the latest date in the dataset as the current date\n",
    "\n",
    "rfm_data = df.groupby('User_Id').agg({\n",
    "    'Trx_Age': lambda x: (current_date - x.max()).days,  # Recency\n",
    "    'Points': 'count',  # Frequency\n",
    "    'Trx_Vlu': 'sum'  # Monetary Value\n",
    "}).reset_index()\n",
    "\n",
    "rfm_data.columns = ['User_Id', 'recency', 'frequency', 'monetary']\n",
    "\n",
    "# Step 3: Assign RFM scores\n",
    "rfm_data['recency_score'] = rfm_data['recency'].rank(ascending=False)\n",
    "\n",
    "# Step 4: Assign Frequency and Monetary scores as before\n",
    "rfm_data['frequency_score'] = pd.qcut(rfm_data['frequency'], q=5, labels=False, duplicates='drop') + 1\n",
    "rfm_data['monetary_score'] = pd.qcut(rfm_data['monetary'], q=5, labels=False, duplicates='drop') + 1\n",
    "\n",
    "# Step 5: Calculate RFM Group\n",
    "rfm_data['rfm_group'] = rfm_data['recency_score'].astype(int).astype(str) + rfm_data['frequency_score'].astype(str) + rfm_data['monetary_score'].astype(str)\n",
    "\n",
    "# Step 6: Analyze and Interpret the Results\n",
    "# You can analyze different user segments based on their RFM scores and create marketing strategies accordingly.\n",
    "\n",
    "# Example: High-Value Users\n",
    "high_value_users = rfm_data[rfm_data['rfm_group'] == '555']\n",
    "\n",
    "# Example: Inactive Users\n",
    "inactive_users = rfm_data[rfm_data['recency_score'] >= 4]\n",
    "\n",
    "# ... and so on.\n",
    "\n",
    "# Step 7: Use the RFM Data for Marketing Strategies\n",
    "# Tailor your marketing strategies based on the insights gained from the RFM analysis.\n"
   ]
  },
  {
   "cell_type": "code",
   "execution_count": 60,
   "id": "4d51d910",
   "metadata": {},
   "outputs": [
    {
     "data": {
      "text/html": [
       "<div>\n",
       "<style scoped>\n",
       "    .dataframe tbody tr th:only-of-type {\n",
       "        vertical-align: middle;\n",
       "    }\n",
       "\n",
       "    .dataframe tbody tr th {\n",
       "        vertical-align: top;\n",
       "    }\n",
       "\n",
       "    .dataframe thead th {\n",
       "        text-align: right;\n",
       "    }\n",
       "</style>\n",
       "<table border=\"1\" class=\"dataframe\">\n",
       "  <thead>\n",
       "    <tr style=\"text-align: right;\">\n",
       "      <th></th>\n",
       "      <th>User_Id</th>\n",
       "      <th>recency</th>\n",
       "      <th>frequency</th>\n",
       "      <th>monetary</th>\n",
       "      <th>recency_score</th>\n",
       "      <th>frequency_score</th>\n",
       "      <th>monetary_score</th>\n",
       "      <th>rfm_group</th>\n",
       "    </tr>\n",
       "  </thead>\n",
       "  <tbody>\n",
       "    <tr>\n",
       "      <th>0</th>\n",
       "      <td>0</td>\n",
       "      <td>417</td>\n",
       "      <td>1</td>\n",
       "      <td>442.7</td>\n",
       "      <td>25198.5</td>\n",
       "      <td>1</td>\n",
       "      <td>5</td>\n",
       "      <td>2519815</td>\n",
       "    </tr>\n",
       "    <tr>\n",
       "      <th>1</th>\n",
       "      <td>1</td>\n",
       "      <td>664</td>\n",
       "      <td>1</td>\n",
       "      <td>249.0</td>\n",
       "      <td>4615.5</td>\n",
       "      <td>1</td>\n",
       "      <td>3</td>\n",
       "      <td>461513</td>\n",
       "    </tr>\n",
       "    <tr>\n",
       "      <th>2</th>\n",
       "      <td>2</td>\n",
       "      <td>462</td>\n",
       "      <td>1</td>\n",
       "      <td>300.0</td>\n",
       "      <td>17344.0</td>\n",
       "      <td>1</td>\n",
       "      <td>4</td>\n",
       "      <td>1734414</td>\n",
       "    </tr>\n",
       "    <tr>\n",
       "      <th>3</th>\n",
       "      <td>3</td>\n",
       "      <td>378</td>\n",
       "      <td>1</td>\n",
       "      <td>162.0</td>\n",
       "      <td>29018.5</td>\n",
       "      <td>1</td>\n",
       "      <td>2</td>\n",
       "      <td>2901812</td>\n",
       "    </tr>\n",
       "    <tr>\n",
       "      <th>4</th>\n",
       "      <td>4</td>\n",
       "      <td>291</td>\n",
       "      <td>1</td>\n",
       "      <td>70.0</td>\n",
       "      <td>32252.0</td>\n",
       "      <td>1</td>\n",
       "      <td>1</td>\n",
       "      <td>3225211</td>\n",
       "    </tr>\n",
       "    <tr>\n",
       "      <th>...</th>\n",
       "      <td>...</td>\n",
       "      <td>...</td>\n",
       "      <td>...</td>\n",
       "      <td>...</td>\n",
       "      <td>...</td>\n",
       "      <td>...</td>\n",
       "      <td>...</td>\n",
       "      <td>...</td>\n",
       "    </tr>\n",
       "    <tr>\n",
       "      <th>33452</th>\n",
       "      <td>33514</td>\n",
       "      <td>430</td>\n",
       "      <td>3</td>\n",
       "      <td>594.0</td>\n",
       "      <td>23132.5</td>\n",
       "      <td>1</td>\n",
       "      <td>5</td>\n",
       "      <td>2313215</td>\n",
       "    </tr>\n",
       "    <tr>\n",
       "      <th>33453</th>\n",
       "      <td>33515</td>\n",
       "      <td>454</td>\n",
       "      <td>1</td>\n",
       "      <td>48.0</td>\n",
       "      <td>18114.0</td>\n",
       "      <td>1</td>\n",
       "      <td>1</td>\n",
       "      <td>1811411</td>\n",
       "    </tr>\n",
       "    <tr>\n",
       "      <th>33454</th>\n",
       "      <td>33516</td>\n",
       "      <td>442</td>\n",
       "      <td>1</td>\n",
       "      <td>132.0</td>\n",
       "      <td>20569.0</td>\n",
       "      <td>1</td>\n",
       "      <td>1</td>\n",
       "      <td>2056911</td>\n",
       "    </tr>\n",
       "    <tr>\n",
       "      <th>33455</th>\n",
       "      <td>33517</td>\n",
       "      <td>685</td>\n",
       "      <td>1</td>\n",
       "      <td>210.0</td>\n",
       "      <td>1157.5</td>\n",
       "      <td>1</td>\n",
       "      <td>3</td>\n",
       "      <td>115713</td>\n",
       "    </tr>\n",
       "    <tr>\n",
       "      <th>33456</th>\n",
       "      <td>33518</td>\n",
       "      <td>249</td>\n",
       "      <td>3</td>\n",
       "      <td>568.0</td>\n",
       "      <td>32981.0</td>\n",
       "      <td>1</td>\n",
       "      <td>5</td>\n",
       "      <td>3298115</td>\n",
       "    </tr>\n",
       "  </tbody>\n",
       "</table>\n",
       "<p>33457 rows × 8 columns</p>\n",
       "</div>"
      ],
      "text/plain": [
       "       User_Id  recency  frequency  monetary  recency_score  frequency_score  \\\n",
       "0            0      417          1     442.7        25198.5                1   \n",
       "1            1      664          1     249.0         4615.5                1   \n",
       "2            2      462          1     300.0        17344.0                1   \n",
       "3            3      378          1     162.0        29018.5                1   \n",
       "4            4      291          1      70.0        32252.0                1   \n",
       "...        ...      ...        ...       ...            ...              ...   \n",
       "33452    33514      430          3     594.0        23132.5                1   \n",
       "33453    33515      454          1      48.0        18114.0                1   \n",
       "33454    33516      442          1     132.0        20569.0                1   \n",
       "33455    33517      685          1     210.0         1157.5                1   \n",
       "33456    33518      249          3     568.0        32981.0                1   \n",
       "\n",
       "       monetary_score rfm_group  \n",
       "0                   5   2519815  \n",
       "1                   3    461513  \n",
       "2                   4   1734414  \n",
       "3                   2   2901812  \n",
       "4                   1   3225211  \n",
       "...               ...       ...  \n",
       "33452               5   2313215  \n",
       "33453               1   1811411  \n",
       "33454               1   2056911  \n",
       "33455               3    115713  \n",
       "33456               5   3298115  \n",
       "\n",
       "[33457 rows x 8 columns]"
      ]
     },
     "execution_count": 60,
     "metadata": {},
     "output_type": "execute_result"
    }
   ],
   "source": [
    "rfm_data"
   ]
  },
  {
   "cell_type": "code",
   "execution_count": 109,
   "id": "1f9bc77f",
   "metadata": {},
   "outputs": [
    {
     "data": {
      "text/html": [
       "<div>\n",
       "<style scoped>\n",
       "    .dataframe tbody tr th:only-of-type {\n",
       "        vertical-align: middle;\n",
       "    }\n",
       "\n",
       "    .dataframe tbody tr th {\n",
       "        vertical-align: top;\n",
       "    }\n",
       "\n",
       "    .dataframe thead th {\n",
       "        text-align: right;\n",
       "    }\n",
       "</style>\n",
       "<table border=\"1\" class=\"dataframe\">\n",
       "  <thead>\n",
       "    <tr style=\"text-align: right;\">\n",
       "      <th></th>\n",
       "      <th>Trx_Rank</th>\n",
       "      <th>Points</th>\n",
       "      <th>Trx_Vlu</th>\n",
       "      <th>Trx_Age</th>\n",
       "      <th>Customer_Age</th>\n",
       "      <th>Category In English</th>\n",
       "      <th>User_Id</th>\n",
       "      <th>Mer_Name</th>\n",
       "    </tr>\n",
       "  </thead>\n",
       "  <tbody>\n",
       "    <tr>\n",
       "      <th>0</th>\n",
       "      <td>1</td>\n",
       "      <td>20140</td>\n",
       "      <td>2014.0</td>\n",
       "      <td>1970-01-01 00:00:00.000000362</td>\n",
       "      <td>362</td>\n",
       "      <td>Fashion</td>\n",
       "      <td>21053</td>\n",
       "      <td>Shankar Traders</td>\n",
       "    </tr>\n",
       "    <tr>\n",
       "      <th>1</th>\n",
       "      <td>1</td>\n",
       "      <td>11200</td>\n",
       "      <td>1120.0</td>\n",
       "      <td>1970-01-01 00:00:00.000000371</td>\n",
       "      <td>368</td>\n",
       "      <td>Fashion</td>\n",
       "      <td>26472</td>\n",
       "      <td>Shankar Traders</td>\n",
       "    </tr>\n",
       "    <tr>\n",
       "      <th>2</th>\n",
       "      <td>1</td>\n",
       "      <td>8500</td>\n",
       "      <td>850.0</td>\n",
       "      <td>1970-01-01 00:00:00.000000368</td>\n",
       "      <td>368</td>\n",
       "      <td>Fashion</td>\n",
       "      <td>26472</td>\n",
       "      <td>Shankar Traders</td>\n",
       "    </tr>\n",
       "    <tr>\n",
       "      <th>3</th>\n",
       "      <td>1</td>\n",
       "      <td>1980</td>\n",
       "      <td>198.0</td>\n",
       "      <td>1970-01-01 00:00:00.000000558</td>\n",
       "      <td>34</td>\n",
       "      <td>Fashion</td>\n",
       "      <td>27075</td>\n",
       "      <td>Shankar Traders</td>\n",
       "    </tr>\n",
       "    <tr>\n",
       "      <th>4</th>\n",
       "      <td>1</td>\n",
       "      <td>2400</td>\n",
       "      <td>240.0</td>\n",
       "      <td>1970-01-01 00:00:00.000000413</td>\n",
       "      <td>413</td>\n",
       "      <td>Fashion</td>\n",
       "      <td>27417</td>\n",
       "      <td>Shankar Traders</td>\n",
       "    </tr>\n",
       "    <tr>\n",
       "      <th>...</th>\n",
       "      <td>...</td>\n",
       "      <td>...</td>\n",
       "      <td>...</td>\n",
       "      <td>...</td>\n",
       "      <td>...</td>\n",
       "      <td>...</td>\n",
       "      <td>...</td>\n",
       "      <td>...</td>\n",
       "    </tr>\n",
       "    <tr>\n",
       "      <th>43667</th>\n",
       "      <td>1</td>\n",
       "      <td>3050</td>\n",
       "      <td>305.0</td>\n",
       "      <td>1970-01-01 00:00:00.000000027</td>\n",
       "      <td>27</td>\n",
       "      <td>F&amp;B</td>\n",
       "      <td>26865</td>\n",
       "      <td>Cuttack Curtain Corner</td>\n",
       "    </tr>\n",
       "    <tr>\n",
       "      <th>43668</th>\n",
       "      <td>1</td>\n",
       "      <td>3120</td>\n",
       "      <td>312.0</td>\n",
       "      <td>1970-01-01 00:00:00.000000031</td>\n",
       "      <td>31</td>\n",
       "      <td>F&amp;B</td>\n",
       "      <td>27128</td>\n",
       "      <td>Cuttack Curtain Corner</td>\n",
       "    </tr>\n",
       "    <tr>\n",
       "      <th>43669</th>\n",
       "      <td>1</td>\n",
       "      <td>1200</td>\n",
       "      <td>120.0</td>\n",
       "      <td>1970-01-01 00:00:00.000000025</td>\n",
       "      <td>25</td>\n",
       "      <td>F&amp;B</td>\n",
       "      <td>28814</td>\n",
       "      <td>Cuttack Curtain Corner</td>\n",
       "    </tr>\n",
       "    <tr>\n",
       "      <th>43670</th>\n",
       "      <td>1</td>\n",
       "      <td>20</td>\n",
       "      <td>2.0</td>\n",
       "      <td>1970-01-01 00:00:00.000000002</td>\n",
       "      <td>2</td>\n",
       "      <td>Other</td>\n",
       "      <td>29107</td>\n",
       "      <td>Rourkela Rice Retail</td>\n",
       "    </tr>\n",
       "    <tr>\n",
       "      <th>43671</th>\n",
       "      <td>1</td>\n",
       "      <td>20</td>\n",
       "      <td>2.0</td>\n",
       "      <td>1970-01-01 00:00:00.000000002</td>\n",
       "      <td>2</td>\n",
       "      <td>Other</td>\n",
       "      <td>29107</td>\n",
       "      <td>Rourkela Rice Retail</td>\n",
       "    </tr>\n",
       "  </tbody>\n",
       "</table>\n",
       "<p>43672 rows × 8 columns</p>\n",
       "</div>"
      ],
      "text/plain": [
       "       Trx_Rank  Points  Trx_Vlu                       Trx_Age  Customer_Age  \\\n",
       "0             1   20140   2014.0 1970-01-01 00:00:00.000000362           362   \n",
       "1             1   11200   1120.0 1970-01-01 00:00:00.000000371           368   \n",
       "2             1    8500    850.0 1970-01-01 00:00:00.000000368           368   \n",
       "3             1    1980    198.0 1970-01-01 00:00:00.000000558            34   \n",
       "4             1    2400    240.0 1970-01-01 00:00:00.000000413           413   \n",
       "...         ...     ...      ...                           ...           ...   \n",
       "43667         1    3050    305.0 1970-01-01 00:00:00.000000027            27   \n",
       "43668         1    3120    312.0 1970-01-01 00:00:00.000000031            31   \n",
       "43669         1    1200    120.0 1970-01-01 00:00:00.000000025            25   \n",
       "43670         1      20      2.0 1970-01-01 00:00:00.000000002             2   \n",
       "43671         1      20      2.0 1970-01-01 00:00:00.000000002             2   \n",
       "\n",
       "      Category In English  User_Id                Mer_Name  \n",
       "0                 Fashion    21053         Shankar Traders  \n",
       "1                 Fashion    26472         Shankar Traders  \n",
       "2                 Fashion    26472         Shankar Traders  \n",
       "3                 Fashion    27075         Shankar Traders  \n",
       "4                 Fashion    27417         Shankar Traders  \n",
       "...                   ...      ...                     ...  \n",
       "43667                 F&B    26865  Cuttack Curtain Corner  \n",
       "43668                 F&B    27128  Cuttack Curtain Corner  \n",
       "43669                 F&B    28814  Cuttack Curtain Corner  \n",
       "43670               Other    29107    Rourkela Rice Retail  \n",
       "43671               Other    29107    Rourkela Rice Retail  \n",
       "\n",
       "[43672 rows x 8 columns]"
      ]
     },
     "execution_count": 109,
     "metadata": {},
     "output_type": "execute_result"
    }
   ],
   "source": [
    "df"
   ]
  },
  {
   "cell_type": "code",
   "execution_count": 105,
   "id": "ea119610",
   "metadata": {},
   "outputs": [
    {
     "data": {
      "text/plain": [
       "0    33457\n",
       "Name: recency, dtype: int64"
      ]
     },
     "execution_count": 105,
     "metadata": {},
     "output_type": "execute_result"
    }
   ],
   "source": [
    "rfm_data['recency'].value_counts()"
   ]
  },
  {
   "cell_type": "code",
   "execution_count": 76,
   "id": "101ac5e7",
   "metadata": {},
   "outputs": [
    {
     "data": {
      "text/plain": [
       "56"
      ]
     },
     "execution_count": 76,
     "metadata": {},
     "output_type": "execute_result"
    }
   ],
   "source": [
    "len(df['Mer_Name'].unique())"
   ]
  },
  {
   "cell_type": "code",
   "execution_count": 74,
   "id": "12b05136",
   "metadata": {},
   "outputs": [
    {
     "data": {
      "text/html": [
       "<div>\n",
       "<style scoped>\n",
       "    .dataframe tbody tr th:only-of-type {\n",
       "        vertical-align: middle;\n",
       "    }\n",
       "\n",
       "    .dataframe tbody tr th {\n",
       "        vertical-align: top;\n",
       "    }\n",
       "\n",
       "    .dataframe thead th {\n",
       "        text-align: right;\n",
       "    }\n",
       "</style>\n",
       "<table border=\"1\" class=\"dataframe\">\n",
       "  <thead>\n",
       "    <tr style=\"text-align: right;\">\n",
       "      <th></th>\n",
       "      <th>Trx_Rank</th>\n",
       "      <th>Points</th>\n",
       "      <th>Trx_Vlu</th>\n",
       "      <th>Trx_Age</th>\n",
       "      <th>Customer_Age</th>\n",
       "      <th>Category In English</th>\n",
       "      <th>User_Id</th>\n",
       "      <th>Mer_Name</th>\n",
       "    </tr>\n",
       "  </thead>\n",
       "  <tbody>\n",
       "    <tr>\n",
       "      <th>0</th>\n",
       "      <td>1</td>\n",
       "      <td>20140</td>\n",
       "      <td>2014.0</td>\n",
       "      <td>362</td>\n",
       "      <td>362</td>\n",
       "      <td>Fashion</td>\n",
       "      <td>21053</td>\n",
       "      <td>Shankar Traders</td>\n",
       "    </tr>\n",
       "    <tr>\n",
       "      <th>1</th>\n",
       "      <td>1</td>\n",
       "      <td>11200</td>\n",
       "      <td>1120.0</td>\n",
       "      <td>371</td>\n",
       "      <td>368</td>\n",
       "      <td>Fashion</td>\n",
       "      <td>26472</td>\n",
       "      <td>Shankar Traders</td>\n",
       "    </tr>\n",
       "    <tr>\n",
       "      <th>2</th>\n",
       "      <td>1</td>\n",
       "      <td>8500</td>\n",
       "      <td>850.0</td>\n",
       "      <td>368</td>\n",
       "      <td>368</td>\n",
       "      <td>Fashion</td>\n",
       "      <td>26472</td>\n",
       "      <td>Shankar Traders</td>\n",
       "    </tr>\n",
       "    <tr>\n",
       "      <th>3</th>\n",
       "      <td>1</td>\n",
       "      <td>1980</td>\n",
       "      <td>198.0</td>\n",
       "      <td>558</td>\n",
       "      <td>34</td>\n",
       "      <td>Fashion</td>\n",
       "      <td>27075</td>\n",
       "      <td>Shankar Traders</td>\n",
       "    </tr>\n",
       "    <tr>\n",
       "      <th>4</th>\n",
       "      <td>1</td>\n",
       "      <td>2400</td>\n",
       "      <td>240.0</td>\n",
       "      <td>413</td>\n",
       "      <td>413</td>\n",
       "      <td>Fashion</td>\n",
       "      <td>27417</td>\n",
       "      <td>Shankar Traders</td>\n",
       "    </tr>\n",
       "    <tr>\n",
       "      <th>...</th>\n",
       "      <td>...</td>\n",
       "      <td>...</td>\n",
       "      <td>...</td>\n",
       "      <td>...</td>\n",
       "      <td>...</td>\n",
       "      <td>...</td>\n",
       "      <td>...</td>\n",
       "      <td>...</td>\n",
       "    </tr>\n",
       "    <tr>\n",
       "      <th>43667</th>\n",
       "      <td>1</td>\n",
       "      <td>3050</td>\n",
       "      <td>305.0</td>\n",
       "      <td>27</td>\n",
       "      <td>27</td>\n",
       "      <td>F&amp;B</td>\n",
       "      <td>26865</td>\n",
       "      <td>Cuttack Curtain Corner</td>\n",
       "    </tr>\n",
       "    <tr>\n",
       "      <th>43668</th>\n",
       "      <td>1</td>\n",
       "      <td>3120</td>\n",
       "      <td>312.0</td>\n",
       "      <td>31</td>\n",
       "      <td>31</td>\n",
       "      <td>F&amp;B</td>\n",
       "      <td>27128</td>\n",
       "      <td>Cuttack Curtain Corner</td>\n",
       "    </tr>\n",
       "    <tr>\n",
       "      <th>43669</th>\n",
       "      <td>1</td>\n",
       "      <td>1200</td>\n",
       "      <td>120.0</td>\n",
       "      <td>25</td>\n",
       "      <td>25</td>\n",
       "      <td>F&amp;B</td>\n",
       "      <td>28814</td>\n",
       "      <td>Cuttack Curtain Corner</td>\n",
       "    </tr>\n",
       "    <tr>\n",
       "      <th>43670</th>\n",
       "      <td>1</td>\n",
       "      <td>20</td>\n",
       "      <td>2.0</td>\n",
       "      <td>2</td>\n",
       "      <td>2</td>\n",
       "      <td>Other</td>\n",
       "      <td>29107</td>\n",
       "      <td>Rourkela Rice Retail</td>\n",
       "    </tr>\n",
       "    <tr>\n",
       "      <th>43671</th>\n",
       "      <td>1</td>\n",
       "      <td>20</td>\n",
       "      <td>2.0</td>\n",
       "      <td>2</td>\n",
       "      <td>2</td>\n",
       "      <td>Other</td>\n",
       "      <td>29107</td>\n",
       "      <td>Rourkela Rice Retail</td>\n",
       "    </tr>\n",
       "  </tbody>\n",
       "</table>\n",
       "<p>43672 rows × 8 columns</p>\n",
       "</div>"
      ],
      "text/plain": [
       "       Trx_Rank  Points  Trx_Vlu  Trx_Age  Customer_Age Category In English  \\\n",
       "0             1   20140   2014.0      362           362             Fashion   \n",
       "1             1   11200   1120.0      371           368             Fashion   \n",
       "2             1    8500    850.0      368           368             Fashion   \n",
       "3             1    1980    198.0      558            34             Fashion   \n",
       "4             1    2400    240.0      413           413             Fashion   \n",
       "...         ...     ...      ...      ...           ...                 ...   \n",
       "43667         1    3050    305.0       27            27                 F&B   \n",
       "43668         1    3120    312.0       31            31                 F&B   \n",
       "43669         1    1200    120.0       25            25                 F&B   \n",
       "43670         1      20      2.0        2             2               Other   \n",
       "43671         1      20      2.0        2             2               Other   \n",
       "\n",
       "       User_Id                Mer_Name  \n",
       "0        21053         Shankar Traders  \n",
       "1        26472         Shankar Traders  \n",
       "2        26472         Shankar Traders  \n",
       "3        27075         Shankar Traders  \n",
       "4        27417         Shankar Traders  \n",
       "...        ...                     ...  \n",
       "43667    26865  Cuttack Curtain Corner  \n",
       "43668    27128  Cuttack Curtain Corner  \n",
       "43669    28814  Cuttack Curtain Corner  \n",
       "43670    29107    Rourkela Rice Retail  \n",
       "43671    29107    Rourkela Rice Retail  \n",
       "\n",
       "[43672 rows x 8 columns]"
      ]
     },
     "execution_count": 74,
     "metadata": {},
     "output_type": "execute_result"
    }
   ],
   "source": [
    "df"
   ]
  },
  {
   "cell_type": "code",
   "execution_count": 70,
   "id": "d21093e5",
   "metadata": {},
   "outputs": [],
   "source": [
    "from sklearn.compose import ColumnTransformer\n",
    "from sklearn.pipeline import Pipeline\n",
    "from sklearn.preprocessing import OneHotEncoder , RobustScaler , StandardScaler\n",
    "from category_encoders.binary import BinaryEncoder\n",
    "from kneed import KneeLocator\n",
    "from sklearn.datasets import make_blobs\n",
    "from sklearn.cluster import KMeans\n",
    "from sklearn.metrics import silhouette_score\n",
    "from sklearn.preprocessing import StandardScaler\n",
    "from sklearn.model_selection import cross_validate"
   ]
  },
  {
   "cell_type": "code",
   "execution_count": 71,
   "id": "cf4baa8e",
   "metadata": {},
   "outputs": [],
   "source": [
    "    Encoder = ColumnTransformer(transformers=[  (\"OHE\" , OneHotEncoder(sparse=False , drop=\"first\") , [\"Category In English\"]) , (\"LE\",LabelEncoder() , [\"Mer_Name\"])] , remainder=\"passthrough\")"
   ]
  },
  {
   "cell_type": "code",
   "execution_count": 72,
   "id": "49c7edac",
   "metadata": {},
   "outputs": [],
   "source": [
    "from sklearn.preprocessing import LabelEncoder\n",
    "\n",
    "# Assuming 'df' is your DataFrame\n",
    "label_encoder = LabelEncoder()\n",
    "df['Mer_Name'] = label_encoder.fit_transform(df['Mer_Name'])\n"
   ]
  },
  {
   "cell_type": "code",
   "execution_count": 73,
   "id": "46c5754d",
   "metadata": {},
   "outputs": [],
   "source": [
    "from sklearn.preprocessing import OneHotEncoder\n",
    "import pandas as pd\n",
    "\n",
    "# Assuming 'df' is your DataFrame\n",
    "encoder = OneHotEncoder(sparse=False, drop='first')\n",
    "\n",
    "# Reshape the column to a 2D array as OneHotEncoder expects a 2D input\n",
    "data_2d = df['Category In English'].values.reshape(-1, 1)\n",
    "\n",
    "# Fit and transform the data\n",
    "encoded_data = encoder.fit_transform(data_2d)\n",
    "\n",
    "# Create a DataFrame with the encoded data\n",
    "encoded_df = pd.DataFrame(encoded_data, columns=encoder.get_feature_names_out(['Category In English']))\n"
   ]
  },
  {
   "cell_type": "code",
   "execution_count": 74,
   "id": "28b12dd3",
   "metadata": {},
   "outputs": [],
   "source": [
    "import pandas as pd\n",
    "\n",
    "# Assuming 'df' is your DataFrame and 'Mer_Name' is the column to be one-hot encoded\n",
    "df = pd.get_dummies(df, columns=['Category In English'], prefix='Category')\n"
   ]
  },
  {
   "cell_type": "code",
   "execution_count": 75,
   "id": "b201966d",
   "metadata": {},
   "outputs": [
    {
     "data": {
      "text/html": [
       "<div>\n",
       "<style scoped>\n",
       "    .dataframe tbody tr th:only-of-type {\n",
       "        vertical-align: middle;\n",
       "    }\n",
       "\n",
       "    .dataframe tbody tr th {\n",
       "        vertical-align: top;\n",
       "    }\n",
       "\n",
       "    .dataframe thead th {\n",
       "        text-align: right;\n",
       "    }\n",
       "</style>\n",
       "<table border=\"1\" class=\"dataframe\">\n",
       "  <thead>\n",
       "    <tr style=\"text-align: right;\">\n",
       "      <th></th>\n",
       "      <th>Trx_Rank</th>\n",
       "      <th>Points</th>\n",
       "      <th>Trx_Vlu</th>\n",
       "      <th>Trx_Age</th>\n",
       "      <th>Customer_Age</th>\n",
       "      <th>User_Id</th>\n",
       "      <th>Mer_Name</th>\n",
       "      <th>Category_Electronics</th>\n",
       "      <th>Category_F&amp;B</th>\n",
       "      <th>Category_Fashion</th>\n",
       "      <th>Category_Grocery</th>\n",
       "      <th>Category_Health &amp; Beauty</th>\n",
       "      <th>Category_Other</th>\n",
       "      <th>Category_Transportaion</th>\n",
       "    </tr>\n",
       "  </thead>\n",
       "  <tbody>\n",
       "    <tr>\n",
       "      <th>0</th>\n",
       "      <td>1</td>\n",
       "      <td>20140</td>\n",
       "      <td>2014.0</td>\n",
       "      <td>362</td>\n",
       "      <td>362</td>\n",
       "      <td>21053</td>\n",
       "      <td>46</td>\n",
       "      <td>0</td>\n",
       "      <td>0</td>\n",
       "      <td>1</td>\n",
       "      <td>0</td>\n",
       "      <td>0</td>\n",
       "      <td>0</td>\n",
       "      <td>0</td>\n",
       "    </tr>\n",
       "    <tr>\n",
       "      <th>1</th>\n",
       "      <td>1</td>\n",
       "      <td>11200</td>\n",
       "      <td>1120.0</td>\n",
       "      <td>371</td>\n",
       "      <td>368</td>\n",
       "      <td>26472</td>\n",
       "      <td>46</td>\n",
       "      <td>0</td>\n",
       "      <td>0</td>\n",
       "      <td>1</td>\n",
       "      <td>0</td>\n",
       "      <td>0</td>\n",
       "      <td>0</td>\n",
       "      <td>0</td>\n",
       "    </tr>\n",
       "    <tr>\n",
       "      <th>2</th>\n",
       "      <td>1</td>\n",
       "      <td>8500</td>\n",
       "      <td>850.0</td>\n",
       "      <td>368</td>\n",
       "      <td>368</td>\n",
       "      <td>26472</td>\n",
       "      <td>46</td>\n",
       "      <td>0</td>\n",
       "      <td>0</td>\n",
       "      <td>1</td>\n",
       "      <td>0</td>\n",
       "      <td>0</td>\n",
       "      <td>0</td>\n",
       "      <td>0</td>\n",
       "    </tr>\n",
       "    <tr>\n",
       "      <th>3</th>\n",
       "      <td>1</td>\n",
       "      <td>1980</td>\n",
       "      <td>198.0</td>\n",
       "      <td>558</td>\n",
       "      <td>34</td>\n",
       "      <td>27075</td>\n",
       "      <td>46</td>\n",
       "      <td>0</td>\n",
       "      <td>0</td>\n",
       "      <td>1</td>\n",
       "      <td>0</td>\n",
       "      <td>0</td>\n",
       "      <td>0</td>\n",
       "      <td>0</td>\n",
       "    </tr>\n",
       "    <tr>\n",
       "      <th>4</th>\n",
       "      <td>1</td>\n",
       "      <td>2400</td>\n",
       "      <td>240.0</td>\n",
       "      <td>413</td>\n",
       "      <td>413</td>\n",
       "      <td>27417</td>\n",
       "      <td>46</td>\n",
       "      <td>0</td>\n",
       "      <td>0</td>\n",
       "      <td>1</td>\n",
       "      <td>0</td>\n",
       "      <td>0</td>\n",
       "      <td>0</td>\n",
       "      <td>0</td>\n",
       "    </tr>\n",
       "    <tr>\n",
       "      <th>...</th>\n",
       "      <td>...</td>\n",
       "      <td>...</td>\n",
       "      <td>...</td>\n",
       "      <td>...</td>\n",
       "      <td>...</td>\n",
       "      <td>...</td>\n",
       "      <td>...</td>\n",
       "      <td>...</td>\n",
       "      <td>...</td>\n",
       "      <td>...</td>\n",
       "      <td>...</td>\n",
       "      <td>...</td>\n",
       "      <td>...</td>\n",
       "      <td>...</td>\n",
       "    </tr>\n",
       "    <tr>\n",
       "      <th>43667</th>\n",
       "      <td>1</td>\n",
       "      <td>3050</td>\n",
       "      <td>305.0</td>\n",
       "      <td>27</td>\n",
       "      <td>27</td>\n",
       "      <td>26865</td>\n",
       "      <td>8</td>\n",
       "      <td>0</td>\n",
       "      <td>1</td>\n",
       "      <td>0</td>\n",
       "      <td>0</td>\n",
       "      <td>0</td>\n",
       "      <td>0</td>\n",
       "      <td>0</td>\n",
       "    </tr>\n",
       "    <tr>\n",
       "      <th>43668</th>\n",
       "      <td>1</td>\n",
       "      <td>3120</td>\n",
       "      <td>312.0</td>\n",
       "      <td>31</td>\n",
       "      <td>31</td>\n",
       "      <td>27128</td>\n",
       "      <td>8</td>\n",
       "      <td>0</td>\n",
       "      <td>1</td>\n",
       "      <td>0</td>\n",
       "      <td>0</td>\n",
       "      <td>0</td>\n",
       "      <td>0</td>\n",
       "      <td>0</td>\n",
       "    </tr>\n",
       "    <tr>\n",
       "      <th>43669</th>\n",
       "      <td>1</td>\n",
       "      <td>1200</td>\n",
       "      <td>120.0</td>\n",
       "      <td>25</td>\n",
       "      <td>25</td>\n",
       "      <td>28814</td>\n",
       "      <td>8</td>\n",
       "      <td>0</td>\n",
       "      <td>1</td>\n",
       "      <td>0</td>\n",
       "      <td>0</td>\n",
       "      <td>0</td>\n",
       "      <td>0</td>\n",
       "      <td>0</td>\n",
       "    </tr>\n",
       "    <tr>\n",
       "      <th>43670</th>\n",
       "      <td>1</td>\n",
       "      <td>20</td>\n",
       "      <td>2.0</td>\n",
       "      <td>2</td>\n",
       "      <td>2</td>\n",
       "      <td>29107</td>\n",
       "      <td>44</td>\n",
       "      <td>0</td>\n",
       "      <td>0</td>\n",
       "      <td>0</td>\n",
       "      <td>0</td>\n",
       "      <td>0</td>\n",
       "      <td>1</td>\n",
       "      <td>0</td>\n",
       "    </tr>\n",
       "    <tr>\n",
       "      <th>43671</th>\n",
       "      <td>1</td>\n",
       "      <td>20</td>\n",
       "      <td>2.0</td>\n",
       "      <td>2</td>\n",
       "      <td>2</td>\n",
       "      <td>29107</td>\n",
       "      <td>44</td>\n",
       "      <td>0</td>\n",
       "      <td>0</td>\n",
       "      <td>0</td>\n",
       "      <td>0</td>\n",
       "      <td>0</td>\n",
       "      <td>1</td>\n",
       "      <td>0</td>\n",
       "    </tr>\n",
       "  </tbody>\n",
       "</table>\n",
       "<p>43672 rows × 14 columns</p>\n",
       "</div>"
      ],
      "text/plain": [
       "       Trx_Rank  Points  Trx_Vlu  Trx_Age  Customer_Age  User_Id  Mer_Name  \\\n",
       "0             1   20140   2014.0      362           362    21053        46   \n",
       "1             1   11200   1120.0      371           368    26472        46   \n",
       "2             1    8500    850.0      368           368    26472        46   \n",
       "3             1    1980    198.0      558            34    27075        46   \n",
       "4             1    2400    240.0      413           413    27417        46   \n",
       "...         ...     ...      ...      ...           ...      ...       ...   \n",
       "43667         1    3050    305.0       27            27    26865         8   \n",
       "43668         1    3120    312.0       31            31    27128         8   \n",
       "43669         1    1200    120.0       25            25    28814         8   \n",
       "43670         1      20      2.0        2             2    29107        44   \n",
       "43671         1      20      2.0        2             2    29107        44   \n",
       "\n",
       "       Category_Electronics  Category_F&B  Category_Fashion  Category_Grocery  \\\n",
       "0                         0             0                 1                 0   \n",
       "1                         0             0                 1                 0   \n",
       "2                         0             0                 1                 0   \n",
       "3                         0             0                 1                 0   \n",
       "4                         0             0                 1                 0   \n",
       "...                     ...           ...               ...               ...   \n",
       "43667                     0             1                 0                 0   \n",
       "43668                     0             1                 0                 0   \n",
       "43669                     0             1                 0                 0   \n",
       "43670                     0             0                 0                 0   \n",
       "43671                     0             0                 0                 0   \n",
       "\n",
       "       Category_Health & Beauty  Category_Other  Category_Transportaion  \n",
       "0                             0               0                       0  \n",
       "1                             0               0                       0  \n",
       "2                             0               0                       0  \n",
       "3                             0               0                       0  \n",
       "4                             0               0                       0  \n",
       "...                         ...             ...                     ...  \n",
       "43667                         0               0                       0  \n",
       "43668                         0               0                       0  \n",
       "43669                         0               0                       0  \n",
       "43670                         0               1                       0  \n",
       "43671                         0               1                       0  \n",
       "\n",
       "[43672 rows x 14 columns]"
      ]
     },
     "execution_count": 75,
     "metadata": {},
     "output_type": "execute_result"
    }
   ],
   "source": [
    "df"
   ]
  },
  {
   "cell_type": "code",
   "execution_count": 19,
   "id": "4663d6e3",
   "metadata": {},
   "outputs": [],
   "source": [
    "df.drop(['User_Id'], axis=1, inplace=True)"
   ]
  },
  {
   "cell_type": "code",
   "execution_count": 20,
   "id": "8bfea77f",
   "metadata": {},
   "outputs": [
    {
     "data": {
      "text/html": [
       "<div>\n",
       "<style scoped>\n",
       "    .dataframe tbody tr th:only-of-type {\n",
       "        vertical-align: middle;\n",
       "    }\n",
       "\n",
       "    .dataframe tbody tr th {\n",
       "        vertical-align: top;\n",
       "    }\n",
       "\n",
       "    .dataframe thead th {\n",
       "        text-align: right;\n",
       "    }\n",
       "</style>\n",
       "<table border=\"1\" class=\"dataframe\">\n",
       "  <thead>\n",
       "    <tr style=\"text-align: right;\">\n",
       "      <th></th>\n",
       "      <th>Trx_Rank</th>\n",
       "      <th>Points</th>\n",
       "      <th>Trx_Vlu</th>\n",
       "      <th>Trx_Age</th>\n",
       "      <th>Customer_Age</th>\n",
       "      <th>Mer_Name</th>\n",
       "      <th>Category_Electronics</th>\n",
       "      <th>Category_F&amp;B</th>\n",
       "      <th>Category_Fashion</th>\n",
       "      <th>Category_Grocery</th>\n",
       "      <th>Category_Health &amp; Beauty</th>\n",
       "      <th>Category_Other</th>\n",
       "      <th>Category_Transportaion</th>\n",
       "    </tr>\n",
       "  </thead>\n",
       "  <tbody>\n",
       "    <tr>\n",
       "      <th>0</th>\n",
       "      <td>1</td>\n",
       "      <td>20140</td>\n",
       "      <td>2014.0</td>\n",
       "      <td>362</td>\n",
       "      <td>362</td>\n",
       "      <td>46</td>\n",
       "      <td>0</td>\n",
       "      <td>0</td>\n",
       "      <td>1</td>\n",
       "      <td>0</td>\n",
       "      <td>0</td>\n",
       "      <td>0</td>\n",
       "      <td>0</td>\n",
       "    </tr>\n",
       "    <tr>\n",
       "      <th>1</th>\n",
       "      <td>1</td>\n",
       "      <td>11200</td>\n",
       "      <td>1120.0</td>\n",
       "      <td>371</td>\n",
       "      <td>368</td>\n",
       "      <td>46</td>\n",
       "      <td>0</td>\n",
       "      <td>0</td>\n",
       "      <td>1</td>\n",
       "      <td>0</td>\n",
       "      <td>0</td>\n",
       "      <td>0</td>\n",
       "      <td>0</td>\n",
       "    </tr>\n",
       "    <tr>\n",
       "      <th>2</th>\n",
       "      <td>1</td>\n",
       "      <td>8500</td>\n",
       "      <td>850.0</td>\n",
       "      <td>368</td>\n",
       "      <td>368</td>\n",
       "      <td>46</td>\n",
       "      <td>0</td>\n",
       "      <td>0</td>\n",
       "      <td>1</td>\n",
       "      <td>0</td>\n",
       "      <td>0</td>\n",
       "      <td>0</td>\n",
       "      <td>0</td>\n",
       "    </tr>\n",
       "    <tr>\n",
       "      <th>3</th>\n",
       "      <td>1</td>\n",
       "      <td>1980</td>\n",
       "      <td>198.0</td>\n",
       "      <td>558</td>\n",
       "      <td>34</td>\n",
       "      <td>46</td>\n",
       "      <td>0</td>\n",
       "      <td>0</td>\n",
       "      <td>1</td>\n",
       "      <td>0</td>\n",
       "      <td>0</td>\n",
       "      <td>0</td>\n",
       "      <td>0</td>\n",
       "    </tr>\n",
       "    <tr>\n",
       "      <th>4</th>\n",
       "      <td>1</td>\n",
       "      <td>2400</td>\n",
       "      <td>240.0</td>\n",
       "      <td>413</td>\n",
       "      <td>413</td>\n",
       "      <td>46</td>\n",
       "      <td>0</td>\n",
       "      <td>0</td>\n",
       "      <td>1</td>\n",
       "      <td>0</td>\n",
       "      <td>0</td>\n",
       "      <td>0</td>\n",
       "      <td>0</td>\n",
       "    </tr>\n",
       "    <tr>\n",
       "      <th>...</th>\n",
       "      <td>...</td>\n",
       "      <td>...</td>\n",
       "      <td>...</td>\n",
       "      <td>...</td>\n",
       "      <td>...</td>\n",
       "      <td>...</td>\n",
       "      <td>...</td>\n",
       "      <td>...</td>\n",
       "      <td>...</td>\n",
       "      <td>...</td>\n",
       "      <td>...</td>\n",
       "      <td>...</td>\n",
       "      <td>...</td>\n",
       "    </tr>\n",
       "    <tr>\n",
       "      <th>43667</th>\n",
       "      <td>1</td>\n",
       "      <td>3050</td>\n",
       "      <td>305.0</td>\n",
       "      <td>27</td>\n",
       "      <td>27</td>\n",
       "      <td>8</td>\n",
       "      <td>0</td>\n",
       "      <td>1</td>\n",
       "      <td>0</td>\n",
       "      <td>0</td>\n",
       "      <td>0</td>\n",
       "      <td>0</td>\n",
       "      <td>0</td>\n",
       "    </tr>\n",
       "    <tr>\n",
       "      <th>43668</th>\n",
       "      <td>1</td>\n",
       "      <td>3120</td>\n",
       "      <td>312.0</td>\n",
       "      <td>31</td>\n",
       "      <td>31</td>\n",
       "      <td>8</td>\n",
       "      <td>0</td>\n",
       "      <td>1</td>\n",
       "      <td>0</td>\n",
       "      <td>0</td>\n",
       "      <td>0</td>\n",
       "      <td>0</td>\n",
       "      <td>0</td>\n",
       "    </tr>\n",
       "    <tr>\n",
       "      <th>43669</th>\n",
       "      <td>1</td>\n",
       "      <td>1200</td>\n",
       "      <td>120.0</td>\n",
       "      <td>25</td>\n",
       "      <td>25</td>\n",
       "      <td>8</td>\n",
       "      <td>0</td>\n",
       "      <td>1</td>\n",
       "      <td>0</td>\n",
       "      <td>0</td>\n",
       "      <td>0</td>\n",
       "      <td>0</td>\n",
       "      <td>0</td>\n",
       "    </tr>\n",
       "    <tr>\n",
       "      <th>43670</th>\n",
       "      <td>1</td>\n",
       "      <td>20</td>\n",
       "      <td>2.0</td>\n",
       "      <td>2</td>\n",
       "      <td>2</td>\n",
       "      <td>44</td>\n",
       "      <td>0</td>\n",
       "      <td>0</td>\n",
       "      <td>0</td>\n",
       "      <td>0</td>\n",
       "      <td>0</td>\n",
       "      <td>1</td>\n",
       "      <td>0</td>\n",
       "    </tr>\n",
       "    <tr>\n",
       "      <th>43671</th>\n",
       "      <td>1</td>\n",
       "      <td>20</td>\n",
       "      <td>2.0</td>\n",
       "      <td>2</td>\n",
       "      <td>2</td>\n",
       "      <td>44</td>\n",
       "      <td>0</td>\n",
       "      <td>0</td>\n",
       "      <td>0</td>\n",
       "      <td>0</td>\n",
       "      <td>0</td>\n",
       "      <td>1</td>\n",
       "      <td>0</td>\n",
       "    </tr>\n",
       "  </tbody>\n",
       "</table>\n",
       "<p>43672 rows × 13 columns</p>\n",
       "</div>"
      ],
      "text/plain": [
       "       Trx_Rank  Points  Trx_Vlu  Trx_Age  Customer_Age  Mer_Name  \\\n",
       "0             1   20140   2014.0      362           362        46   \n",
       "1             1   11200   1120.0      371           368        46   \n",
       "2             1    8500    850.0      368           368        46   \n",
       "3             1    1980    198.0      558            34        46   \n",
       "4             1    2400    240.0      413           413        46   \n",
       "...         ...     ...      ...      ...           ...       ...   \n",
       "43667         1    3050    305.0       27            27         8   \n",
       "43668         1    3120    312.0       31            31         8   \n",
       "43669         1    1200    120.0       25            25         8   \n",
       "43670         1      20      2.0        2             2        44   \n",
       "43671         1      20      2.0        2             2        44   \n",
       "\n",
       "       Category_Electronics  Category_F&B  Category_Fashion  Category_Grocery  \\\n",
       "0                         0             0                 1                 0   \n",
       "1                         0             0                 1                 0   \n",
       "2                         0             0                 1                 0   \n",
       "3                         0             0                 1                 0   \n",
       "4                         0             0                 1                 0   \n",
       "...                     ...           ...               ...               ...   \n",
       "43667                     0             1                 0                 0   \n",
       "43668                     0             1                 0                 0   \n",
       "43669                     0             1                 0                 0   \n",
       "43670                     0             0                 0                 0   \n",
       "43671                     0             0                 0                 0   \n",
       "\n",
       "       Category_Health & Beauty  Category_Other  Category_Transportaion  \n",
       "0                             0               0                       0  \n",
       "1                             0               0                       0  \n",
       "2                             0               0                       0  \n",
       "3                             0               0                       0  \n",
       "4                             0               0                       0  \n",
       "...                         ...             ...                     ...  \n",
       "43667                         0               0                       0  \n",
       "43668                         0               0                       0  \n",
       "43669                         0               0                       0  \n",
       "43670                         0               1                       0  \n",
       "43671                         0               1                       0  \n",
       "\n",
       "[43672 rows x 13 columns]"
      ]
     },
     "execution_count": 20,
     "metadata": {},
     "output_type": "execute_result"
    }
   ],
   "source": [
    "df"
   ]
  },
  {
   "cell_type": "code",
   "execution_count": 21,
   "id": "6eb191cf",
   "metadata": {},
   "outputs": [],
   "source": [
    "df = StandardScaler().fit_transform(df)"
   ]
  },
  {
   "cell_type": "code",
   "execution_count": 22,
   "id": "336aa577",
   "metadata": {},
   "outputs": [],
   "source": [
    "kmeans = KMeans(\n",
    "    init=\"k-means++\",\n",
    "    n_clusters=5,\n",
    "    n_init=20,\n",
    "    max_iter=500,\n",
    "    random_state=2\n",
    ")"
   ]
  },
  {
   "cell_type": "code",
   "execution_count": 23,
   "id": "b9d3b649",
   "metadata": {},
   "outputs": [
    {
     "data": {
      "text/plain": [
       "KMeans(max_iter=500, n_clusters=5, n_init=20, random_state=2)"
      ]
     },
     "execution_count": 23,
     "metadata": {},
     "output_type": "execute_result"
    }
   ],
   "source": [
    "kmeans.fit(df)"
   ]
  },
  {
   "cell_type": "code",
   "execution_count": 24,
   "id": "31f7a7e4",
   "metadata": {},
   "outputs": [
    {
     "name": "stdout",
     "output_type": "stream",
     "text": [
      "Inertia = 308929.0546005092\n",
      "Cluster centers are: [[ 0.07192299 -0.05349855 -0.05349855  0.440335    0.29537778 -0.94450914\n",
      "  -0.07244402  2.09407061 -0.28744522 -1.53788145 -0.18885671  0.14832877\n",
      "   0.26172563]\n",
      " [-0.01903401 -0.02767251 -0.02767251 -0.12222185 -0.07800831  0.54142308\n",
      "  -0.07244402 -0.4633905  -0.28744522  0.65024518 -0.18885671 -0.03282322\n",
      "  -0.05791647]\n",
      " [-0.09211728  0.20520555  0.20520555 -0.11777851 -0.03904729 -2.26723138\n",
      "  -0.07244402 -0.4633905   3.47892373 -1.53788145 -0.18885671 -0.03282322\n",
      "  -0.05791647]\n",
      " [ 1.08453621  3.27925655  3.27925655  0.12163334  0.07156455 -0.31701677\n",
      "  12.8409237  -0.4633905  -0.28744522 -1.38605226 -0.18885671 -0.03282322\n",
      "  -0.05791647]\n",
      " [ 0.03729733 -0.14303487 -0.14303487  0.41740986  0.11193339 -0.99799445\n",
      "  -0.07244402 -0.4633905  -0.28744522 -1.53788145  5.29501974 -0.03282322\n",
      "  -0.05791647]]\n",
      "The number of iterations until convergence is 10 iterations\n"
     ]
    }
   ],
   "source": [
    "# The lowest SSE value\n",
    "print(f\"Inertia = {kmeans.inertia_}\")\n",
    "\n",
    "# Final locations of the centroid\n",
    "print(f\"Cluster centers are: {kmeans.cluster_centers_}\")\n",
    "\n",
    "# The number of iterations required to converge\n",
    "print(f\"The number of iterations until convergence is {kmeans.n_iter_} iterations\")"
   ]
  },
  {
   "cell_type": "code",
   "execution_count": 30,
   "id": "78f2d9e3",
   "metadata": {},
   "outputs": [
    {
     "name": "stdout",
     "output_type": "stream",
     "text": [
      "[7 3 3 ... 2 4 4]\n"
     ]
    }
   ],
   "source": [
    "#Import required module\n",
    "from sklearn.cluster import KMeans\n",
    " \n",
    "#Initialize the class object\n",
    "kmeans = KMeans(n_clusters= 8)\n",
    " \n",
    "#predict the labels of clusters.\n",
    "label = kmeans.fit_predict(df)\n",
    " \n",
    "print(label)"
   ]
  },
  {
   "cell_type": "code",
   "execution_count": 31,
   "id": "9e7e0398",
   "metadata": {},
   "outputs": [
    {
     "data": {
      "image/png": "[encoded data removed]",
      "text/plain": [
       "<Figure size 432x288 with 1 Axes>"
      ]
     },
     "metadata": {
      "needs_background": "light"
     },
     "output_type": "display_data"
    }
   ],
   "source": [
    "import matplotlib.pyplot as plt\n",
    " \n",
    "#filter rows of original data\n",
    "filtered_label0 = df[label == 0]\n",
    " \n",
    "#plotting the results\n",
    "plt.scatter(filtered_label0[:,0] , filtered_label0[:,1])\n",
    "plt.show()"
   ]
  },
  {
   "cell_type": "code",
   "execution_count": 35,
   "id": "4feefe9f",
   "metadata": {},
   "outputs": [
    {
     "data": {
      "image/png": "[encoded data removed]",
      "text/plain": [
       "<Figure size 432x288 with 1 Axes>"
      ]
     },
     "metadata": {
      "needs_background": "light"
     },
     "output_type": "display_data"
    }
   ],
   "source": [
    "#filter rows of original data\n",
    "filtered_label2 = df[label == 3]\n",
    " \n",
    "filtered_label8 = df[label == 5]\n",
    " \n",
    "#Plotting the results\n",
    "plt.scatter(filtered_label2[:,0] , filtered_label2[:,1] , color = 'red')\n",
    "plt.scatter(filtered_label8[:,0] , filtered_label8[:,1] , color = 'black')\n",
    "plt.show()"
   ]
  },
  {
   "cell_type": "code",
   "execution_count": 36,
   "id": "cb70dd40",
   "metadata": {},
   "outputs": [
    {
     "data": {
      "image/png": "[encoded data removed]",
      "text/plain": [
       "<Figure size 432x288 with 1 Axes>"
      ]
     },
     "metadata": {
      "needs_background": "light"
     },
     "output_type": "display_data"
    }
   ],
   "source": [
    "#Getting unique labels\n",
    " \n",
    "u_labels = np.unique(label)\n",
    " \n",
    "#plotting the results:\n",
    " \n",
    "for i in u_labels:\n",
    "    plt.scatter(df[label == i , 0] , df[label == i , 1] , label = i)\n",
    "plt.legend()\n",
    "plt.show()"
   ]
  },
  {
   "cell_type": "code",
   "execution_count": 46,
   "id": "b2d7f4a5",
   "metadata": {},
   "outputs": [
    {
     "data": {
      "text/plain": [
       "2.4730040984287225"
      ]
     },
     "execution_count": 46,
     "metadata": {},
     "output_type": "execute_result"
    }
   ],
   "source": [
    "456130.4633861282/184443.87685242444"
   ]
  },
  {
   "cell_type": "code",
   "execution_count": 261,
   "id": "f2262f19",
   "metadata": {},
   "outputs": [
    {
     "data": {
      "text/plain": [
       "0.17591056980710756"
      ]
     },
     "execution_count": 261,
     "metadata": {},
     "output_type": "execute_result"
    }
   ],
   "source": [
    "62577762965.21206/355736230255.1284"
   ]
  },
  {
   "cell_type": "code",
   "execution_count": 29,
   "id": "ba084f0a",
   "metadata": {},
   "outputs": [
    {
     "data": {
      "text/plain": [
       "array([0, 3, 3, ..., 7, 4, 4])"
      ]
     },
     "execution_count": 29,
     "metadata": {},
     "output_type": "execute_result"
    }
   ],
   "source": [
    "kmeans.labels_"
   ]
  },
  {
   "cell_type": "code",
   "execution_count": 264,
   "id": "5fdf7304",
   "metadata": {},
   "outputs": [],
   "source": [
    "from mpl_toolkits.mplot3d import Axes3D"
   ]
  },
  {
   "cell_type": "code",
   "execution_count": 273,
   "id": "d3296b7c",
   "metadata": {},
   "outputs": [
    {
     "data": {
      "image/png": "[encoded data removed]",
      "text/plain": [
       "<Figure size 1440x720 with 1 Axes>"
      ]
     },
     "metadata": {
      "needs_background": "light"
     },
     "output_type": "display_data"
    }
   ],
   "source": [
    "#3D Plot as we did the clustering on the basis of 3 input features\n",
    "\n",
    "fig = plt.figure(figsize=(20,10))\n",
    "ax = fig.add_subplot(111, projection='3d')\n",
    "ax.scatter(df.Customer_Age[labels == 0], df[\"Trx_Age\"][labels == 0], df[\"Trx_Vlu\"][labels == 0], c='purple', s=60)\n",
    "ax.scatter(df.Customer_Age[labels == 2], df[\"Trx_Age\"][labels == 2], df[\"Trx_Vlu\"][labels == 2], c='blue', s=60)\n",
    "ax.scatter(df.Customer_Age[labels == 3], df[\"Trx_Age\"][labels == 3], df[\"Trx_Vlu\"][labels == 3], c='green', s=60)\n",
    "ax.scatter(df.Customer_Age[labels == 4], df[\"Trx_Age\"][labels == 4], df[\"Trx_Vlu\"][labels == 4], c='yellow', s=60)\n",
    "ax.view_init(35, 185)\n",
    "plt.title(\"3D view of the data distribution\\n=================================================================\", fontsize=20, color=\"green\")\n",
    "plt.xlabel(\"Age\", fontsize=15)\n",
    "plt.ylabel(\"Annual Income (k$)\", fontsize=15)\n",
    "ax.set_zlabel('Spending Score (1-100)', fontsize=15)\n",
    "plt.show()"
   ]
  },
  {
   "cell_type": "code",
   "execution_count": 210,
   "id": "9e2a489e",
   "metadata": {},
   "outputs": [],
   "source": [
    "from sklearn.cluster import AgglomerativeClustering\n",
    "from sklearn.decomposition import PCA"
   ]
  },
  {
   "cell_type": "code",
   "execution_count": 130,
   "id": "d02b0335",
   "metadata": {},
   "outputs": [
    {
     "name": "stdout",
     "output_type": "stream",
     "text": [
      "Inertia = 355736230255.1284\n",
      "Cluster centers are: [[ 1.10663964e+00  2.32956261e+03  2.32956261e+02  1.83040460e+02\n",
      "   1.42464437e+02  3.34360645e+01  3.98089172e-03  1.78657595e-01\n",
      "   7.30312681e-02  7.04617834e-01  3.53213665e-02  1.08569774e-03\n",
      "   3.30534646e-03]\n",
      " [ 1.14845551e+00  1.97459152e+04  1.97459152e+03  2.27610420e+02\n",
      "   1.75939604e+02  3.18833564e+01  2.02858460e-02  1.44767174e-01\n",
      "   1.39695712e-01  6.71738128e-01  1.84416782e-02  9.22083910e-04\n",
      "   4.14937759e-03]\n",
      " [ 4.21818182e+00  9.57812727e+04  9.57812727e+03  1.29527273e+02\n",
      "   6.37272727e+01  4.09818182e+01  3.45454545e-01  1.81818182e-02\n",
      "   5.45454545e-02  5.81818182e-01 -6.93889390e-18 -2.16840434e-19\n",
      "  -8.67361738e-19]]\n",
      "The number of iterations until convergence is 7 iterations\n"
     ]
    }
   ],
   "source": [
    "# The lowest SSE value\n",
    "print(f\"Inertia = {kmeans.inertia_}\")\n",
    "\n",
    "# Final locations of the centroid\n",
    "print(f\"Cluster centers are: {kmeans.cluster_centers_}\")\n",
    "\n",
    "# The number of iterations required to converge\n",
    "print(f\"The number of iterations until convergence is {kmeans.n_iter_} iterations\")"
   ]
  },
  {
   "cell_type": "code",
   "execution_count": 67,
   "id": "b54b22d3",
   "metadata": {},
   "outputs": [
    {
     "data": {
      "text/plain": [
       "12179.747212958226"
      ]
     },
     "execution_count": 67,
     "metadata": {},
     "output_type": "execute_result"
    }
   ],
   "source": [
    "from sklearn.metrics import calinski_harabasz_score\n",
    "\n",
    "kmeans = KMeans(n_clusters=8)\n",
    "kmeans.fit(df)\n",
    "calinski_harabasz_score_value = calinski_harabasz_score(df, kmeans.labels_)\n",
    "calinski_harabasz_score_value"
   ]
  },
  {
   "cell_type": "code",
   "execution_count": 37,
   "id": "c8ddef5a",
   "metadata": {},
   "outputs": [
    {
     "data": {
      "text/plain": [
       "12962.568011254882"
      ]
     },
     "execution_count": 37,
     "metadata": {},
     "output_type": "execute_result"
    }
   ],
   "source": [
    "from sklearn.metrics import calinski_harabasz_score\n",
    "\n",
    "kmeans = KMeans(n_clusters=8)\n",
    "kmeans.fit(df)\n",
    "calinski_harabasz_score_value = calinski_harabasz_score(df, kmeans.labels_)\n",
    "calinski_harabasz_score_value"
   ]
  },
  {
   "cell_type": "code",
   "execution_count": 69,
   "id": "2f7b8220",
   "metadata": {},
   "outputs": [
    {
     "data": {
      "image/png": "[encoded data removed]",
      "text/plain": [
       "<Figure size 432x288 with 1 Axes>"
      ]
     },
     "metadata": {
      "needs_background": "light"
     },
     "output_type": "display_data"
    }
   ],
   "source": [
    "import matplotlib.pyplot as plt\n",
    "\n",
    "kmeans = KMeans(n_clusters=8)\n",
    "kmeans.fit(df)\n",
    "plt.scatter(df[:, 0], df[:, 1], c=kmeans.labels_, cmap='viridis')\n",
    "plt.scatter(kmeans.cluster_centers_[:, 0], kmeans.cluster_centers_[:, 1], marker='x', s=200, linewidths=3, color='r')\n",
    "plt.show()\n"
   ]
  },
  {
   "cell_type": "code",
   "execution_count": 71,
   "id": "95a9c81e",
   "metadata": {},
   "outputs": [
    {
     "data": {
      "image/png": "[encoded data removed]",
      "text/plain": [
       "<Figure size 432x288 with 1 Axes>"
      ]
     },
     "metadata": {
      "needs_background": "light"
     },
     "output_type": "display_data"
    }
   ],
   "source": [
    "from mpl_toolkits.mplot3d import Axes3D\n",
    "\n",
    "kmeans = KMeans(n_clusters=8)\n",
    "kmeans.fit(df)\n",
    "\n",
    "fig = plt.figure()\n",
    "ax = fig.add_subplot(111, projection='3d')\n",
    "ax.scatter(df[:, 0], df[:, 1], df[:, 2], c=kmeans.labels_, cmap='viridis')\n",
    "ax.scatter(kmeans.cluster_centers_[:, 0], kmeans.cluster_centers_[:, 1], kmeans.cluster_centers_[:, 2],\n",
    "           marker='x', s=200, linewidths=3, color='r')\n",
    "plt.show()\n"
   ]
  },
  {
   "cell_type": "code",
   "execution_count": 72,
   "id": "a268a97c",
   "metadata": {},
   "outputs": [
    {
     "data": {
      "image/png": "[encoded data removed]",
      "text/plain": [
       "<Figure size 432x288 with 1 Axes>"
      ]
     },
     "metadata": {
      "needs_background": "light"
     },
     "output_type": "display_data"
    }
   ],
   "source": [
    "import matplotlib.pyplot as plt\n",
    "\n",
    "inertias = []\n",
    "for k in range(1, 11):\n",
    "    kmeans = KMeans(n_clusters=8)\n",
    "    kmeans.fit(df)\n",
    "    inertias.append(kmeans.inertia_)\n",
    "\n",
    "plt.plot(range(1, 11), inertias, marker='o')\n",
    "plt.title('Elbow Method for Optimal K')\n",
    "plt.xlabel('Number of Clusters (K)')\n",
    "plt.ylabel('Inertia')\n",
    "plt.show()\n"
   ]
  },
  {
   "cell_type": "code",
   "execution_count": 30,
   "id": "e00b574f",
   "metadata": {},
   "outputs": [],
   "source": [
    "# A list holds the SSE values for each k\n",
    "sse = []\n",
    "for k in range(1, 11):\n",
    "    kmeans = KMeans(init=\"random\", n_clusters=k, n_init=10, max_iter=300, random_state=42)\n",
    "    kmeans.fit(X)\n",
    "    sse.append(kmeans.inertia_)"
   ]
  },
  {
   "cell_type": "code",
   "execution_count": 31,
   "id": "07668a21",
   "metadata": {},
   "outputs": [
    {
     "data": {
      "image/png": "[encoded data removed]",
      "text/plain": [
       "<Figure size 432x288 with 1 Axes>"
      ]
     },
     "metadata": {
      "needs_background": "light"
     },
     "output_type": "display_data"
    }
   ],
   "source": [
    "plt.plot(range(1, 11), sse)\n",
    "plt.xticks(range(1, 11))\n",
    "plt.xlabel(\"Number of Clusters\")\n",
    "plt.ylabel(\"SSE\")\n",
    "plt.show()"
   ]
  },
  {
   "cell_type": "code",
   "execution_count": 32,
   "id": "b80e8065",
   "metadata": {},
   "outputs": [
    {
     "data": {
      "text/plain": [
       "6"
      ]
     },
     "execution_count": 32,
     "metadata": {},
     "output_type": "execute_result"
    }
   ],
   "source": [
    "kl = KneeLocator(range(1, 11), sse, curve=\"convex\", direction=\"decreasing\")\n",
    "\n",
    "kl.elbow"
   ]
  },
  {
   "cell_type": "code",
   "execution_count": 47,
   "id": "11c561d3",
   "metadata": {},
   "outputs": [],
   "source": [
    "# A list holds the silhouette coefficients for each k\n",
    "silhouette_coefficients = []\n",
    "\n",
    "# Notice you start at 2 clusters for silhouette coefficient\n",
    "for k in range(2, 11):\n",
    "    kmeans = KMeans(init=\"random\", n_clusters=k, n_init=10, max_iter=300, random_state=42)\n",
    "    kmeans.fit(df)\n",
    "    score = silhouette_score(df, kmeans.labels_)\n",
    "    silhouette_coefficients.append(score)"
   ]
  },
  {
   "cell_type": "code",
   "execution_count": 48,
   "id": "34781e85",
   "metadata": {},
   "outputs": [
    {
     "data": {
      "image/png": "[encoded data removed]",
      "text/plain": [
       "<Figure size 432x288 with 1 Axes>"
      ]
     },
     "metadata": {
      "needs_background": "light"
     },
     "output_type": "display_data"
    }
   ],
   "source": [
    "plt.plot(range(2, 11), silhouette_coefficients)\n",
    "plt.xticks(range(2, 11))\n",
    "plt.xlabel(\"Number of Clusters\")\n",
    "plt.ylabel(\"Silhouette Coefficient\")\n",
    "plt.show()"
   ]
  },
  {
   "cell_type": "code",
   "execution_count": 49,
   "id": "da0de446",
   "metadata": {},
   "outputs": [
    {
     "data": {
      "text/plain": [
       "3"
      ]
     },
     "execution_count": 49,
     "metadata": {},
     "output_type": "execute_result"
    }
   ],
   "source": [
    "kl = KneeLocator(range(3, 11), silhouette_coefficients[1:], curve=\"convex\", direction=\"decreasing\")\n",
    "\n",
    "kl.elbow"
   ]
  },
  {
   "cell_type": "code",
   "execution_count": 137,
   "id": "f63ef73d",
   "metadata": {},
   "outputs": [
    {
     "data": {
      "image/png": "[encoded data removed]",
      "text/plain": [
       "<Figure size 432x288 with 1 Axes>"
      ]
     },
     "metadata": {
      "needs_background": "light"
     },
     "output_type": "display_data"
    }
   ],
   "source": [
    "plt.plot(range(2, 11), silhouette_coefficients)\n",
    "plt.xticks(range(2, 11))\n",
    "plt.xlabel(\"Number of Clusters\")\n",
    "plt.ylabel(\"Silhouette Coefficient\")\n",
    "plt.show()"
   ]
  },
  {
   "cell_type": "code",
   "execution_count": 138,
   "id": "ba50622c",
   "metadata": {},
   "outputs": [
    {
     "data": {
      "text/plain": [
       "8"
      ]
     },
     "execution_count": 138,
     "metadata": {},
     "output_type": "execute_result"
    }
   ],
   "source": [
    "kl = KneeLocator(range(3, 11), silhouette_coefficients[1:], curve=\"convex\", direction=\"decreasing\")\n",
    "\n",
    "kl.elbow"
   ]
  },
  {
   "cell_type": "code",
   "execution_count": 38,
   "id": "62c9fc24",
   "metadata": {},
   "outputs": [],
   "source": [
    "import numpy as np\n",
    "\n",
    "from sklearn.cluster import DBSCAN\n",
    "from sklearn import metrics\n",
    "from sklearn.datasets import make_blobs\n",
    "from sklearn.preprocessing import StandardScaler\n",
    "from kneed import KneeLocator\n",
    "import matplotlib.pyplot as plt\n"
   ]
  },
  {
   "cell_type": "code",
   "execution_count": 40,
   "id": "3a72cc57",
   "metadata": {},
   "outputs": [
    {
     "data": {
      "image/png": "[encoded data removed]",
      "text/plain": [
       "<Figure size 432x288 with 1 Axes>"
      ]
     },
     "metadata": {
      "needs_background": "light"
     },
     "output_type": "display_data"
    }
   ],
   "source": [
    "minPts = 5\n",
    "#selection of eps value\n",
    "from sklearn.neighbors import NearestNeighbors\n",
    "nbrs=NearestNeighbors().fit(df)\n",
    "distances, indices = nbrs.kneighbors(df, minPts-1)\n",
    "kDis = distances[:, minPts-2]\n",
    "kDis.sort()\n",
    "kDis = kDis[range(len(kDis)-1,0,-1)]\n",
    "plt.plot(range(0,len(kDis)),kDis)\n",
    "plt.xlabel('Distance')\n",
    "plt.ylabel('eps')\n",
    "plt.show()"
   ]
  },
  {
   "cell_type": "code",
   "execution_count": 41,
   "id": "c84995b1",
   "metadata": {},
   "outputs": [
    {
     "data": {
      "image/png": "[encoded data removed]",
      "text/plain": [
       "<Figure size 432x432 with 1 Axes>"
      ]
     },
     "metadata": {
      "needs_background": "light"
     },
     "output_type": "display_data"
    }
   ],
   "source": [
    "kl = KneeLocator(range(0, len(kDis)), kDis, curve=\"convex\", direction=\"decreasing\")\n",
    "\n",
    "kl.plot_knee()"
   ]
  },
  {
   "cell_type": "code",
   "execution_count": 42,
   "id": "3ccc1f05",
   "metadata": {},
   "outputs": [
    {
     "name": "stdout",
     "output_type": "stream",
     "text": [
      "Value of eps = 3.4417590462185217\n"
     ]
    }
   ],
   "source": [
    "eps = kDis[kl.elbow]\n",
    "print(f\"Value of eps = {eps}\")"
   ]
  },
  {
   "cell_type": "code",
   "execution_count": 43,
   "id": "a2fdd690",
   "metadata": {},
   "outputs": [],
   "source": [
    "# Compute DBSCAN\n",
    "db = DBSCAN(eps=eps, min_samples=minPts).fit(X)\n",
    "labels = db.labels_\n",
    "# labels"
   ]
  },
  {
   "cell_type": "code",
   "execution_count": 56,
   "id": "da3489ad",
   "metadata": {},
   "outputs": [
    {
     "data": {
      "text/plain": [
       "array([[-0.19383143,  2.92335809,  2.92335809, ..., -0.18885671,\n",
       "        -0.03282322, -0.05791647],\n",
       "       [-0.19383143,  1.37027934,  1.37027934, ..., -0.18885671,\n",
       "        -0.03282322, -0.05791647],\n",
       "       [-0.19383143,  0.90122871,  0.90122871, ..., -0.18885671,\n",
       "        -0.03282322, -0.05791647],\n",
       "       ...,\n",
       "       [-0.19383143, -0.36694521, -0.36694521, ..., -0.18885671,\n",
       "        -0.03282322, -0.05791647],\n",
       "       [-0.19383143, -0.57193771, -0.57193771, ..., -0.18885671,\n",
       "        30.46623523, -0.05791647],\n",
       "       [-0.19383143, -0.57193771, -0.57193771, ..., -0.18885671,\n",
       "        30.46623523, -0.05791647]])"
      ]
     },
     "execution_count": 56,
     "metadata": {},
     "output_type": "execute_result"
    }
   ],
   "source": [
    "df"
   ]
  },
  {
   "cell_type": "code",
   "execution_count": 83,
   "id": "4f5312c1",
   "metadata": {},
   "outputs": [
    {
     "data": {
      "image/png": "[encoded data removed]",
      "text/plain": [
       "<Figure size 432x288 with 1 Axes>"
      ]
     },
     "metadata": {
      "needs_background": "light"
     },
     "output_type": "display_data"
    }
   ],
   "source": [
    "import matplotlib.pyplot as plt\n",
    "from sklearn.cluster import KMeans\n",
    "import pandas as pd\n",
    "from sklearn import preprocessing\n",
    "\n",
    "def main():\n",
    "    # Load data set\n",
    "    dataset = df.values.tolist()  # Assuming df is your Pandas DataFrame\n",
    "    # print(df)\n",
    "\n",
    "    # Normalize dataset\n",
    "    normalized_dataset = preprocessing.normalize(dataset)\n",
    "\n",
    "    # Apply KMeans clustering\n",
    "    kmeans = KMeans(n_clusters=11)\n",
    "    labels = kmeans.fit_predict(normalized_dataset)\n",
    "    centers = kmeans.cluster_centers_\n",
    "\n",
    "    # Plot the data points and cluster centers\n",
    "    plt.scatter(df.iloc[:, 0], df.iloc[:, 1], c=labels)  # Use .iloc for integer-location based indexing\n",
    "    plt.scatter(centers[:, 0], centers[:, 1], marker='x', color='r')\n",
    "    plt.xlabel('X')\n",
    "    plt.ylabel('Y')\n",
    "    plt.title('KMeans Clustering')\n",
    "    plt.show()\n",
    "\n",
    "if __name__ == \"__main__\":\n",
    "    main()\n"
   ]
  },
  {
   "cell_type": "code",
   "execution_count": 77,
   "id": "4bf67b9c",
   "metadata": {},
   "outputs": [
    {
     "data": {
      "image/png": "[encoded data removed]",
      "text/plain": [
       "<Figure size 432x288 with 1 Axes>"
      ]
     },
     "metadata": {
      "needs_background": "light"
     },
     "output_type": "display_data"
    }
   ],
   "source": [
    "import numpy as np\n",
    "import matplotlib.pyplot as plt\n",
    "from sklearn.datasets import make_blobs\n",
    "from sklearn.cluster import KMeans\n",
    "\n",
    "# Generate some random data\n",
    "X, y = make_blobs(n_samples=500, centers=4, random_state=42)\n",
    "\n",
    "# Perform k-means clustering\n",
    "kmeans = KMeans(n_clusters=4, random_state=42)\n",
    "kmeans.fit(X)\n",
    "\n",
    "# Get the cluster labels and cluster centers\n",
    "labels = kmeans.labels_\n",
    "centers = kmeans.cluster_centers_\n",
    "\n",
    "# Plot the data points and cluster centers\n",
    "plt.scatter(X[:, 0], X[:, 1], c=labels)\n",
    "plt.scatter(centers[:, 0], centers[:, 1], marker='x', color='r')\n",
    "plt.xlabel('X')\n",
    "plt.ylabel('Y')\n",
    "\n",
    "# Display the plot\n",
    "plt.show()"
   ]
  },
  {
   "cell_type": "code",
   "execution_count": null,
   "id": "259b7a47",
   "metadata": {},
   "outputs": [],
   "source": []
  }
 ],
 "metadata": {
  "kernelspec": {
   "display_name": "Python 3",
   "language": "python",
   "name": "python3"
  },
  "language_info": {
   "codemirror_mode": {
    "name": "ipython",
    "version": 3
   },
   "file_extension": ".py",
   "mimetype": "text/x-python",
   "name": "python",
   "nbconvert_exporter": "python",
   "pygments_lexer": "ipython3",
   "version": "3.7.6"
  }
 },
 "nbformat": 4,
 "nbformat_minor": 5
}
